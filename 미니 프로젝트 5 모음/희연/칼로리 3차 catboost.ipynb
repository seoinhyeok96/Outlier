{
 "cells": [
  {
   "cell_type": "code",
   "execution_count": 1,
   "id": "4b4e5f63",
   "metadata": {},
   "outputs": [],
   "source": [
    "import os\n",
    "import random\n",
    "import plotly \n",
    "import warnings\n",
    "import numpy as np\n",
    "import pandas as pd\n",
    "import seaborn as sns\n",
    "import missingno as msno\n",
    "import koreanize_matplotlib\n",
    "import plotly.express as px\n",
    "import statsmodels.api as sm\n",
    "import matplotlib.pyplot as plt\n",
    "from statsmodels.stats.outliers_influence import variance_inflation_factor\n",
    "\n",
    "\n",
    "warnings.filterwarnings(\"ignore\")\n",
    "# pd.options.display.max_rows = None\n",
    "# pd.options.display.max_columns = None\n",
    "%config InlineBackend.figure_format = 'retina'\n",
    "\n",
    "\n",
    "# plt.style.use('dark_background')\n",
    "plt.style.use('ggplot')\n",
    "plt.rcParams['font.family'] = 'NanumGothic'"
   ]
  },
  {
   "cell_type": "code",
   "execution_count": 20,
   "id": "1b0af1ee",
   "metadata": {},
   "outputs": [],
   "source": [
    "train = pd.read_csv('train_모든컬럼다있는버전3.csv')\n",
    "test = pd.read_csv('test_모든컬럼다있는버전3.csv')\n",
    "submission = pd.read_csv('sample_submission.csv')"
   ]
  },
  {
   "cell_type": "code",
   "execution_count": 21,
   "id": "b47d6111",
   "metadata": {},
   "outputs": [],
   "source": [
    "train = train.drop(columns=['키(cm)', '체중(kg)', '심박수(BPM)', '체온(C)', 'BMI', 'BMI_scaled'])\n",
    "test = test.drop(columns=['키(cm)', '체중(kg)', '심박수(BPM)', '체온(C)', 'BMI', 'BMI_scaled'])"
   ]
  },
  {
   "cell_type": "code",
   "execution_count": 22,
   "id": "a7f4f754",
   "metadata": {},
   "outputs": [
    {
     "name": "stdout",
     "output_type": "stream",
     "text": [
      "   VIF Factor         features\n",
      "0    8.020428          운동시간(분)\n",
      "1    6.503117               나이\n",
      "2   12.836019         키_scaled\n",
      "3   12.939352    체중(kg)_scaled\n",
      "4    2.734227  심박수(BPM)_scaled\n",
      "5    3.110449     체온(C)_scaled\n"
     ]
    }
   ],
   "source": [
    "# 종속 변수와 독립 변수 분리\n",
    "X = train[['운동시간(분)', '나이', '키_scaled', '체중(kg)_scaled', '심박수(BPM)_scaled', '체온(C)_scaled']]\n",
    "\n",
    "# VIF 계산\n",
    "\n",
    "vif = pd.DataFrame()\n",
    "vif[\"VIF Factor\"] = [variance_inflation_factor(X.values, i) for i in range(X.shape[1])]\n",
    "vif['features'] = X.columns\n",
    "print(vif)\n"
   ]
  },
  {
   "cell_type": "code",
   "execution_count": 25,
   "id": "5070cdeb",
   "metadata": {},
   "outputs": [
    {
     "name": "stdout",
     "output_type": "stream",
     "text": [
      "   VIF Factor         features\n",
      "0    7.919400          운동시간(분)\n",
      "1    6.464654               나이\n",
      "2   12.576436    체중(kg)_scaled\n",
      "3    2.740863  심박수(BPM)_scaled\n",
      "4    3.097452     체온(C)_scaled\n",
      "5   12.483087         키_scaled\n"
     ]
    }
   ],
   "source": [
    "# 종속 변수와 독립 변수 분리\n",
    "X = test[['운동시간(분)', '나이', '체중(kg)_scaled', '심박수(BPM)_scaled', '체온(C)_scaled', '키_scaled']]\n",
    "\n",
    "# VIF 계산\n",
    "\n",
    "vif = pd.DataFrame()\n",
    "vif[\"VIF Factor\"] = [variance_inflation_factor(X.values, i) for i in range(X.shape[1])]\n",
    "vif['features'] = X.columns\n",
    "print(vif)"
   ]
  },
  {
   "cell_type": "code",
   "execution_count": 15,
   "id": "9311aa80",
   "metadata": {},
   "outputs": [],
   "source": [
    "from sklearn.model_selection import GridSearchCV\n",
    "from catboost import CatBoostRegressor"
   ]
  },
  {
   "cell_type": "code",
   "execution_count": 16,
   "id": "1d3f67ea",
   "metadata": {},
   "outputs": [],
   "source": [
    "X = train.drop(columns=['소모칼로리'])\n",
    "y = train['소모칼로리']"
   ]
  },
  {
   "cell_type": "code",
   "execution_count": null,
   "id": "d5683256",
   "metadata": {},
   "outputs": [],
   "source": [
    "model = CatBoostRegressor(loss_function='RMSE', depth=6, iterations=1000, l2_leaf_reg=1, learning_rate=0.1) \n",
    "model.fit(X, y)\n",
    "\n",
    "# 모델 예측\n",
    "X_test = test \n",
    "y_predict = model.predict(X_test)\n",
    "y_predict[:5]"
   ]
  },
  {
   "cell_type": "code",
   "execution_count": 18,
   "id": "bb8934f6",
   "metadata": {},
   "outputs": [],
   "source": [
    "submission = pd.read_csv('sample_submission.csv')\n",
    "submission['Calories_Burned'] = y_predict"
   ]
  },
  {
   "cell_type": "code",
   "execution_count": 19,
   "id": "6e94a066",
   "metadata": {},
   "outputs": [],
   "source": [
    "submission.to_csv('캣부스트4.csv', index = False)"
   ]
  }
 ],
 "metadata": {
  "kernelspec": {
   "display_name": "Python 3 (ipykernel)",
   "language": "python",
   "name": "python3"
  },
  "language_info": {
   "codemirror_mode": {
    "name": "ipython",
    "version": 3
   },
   "file_extension": ".py",
   "mimetype": "text/x-python",
   "name": "python",
   "nbconvert_exporter": "python",
   "pygments_lexer": "ipython3",
   "version": "3.9.13"
  },
  "toc": {
   "base_numbering": 1,
   "nav_menu": {},
   "number_sections": true,
   "sideBar": true,
   "skip_h1_title": false,
   "title_cell": "Table of Contents",
   "title_sidebar": "Contents",
   "toc_cell": false,
   "toc_position": {},
   "toc_section_display": true,
   "toc_window_display": false
  }
 },
 "nbformat": 4,
 "nbformat_minor": 5
}
