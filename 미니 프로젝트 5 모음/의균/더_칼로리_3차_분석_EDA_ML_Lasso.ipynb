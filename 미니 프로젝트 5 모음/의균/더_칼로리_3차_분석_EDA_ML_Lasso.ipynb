{
 "cells": [
  {
   "cell_type": "markdown",
   "id": "96e84871",
   "metadata": {},
   "source": [
    "# 라이브러리 불러오기"
   ]
  },
  {
   "cell_type": "code",
   "execution_count": 145,
   "id": "13dc6f9d",
   "metadata": {},
   "outputs": [],
   "source": [
    "from glob import glob \n",
    "import pandas as pd \n",
    "import numpy as np\n",
    "import seaborn as sns\n",
    "import matplotlib.pyplot as plt\n",
    "import plotly.express as px \n",
    "import folium\n",
    "from sklearn.linear_model import Lasso\n",
    "from sklearn.model_selection import GridSearchCV\n",
    "from sklearn.model_selection import train_test_split\n",
    "from sklearn.metrics import mean_squared_error"
   ]
  },
  {
   "cell_type": "markdown",
   "id": "5b864f8d",
   "metadata": {},
   "source": [
    "# 데이터 불러오기"
   ]
  },
  {
   "cell_type": "code",
   "execution_count": 106,
   "id": "3c6543ac",
   "metadata": {},
   "outputs": [
    {
     "data": {
      "text/plain": [
       "['data/test.csv', 'data/train.csv', 'data/sample_submission.csv']"
      ]
     },
     "execution_count": 106,
     "metadata": {},
     "output_type": "execute_result"
    }
   ],
   "source": [
    "glob('data/*.csv')"
   ]
  },
  {
   "cell_type": "code",
   "execution_count": 107,
   "id": "f70a5ad4",
   "metadata": {},
   "outputs": [],
   "source": [
    "train = pd.read_csv(glob('data/*.csv')[1])\n",
    "test = pd.read_csv(glob('data/*.csv')[0])\n",
    "submission = pd.read_csv(glob('data/*.csv')[2])"
   ]
  },
  {
   "cell_type": "code",
   "execution_count": 108,
   "id": "e9b1401b",
   "metadata": {},
   "outputs": [],
   "source": [
    "test = test.set_index('ID')\n",
    "train = train.set_index('ID')\n",
    "submission = submission.set_index('ID')"
   ]
  },
  {
   "cell_type": "markdown",
   "id": "72041c6a",
   "metadata": {},
   "source": [
    "# 데이터 살펴보기"
   ]
  },
  {
   "cell_type": "markdown",
   "id": "9f6a5c8b",
   "metadata": {},
   "source": [
    "칼럼 설명\n",
    "- ID : 샘플 별 고유 id\n",
    "- Exercise_Duration  : 운동 시간(분)\n",
    "- Body_Temperature(F) : 체온\n",
    "- BPM : 심박수\n",
    "- Height(Feet) : 키(피트)\n",
    "- Height(Remainder_Inches) : 키(피트 계산 후 더해야 할 키)\n",
    "- Weight(lb) : 몸무게(파운드)\n",
    "- Weight_Status : 체중 상태\n",
    "- Gender : 성별\n",
    "- Age : 나이\n",
    "- Calories_Burned : 칼로리 소모량(목표 예측값)"
   ]
  },
  {
   "cell_type": "code",
   "execution_count": 109,
   "id": "d31cc821",
   "metadata": {},
   "outputs": [
    {
     "data": {
      "text/html": [
       "<div>\n",
       "<style scoped>\n",
       "    .dataframe tbody tr th:only-of-type {\n",
       "        vertical-align: middle;\n",
       "    }\n",
       "\n",
       "    .dataframe tbody tr th {\n",
       "        vertical-align: top;\n",
       "    }\n",
       "\n",
       "    .dataframe thead th {\n",
       "        text-align: right;\n",
       "    }\n",
       "</style>\n",
       "<table border=\"1\" class=\"dataframe\">\n",
       "  <thead>\n",
       "    <tr style=\"text-align: right;\">\n",
       "      <th></th>\n",
       "      <th>Exercise_Duration</th>\n",
       "      <th>Body_Temperature(F)</th>\n",
       "      <th>BPM</th>\n",
       "      <th>Height(Feet)</th>\n",
       "      <th>Height(Remainder_Inches)</th>\n",
       "      <th>Weight(lb)</th>\n",
       "      <th>Weight_Status</th>\n",
       "      <th>Gender</th>\n",
       "      <th>Age</th>\n",
       "      <th>Calories_Burned</th>\n",
       "    </tr>\n",
       "    <tr>\n",
       "      <th>ID</th>\n",
       "      <th></th>\n",
       "      <th></th>\n",
       "      <th></th>\n",
       "      <th></th>\n",
       "      <th></th>\n",
       "      <th></th>\n",
       "      <th></th>\n",
       "      <th></th>\n",
       "      <th></th>\n",
       "      <th></th>\n",
       "    </tr>\n",
       "  </thead>\n",
       "  <tbody>\n",
       "    <tr>\n",
       "      <th>TRAIN_0000</th>\n",
       "      <td>26.0</td>\n",
       "      <td>105.6</td>\n",
       "      <td>107.0</td>\n",
       "      <td>5.0</td>\n",
       "      <td>9.0</td>\n",
       "      <td>154.3</td>\n",
       "      <td>Normal Weight</td>\n",
       "      <td>F</td>\n",
       "      <td>45</td>\n",
       "      <td>166.0</td>\n",
       "    </tr>\n",
       "    <tr>\n",
       "      <th>TRAIN_0001</th>\n",
       "      <td>7.0</td>\n",
       "      <td>103.3</td>\n",
       "      <td>88.0</td>\n",
       "      <td>6.0</td>\n",
       "      <td>6.0</td>\n",
       "      <td>224.9</td>\n",
       "      <td>Overweight</td>\n",
       "      <td>M</td>\n",
       "      <td>50</td>\n",
       "      <td>33.0</td>\n",
       "    </tr>\n",
       "    <tr>\n",
       "      <th>TRAIN_0002</th>\n",
       "      <td>7.0</td>\n",
       "      <td>103.3</td>\n",
       "      <td>86.0</td>\n",
       "      <td>6.0</td>\n",
       "      <td>3.0</td>\n",
       "      <td>218.3</td>\n",
       "      <td>Overweight</td>\n",
       "      <td>M</td>\n",
       "      <td>29</td>\n",
       "      <td>23.0</td>\n",
       "    </tr>\n",
       "    <tr>\n",
       "      <th>TRAIN_0003</th>\n",
       "      <td>17.0</td>\n",
       "      <td>104.0</td>\n",
       "      <td>99.0</td>\n",
       "      <td>5.0</td>\n",
       "      <td>6.0</td>\n",
       "      <td>147.7</td>\n",
       "      <td>Normal Weight</td>\n",
       "      <td>F</td>\n",
       "      <td>33</td>\n",
       "      <td>91.0</td>\n",
       "    </tr>\n",
       "    <tr>\n",
       "      <th>TRAIN_0004</th>\n",
       "      <td>9.0</td>\n",
       "      <td>102.7</td>\n",
       "      <td>88.0</td>\n",
       "      <td>5.0</td>\n",
       "      <td>10.0</td>\n",
       "      <td>169.8</td>\n",
       "      <td>Normal Weight</td>\n",
       "      <td>M</td>\n",
       "      <td>38</td>\n",
       "      <td>32.0</td>\n",
       "    </tr>\n",
       "  </tbody>\n",
       "</table>\n",
       "</div>"
      ],
      "text/plain": [
       "            Exercise_Duration  Body_Temperature(F)    BPM  Height(Feet)  \\\n",
       "ID                                                                        \n",
       "TRAIN_0000               26.0                105.6  107.0           5.0   \n",
       "TRAIN_0001                7.0                103.3   88.0           6.0   \n",
       "TRAIN_0002                7.0                103.3   86.0           6.0   \n",
       "TRAIN_0003               17.0                104.0   99.0           5.0   \n",
       "TRAIN_0004                9.0                102.7   88.0           5.0   \n",
       "\n",
       "            Height(Remainder_Inches)  Weight(lb)  Weight_Status Gender  Age  \\\n",
       "ID                                                                            \n",
       "TRAIN_0000                       9.0       154.3  Normal Weight      F   45   \n",
       "TRAIN_0001                       6.0       224.9     Overweight      M   50   \n",
       "TRAIN_0002                       3.0       218.3     Overweight      M   29   \n",
       "TRAIN_0003                       6.0       147.7  Normal Weight      F   33   \n",
       "TRAIN_0004                      10.0       169.8  Normal Weight      M   38   \n",
       "\n",
       "            Calories_Burned  \n",
       "ID                           \n",
       "TRAIN_0000            166.0  \n",
       "TRAIN_0001             33.0  \n",
       "TRAIN_0002             23.0  \n",
       "TRAIN_0003             91.0  \n",
       "TRAIN_0004             32.0  "
      ]
     },
     "execution_count": 109,
     "metadata": {},
     "output_type": "execute_result"
    }
   ],
   "source": [
    "train.head()"
   ]
  },
  {
   "cell_type": "markdown",
   "id": "52410d51",
   "metadata": {},
   "source": [
    "## 결측치 확인"
   ]
  },
  {
   "cell_type": "code",
   "execution_count": 110,
   "id": "dfcf00d3",
   "metadata": {},
   "outputs": [
    {
     "data": {
      "text/plain": [
       "Exercise_Duration           0\n",
       "Body_Temperature(F)         0\n",
       "BPM                         0\n",
       "Height(Feet)                0\n",
       "Height(Remainder_Inches)    0\n",
       "Weight(lb)                  0\n",
       "Weight_Status               0\n",
       "Gender                      0\n",
       "Age                         0\n",
       "Calories_Burned             0\n",
       "dtype: int64"
      ]
     },
     "execution_count": 110,
     "metadata": {},
     "output_type": "execute_result"
    }
   ],
   "source": [
    "# 결측치 없음 \n",
    "train.isnull().sum()"
   ]
  },
  {
   "cell_type": "code",
   "execution_count": 111,
   "id": "b921ab70",
   "metadata": {},
   "outputs": [
    {
     "data": {
      "text/plain": [
       "Exercise_Duration           0\n",
       "Body_Temperature(F)         0\n",
       "BPM                         0\n",
       "Height(Feet)                0\n",
       "Height(Remainder_Inches)    0\n",
       "Weight(lb)                  0\n",
       "Weight_Status               0\n",
       "Gender                      0\n",
       "Age                         0\n",
       "dtype: int64"
      ]
     },
     "execution_count": 111,
     "metadata": {},
     "output_type": "execute_result"
    }
   ],
   "source": [
    "# 결측치 없음 \n",
    "test.isnull().sum()"
   ]
  },
  {
   "cell_type": "markdown",
   "id": "ae04cb66",
   "metadata": {},
   "source": [
    "## 이상치 확인"
   ]
  },
  {
   "cell_type": "code",
   "execution_count": 112,
   "id": "fcb3d927",
   "metadata": {},
   "outputs": [
    {
     "data": {
      "text/html": [
       "<div>\n",
       "<style scoped>\n",
       "    .dataframe tbody tr th:only-of-type {\n",
       "        vertical-align: middle;\n",
       "    }\n",
       "\n",
       "    .dataframe tbody tr th {\n",
       "        vertical-align: top;\n",
       "    }\n",
       "\n",
       "    .dataframe thead th {\n",
       "        text-align: right;\n",
       "    }\n",
       "</style>\n",
       "<table border=\"1\" class=\"dataframe\">\n",
       "  <thead>\n",
       "    <tr style=\"text-align: right;\">\n",
       "      <th></th>\n",
       "      <th>Exercise_Duration</th>\n",
       "      <th>Body_Temperature(F)</th>\n",
       "      <th>BPM</th>\n",
       "      <th>Height(Feet)</th>\n",
       "      <th>Height(Remainder_Inches)</th>\n",
       "      <th>Weight(lb)</th>\n",
       "      <th>Age</th>\n",
       "      <th>Calories_Burned</th>\n",
       "    </tr>\n",
       "  </thead>\n",
       "  <tbody>\n",
       "    <tr>\n",
       "      <th>count</th>\n",
       "      <td>7500.0000</td>\n",
       "      <td>7500.000000</td>\n",
       "      <td>7500.000000</td>\n",
       "      <td>7500.000000</td>\n",
       "      <td>7500.000000</td>\n",
       "      <td>7500.000000</td>\n",
       "      <td>7500.000000</td>\n",
       "      <td>7500.000000</td>\n",
       "    </tr>\n",
       "    <tr>\n",
       "      <th>mean</th>\n",
       "      <td>15.5012</td>\n",
       "      <td>104.033573</td>\n",
       "      <td>95.498133</td>\n",
       "      <td>5.248800</td>\n",
       "      <td>5.717600</td>\n",
       "      <td>165.361187</td>\n",
       "      <td>42.636000</td>\n",
       "      <td>89.373467</td>\n",
       "    </tr>\n",
       "    <tr>\n",
       "      <th>std</th>\n",
       "      <td>8.3553</td>\n",
       "      <td>1.412845</td>\n",
       "      <td>9.587331</td>\n",
       "      <td>0.556663</td>\n",
       "      <td>3.497315</td>\n",
       "      <td>33.308136</td>\n",
       "      <td>16.883188</td>\n",
       "      <td>62.817086</td>\n",
       "    </tr>\n",
       "    <tr>\n",
       "      <th>min</th>\n",
       "      <td>1.0000</td>\n",
       "      <td>98.800000</td>\n",
       "      <td>69.000000</td>\n",
       "      <td>4.000000</td>\n",
       "      <td>0.000000</td>\n",
       "      <td>79.400000</td>\n",
       "      <td>20.000000</td>\n",
       "      <td>1.000000</td>\n",
       "    </tr>\n",
       "    <tr>\n",
       "      <th>25%</th>\n",
       "      <td>8.0000</td>\n",
       "      <td>103.300000</td>\n",
       "      <td>88.000000</td>\n",
       "      <td>5.000000</td>\n",
       "      <td>3.000000</td>\n",
       "      <td>138.900000</td>\n",
       "      <td>28.000000</td>\n",
       "      <td>35.000000</td>\n",
       "    </tr>\n",
       "    <tr>\n",
       "      <th>50%</th>\n",
       "      <td>15.0000</td>\n",
       "      <td>104.400000</td>\n",
       "      <td>95.000000</td>\n",
       "      <td>5.000000</td>\n",
       "      <td>6.000000</td>\n",
       "      <td>163.100000</td>\n",
       "      <td>39.000000</td>\n",
       "      <td>77.000000</td>\n",
       "    </tr>\n",
       "    <tr>\n",
       "      <th>75%</th>\n",
       "      <td>23.0000</td>\n",
       "      <td>105.100000</td>\n",
       "      <td>103.000000</td>\n",
       "      <td>6.000000</td>\n",
       "      <td>9.000000</td>\n",
       "      <td>191.800000</td>\n",
       "      <td>56.000000</td>\n",
       "      <td>138.000000</td>\n",
       "    </tr>\n",
       "    <tr>\n",
       "      <th>max</th>\n",
       "      <td>30.0000</td>\n",
       "      <td>106.700000</td>\n",
       "      <td>128.000000</td>\n",
       "      <td>7.000000</td>\n",
       "      <td>12.000000</td>\n",
       "      <td>291.000000</td>\n",
       "      <td>79.000000</td>\n",
       "      <td>300.000000</td>\n",
       "    </tr>\n",
       "  </tbody>\n",
       "</table>\n",
       "</div>"
      ],
      "text/plain": [
       "       Exercise_Duration  Body_Temperature(F)          BPM  Height(Feet)  \\\n",
       "count          7500.0000          7500.000000  7500.000000   7500.000000   \n",
       "mean             15.5012           104.033573    95.498133      5.248800   \n",
       "std               8.3553             1.412845     9.587331      0.556663   \n",
       "min               1.0000            98.800000    69.000000      4.000000   \n",
       "25%               8.0000           103.300000    88.000000      5.000000   \n",
       "50%              15.0000           104.400000    95.000000      5.000000   \n",
       "75%              23.0000           105.100000   103.000000      6.000000   \n",
       "max              30.0000           106.700000   128.000000      7.000000   \n",
       "\n",
       "       Height(Remainder_Inches)   Weight(lb)          Age  Calories_Burned  \n",
       "count               7500.000000  7500.000000  7500.000000      7500.000000  \n",
       "mean                   5.717600   165.361187    42.636000        89.373467  \n",
       "std                    3.497315    33.308136    16.883188        62.817086  \n",
       "min                    0.000000    79.400000    20.000000         1.000000  \n",
       "25%                    3.000000   138.900000    28.000000        35.000000  \n",
       "50%                    6.000000   163.100000    39.000000        77.000000  \n",
       "75%                    9.000000   191.800000    56.000000       138.000000  \n",
       "max                   12.000000   291.000000    79.000000       300.000000  "
      ]
     },
     "execution_count": 112,
     "metadata": {},
     "output_type": "execute_result"
    }
   ],
   "source": [
    "train.describe()"
   ]
  },
  {
   "cell_type": "code",
   "execution_count": 113,
   "id": "7944a48f",
   "metadata": {},
   "outputs": [
    {
     "data": {
      "text/html": [
       "<div>\n",
       "<style scoped>\n",
       "    .dataframe tbody tr th:only-of-type {\n",
       "        vertical-align: middle;\n",
       "    }\n",
       "\n",
       "    .dataframe tbody tr th {\n",
       "        vertical-align: top;\n",
       "    }\n",
       "\n",
       "    .dataframe thead th {\n",
       "        text-align: right;\n",
       "    }\n",
       "</style>\n",
       "<table border=\"1\" class=\"dataframe\">\n",
       "  <thead>\n",
       "    <tr style=\"text-align: right;\">\n",
       "      <th></th>\n",
       "      <th>Weight_Status</th>\n",
       "      <th>Gender</th>\n",
       "    </tr>\n",
       "  </thead>\n",
       "  <tbody>\n",
       "    <tr>\n",
       "      <th>count</th>\n",
       "      <td>7500</td>\n",
       "      <td>7500</td>\n",
       "    </tr>\n",
       "    <tr>\n",
       "      <th>unique</th>\n",
       "      <td>3</td>\n",
       "      <td>2</td>\n",
       "    </tr>\n",
       "    <tr>\n",
       "      <th>top</th>\n",
       "      <td>Normal Weight</td>\n",
       "      <td>F</td>\n",
       "    </tr>\n",
       "    <tr>\n",
       "      <th>freq</th>\n",
       "      <td>4681</td>\n",
       "      <td>3769</td>\n",
       "    </tr>\n",
       "  </tbody>\n",
       "</table>\n",
       "</div>"
      ],
      "text/plain": [
       "        Weight_Status Gender\n",
       "count            7500   7500\n",
       "unique              3      2\n",
       "top     Normal Weight      F\n",
       "freq             4681   3769"
      ]
     },
     "execution_count": 113,
     "metadata": {},
     "output_type": "execute_result"
    }
   ],
   "source": [
    "train.describe(include='O')"
   ]
  },
  {
   "cell_type": "code",
   "execution_count": 114,
   "id": "205926e3",
   "metadata": {},
   "outputs": [
    {
     "data": {
      "text/plain": [
       "<Axes: >"
      ]
     },
     "execution_count": 114,
     "metadata": {},
     "output_type": "execute_result"
    },
    {
     "data": {
      "image/png": "[encoded data removed]",
      "text/plain": [
       "<Figure size 640x480 with 1 Axes>"
      ]
     },
     "metadata": {},
     "output_type": "display_data"
    }
   ],
   "source": [
    "# Obese가 현저히 적음\n",
    "train['Weight_Status'].value_counts().plot.bar(rot=0)"
   ]
  },
  {
   "cell_type": "code",
   "execution_count": 115,
   "id": "1c90fd9d",
   "metadata": {
    "scrolled": true
   },
   "outputs": [
    {
     "data": {
      "text/plain": [
       "Normal Weight    0.624133\n",
       "Overweight       0.348533\n",
       "Obese            0.027333\n",
       "Name: Weight_Status, dtype: float64"
      ]
     },
     "execution_count": 115,
     "metadata": {},
     "output_type": "execute_result"
    }
   ],
   "source": [
    "train['Weight_Status'].value_counts(1)"
   ]
  },
  {
   "cell_type": "code",
   "execution_count": 116,
   "id": "38ac3a0e",
   "metadata": {},
   "outputs": [
    {
     "data": {
      "text/plain": [
       "<Axes: >"
      ]
     },
     "execution_count": 116,
     "metadata": {},
     "output_type": "execute_result"
    },
    {
     "data": {
      "image/png": "[encoded data removed]",
      "text/plain": [
       "<Figure size 640x480 with 1 Axes>"
      ]
     },
     "metadata": {},
     "output_type": "display_data"
    }
   ],
   "source": [
    "train['Gender'].value_counts().plot.bar(rot=0)"
   ]
  },
  {
   "cell_type": "markdown",
   "id": "f95be7f9",
   "metadata": {},
   "source": [
    "# 피처 엔지니어링"
   ]
  },
  {
   "cell_type": "code",
   "execution_count": 117,
   "id": "26205f23",
   "metadata": {},
   "outputs": [
    {
     "data": {
      "text/html": [
       "<div>\n",
       "<style scoped>\n",
       "    .dataframe tbody tr th:only-of-type {\n",
       "        vertical-align: middle;\n",
       "    }\n",
       "\n",
       "    .dataframe tbody tr th {\n",
       "        vertical-align: top;\n",
       "    }\n",
       "\n",
       "    .dataframe thead th {\n",
       "        text-align: right;\n",
       "    }\n",
       "</style>\n",
       "<table border=\"1\" class=\"dataframe\">\n",
       "  <thead>\n",
       "    <tr style=\"text-align: right;\">\n",
       "      <th></th>\n",
       "      <th>Exercise_Duration</th>\n",
       "      <th>Body_Temperature(F)</th>\n",
       "      <th>BPM</th>\n",
       "      <th>Height(Feet)</th>\n",
       "      <th>Height(Remainder_Inches)</th>\n",
       "      <th>Weight(lb)</th>\n",
       "      <th>Weight_Status</th>\n",
       "      <th>Gender</th>\n",
       "      <th>Age</th>\n",
       "      <th>Calories_Burned</th>\n",
       "    </tr>\n",
       "    <tr>\n",
       "      <th>ID</th>\n",
       "      <th></th>\n",
       "      <th></th>\n",
       "      <th></th>\n",
       "      <th></th>\n",
       "      <th></th>\n",
       "      <th></th>\n",
       "      <th></th>\n",
       "      <th></th>\n",
       "      <th></th>\n",
       "      <th></th>\n",
       "    </tr>\n",
       "  </thead>\n",
       "  <tbody>\n",
       "    <tr>\n",
       "      <th>TRAIN_0000</th>\n",
       "      <td>26.0</td>\n",
       "      <td>105.6</td>\n",
       "      <td>107.0</td>\n",
       "      <td>5.0</td>\n",
       "      <td>9.0</td>\n",
       "      <td>154.3</td>\n",
       "      <td>Normal Weight</td>\n",
       "      <td>F</td>\n",
       "      <td>45</td>\n",
       "      <td>166.0</td>\n",
       "    </tr>\n",
       "    <tr>\n",
       "      <th>TRAIN_0001</th>\n",
       "      <td>7.0</td>\n",
       "      <td>103.3</td>\n",
       "      <td>88.0</td>\n",
       "      <td>6.0</td>\n",
       "      <td>6.0</td>\n",
       "      <td>224.9</td>\n",
       "      <td>Overweight</td>\n",
       "      <td>M</td>\n",
       "      <td>50</td>\n",
       "      <td>33.0</td>\n",
       "    </tr>\n",
       "  </tbody>\n",
       "</table>\n",
       "</div>"
      ],
      "text/plain": [
       "            Exercise_Duration  Body_Temperature(F)    BPM  Height(Feet)  \\\n",
       "ID                                                                        \n",
       "TRAIN_0000               26.0                105.6  107.0           5.0   \n",
       "TRAIN_0001                7.0                103.3   88.0           6.0   \n",
       "\n",
       "            Height(Remainder_Inches)  Weight(lb)  Weight_Status Gender  Age  \\\n",
       "ID                                                                            \n",
       "TRAIN_0000                       9.0       154.3  Normal Weight      F   45   \n",
       "TRAIN_0001                       6.0       224.9     Overweight      M   50   \n",
       "\n",
       "            Calories_Burned  \n",
       "ID                           \n",
       "TRAIN_0000            166.0  \n",
       "TRAIN_0001             33.0  "
      ]
     },
     "execution_count": 117,
     "metadata": {},
     "output_type": "execute_result"
    }
   ],
   "source": [
    "train.head(2)"
   ]
  },
  {
   "cell_type": "markdown",
   "id": "af5896e3",
   "metadata": {},
   "source": [
    "- 두 키 변수를 합해서 하나의 변수로 만들어 준다. "
   ]
  },
  {
   "cell_type": "code",
   "execution_count": 118,
   "id": "cce7d8b3",
   "metadata": {},
   "outputs": [],
   "source": [
    "# ft, inch column을 하나의 cm 컬럼으로 변경해줌 \n",
    "train['Height(cm)'] = train['Height(Feet)'] * 30.48 + train['Height(Remainder_Inches)']*2.54\n",
    "test['Height(cm)'] = test['Height(Feet)'] * 30.48 + test['Height(Remainder_Inches)']*2.54"
   ]
  },
  {
   "cell_type": "code",
   "execution_count": 119,
   "id": "3c613bec",
   "metadata": {},
   "outputs": [],
   "source": [
    "# 기존 ft, inch column은 삭제 \n",
    "train = train.drop(columns=['Height(Feet)','Height(Remainder_Inches)'])\n",
    "test = test.drop(columns=['Height(Feet)','Height(Remainder_Inches)'])"
   ]
  },
  {
   "cell_type": "markdown",
   "id": "1e44bae1",
   "metadata": {},
   "source": [
    "- 몸무게와 몸의 온도를 kg, 섭씨로 바꿔준다. "
   ]
  },
  {
   "cell_type": "code",
   "execution_count": 120,
   "id": "978b994c",
   "metadata": {},
   "outputs": [],
   "source": [
    "train['Weight(kg)'] = train['Weight(lb)'] * 0.45359237\n",
    "test['Weight(kg)'] = test['Weight(lb)'] * 0.45359237\n",
    "\n",
    "train['Body_Temperature(C)'] = (train['Body_Temperature(F)'] - 32)*(5/9)\n",
    "test['Body_Temperature(C)'] = (test['Body_Temperature(F)'] - 32)*(5/9)\n",
    "\n",
    "# drop\n",
    "train = train.drop(columns=['Weight(lb)','Body_Temperature(F)'])\n",
    "test = test.drop(columns=['Weight(lb)','Body_Temperature(F)'])"
   ]
  },
  {
   "cell_type": "code",
   "execution_count": 121,
   "id": "4b1baf21",
   "metadata": {},
   "outputs": [
    {
     "data": {
      "text/html": [
       "<div>\n",
       "<style scoped>\n",
       "    .dataframe tbody tr th:only-of-type {\n",
       "        vertical-align: middle;\n",
       "    }\n",
       "\n",
       "    .dataframe tbody tr th {\n",
       "        vertical-align: top;\n",
       "    }\n",
       "\n",
       "    .dataframe thead th {\n",
       "        text-align: right;\n",
       "    }\n",
       "</style>\n",
       "<table border=\"1\" class=\"dataframe\">\n",
       "  <thead>\n",
       "    <tr style=\"text-align: right;\">\n",
       "      <th></th>\n",
       "      <th>Exercise_Duration</th>\n",
       "      <th>BPM</th>\n",
       "      <th>Weight_Status</th>\n",
       "      <th>Gender</th>\n",
       "      <th>Age</th>\n",
       "      <th>Calories_Burned</th>\n",
       "      <th>Height(cm)</th>\n",
       "      <th>Weight(kg)</th>\n",
       "      <th>Body_Temperature(C)</th>\n",
       "    </tr>\n",
       "    <tr>\n",
       "      <th>ID</th>\n",
       "      <th></th>\n",
       "      <th></th>\n",
       "      <th></th>\n",
       "      <th></th>\n",
       "      <th></th>\n",
       "      <th></th>\n",
       "      <th></th>\n",
       "      <th></th>\n",
       "      <th></th>\n",
       "    </tr>\n",
       "  </thead>\n",
       "  <tbody>\n",
       "    <tr>\n",
       "      <th>TRAIN_0000</th>\n",
       "      <td>26.0</td>\n",
       "      <td>107.0</td>\n",
       "      <td>Normal Weight</td>\n",
       "      <td>F</td>\n",
       "      <td>45</td>\n",
       "      <td>166.0</td>\n",
       "      <td>175.26</td>\n",
       "      <td>69.989303</td>\n",
       "      <td>40.888889</td>\n",
       "    </tr>\n",
       "    <tr>\n",
       "      <th>TRAIN_0001</th>\n",
       "      <td>7.0</td>\n",
       "      <td>88.0</td>\n",
       "      <td>Overweight</td>\n",
       "      <td>M</td>\n",
       "      <td>50</td>\n",
       "      <td>33.0</td>\n",
       "      <td>198.12</td>\n",
       "      <td>102.012924</td>\n",
       "      <td>39.611111</td>\n",
       "    </tr>\n",
       "    <tr>\n",
       "      <th>TRAIN_0002</th>\n",
       "      <td>7.0</td>\n",
       "      <td>86.0</td>\n",
       "      <td>Overweight</td>\n",
       "      <td>M</td>\n",
       "      <td>29</td>\n",
       "      <td>23.0</td>\n",
       "      <td>190.50</td>\n",
       "      <td>99.019214</td>\n",
       "      <td>39.611111</td>\n",
       "    </tr>\n",
       "    <tr>\n",
       "      <th>TRAIN_0003</th>\n",
       "      <td>17.0</td>\n",
       "      <td>99.0</td>\n",
       "      <td>Normal Weight</td>\n",
       "      <td>F</td>\n",
       "      <td>33</td>\n",
       "      <td>91.0</td>\n",
       "      <td>167.64</td>\n",
       "      <td>66.995593</td>\n",
       "      <td>40.000000</td>\n",
       "    </tr>\n",
       "    <tr>\n",
       "      <th>TRAIN_0004</th>\n",
       "      <td>9.0</td>\n",
       "      <td>88.0</td>\n",
       "      <td>Normal Weight</td>\n",
       "      <td>M</td>\n",
       "      <td>38</td>\n",
       "      <td>32.0</td>\n",
       "      <td>177.80</td>\n",
       "      <td>77.019984</td>\n",
       "      <td>39.277778</td>\n",
       "    </tr>\n",
       "    <tr>\n",
       "      <th>...</th>\n",
       "      <td>...</td>\n",
       "      <td>...</td>\n",
       "      <td>...</td>\n",
       "      <td>...</td>\n",
       "      <td>...</td>\n",
       "      <td>...</td>\n",
       "      <td>...</td>\n",
       "      <td>...</td>\n",
       "      <td>...</td>\n",
       "    </tr>\n",
       "    <tr>\n",
       "      <th>TRAIN_7495</th>\n",
       "      <td>22.0</td>\n",
       "      <td>104.0</td>\n",
       "      <td>Normal Weight</td>\n",
       "      <td>F</td>\n",
       "      <td>75</td>\n",
       "      <td>151.0</td>\n",
       "      <td>147.32</td>\n",
       "      <td>50.983782</td>\n",
       "      <td>40.611111</td>\n",
       "    </tr>\n",
       "    <tr>\n",
       "      <th>TRAIN_7496</th>\n",
       "      <td>20.0</td>\n",
       "      <td>104.0</td>\n",
       "      <td>Normal Weight</td>\n",
       "      <td>F</td>\n",
       "      <td>21</td>\n",
       "      <td>114.0</td>\n",
       "      <td>172.72</td>\n",
       "      <td>66.995593</td>\n",
       "      <td>40.722222</td>\n",
       "    </tr>\n",
       "    <tr>\n",
       "      <th>TRAIN_7497</th>\n",
       "      <td>8.0</td>\n",
       "      <td>90.0</td>\n",
       "      <td>Overweight</td>\n",
       "      <td>M</td>\n",
       "      <td>57</td>\n",
       "      <td>41.0</td>\n",
       "      <td>187.96</td>\n",
       "      <td>91.988533</td>\n",
       "      <td>39.500000</td>\n",
       "    </tr>\n",
       "    <tr>\n",
       "      <th>TRAIN_7498</th>\n",
       "      <td>12.0</td>\n",
       "      <td>97.0</td>\n",
       "      <td>Overweight</td>\n",
       "      <td>M</td>\n",
       "      <td>35</td>\n",
       "      <td>57.0</td>\n",
       "      <td>175.26</td>\n",
       "      <td>76.022081</td>\n",
       "      <td>40.222222</td>\n",
       "    </tr>\n",
       "    <tr>\n",
       "      <th>TRAIN_7499</th>\n",
       "      <td>16.0</td>\n",
       "      <td>91.0</td>\n",
       "      <td>Overweight</td>\n",
       "      <td>M</td>\n",
       "      <td>26</td>\n",
       "      <td>59.0</td>\n",
       "      <td>182.88</td>\n",
       "      <td>86.001113</td>\n",
       "      <td>40.500000</td>\n",
       "    </tr>\n",
       "  </tbody>\n",
       "</table>\n",
       "<p>7500 rows × 9 columns</p>\n",
       "</div>"
      ],
      "text/plain": [
       "            Exercise_Duration    BPM  Weight_Status Gender  Age  \\\n",
       "ID                                                                \n",
       "TRAIN_0000               26.0  107.0  Normal Weight      F   45   \n",
       "TRAIN_0001                7.0   88.0     Overweight      M   50   \n",
       "TRAIN_0002                7.0   86.0     Overweight      M   29   \n",
       "TRAIN_0003               17.0   99.0  Normal Weight      F   33   \n",
       "TRAIN_0004                9.0   88.0  Normal Weight      M   38   \n",
       "...                       ...    ...            ...    ...  ...   \n",
       "TRAIN_7495               22.0  104.0  Normal Weight      F   75   \n",
       "TRAIN_7496               20.0  104.0  Normal Weight      F   21   \n",
       "TRAIN_7497                8.0   90.0     Overweight      M   57   \n",
       "TRAIN_7498               12.0   97.0     Overweight      M   35   \n",
       "TRAIN_7499               16.0   91.0     Overweight      M   26   \n",
       "\n",
       "            Calories_Burned  Height(cm)  Weight(kg)  Body_Temperature(C)  \n",
       "ID                                                                        \n",
       "TRAIN_0000            166.0      175.26   69.989303            40.888889  \n",
       "TRAIN_0001             33.0      198.12  102.012924            39.611111  \n",
       "TRAIN_0002             23.0      190.50   99.019214            39.611111  \n",
       "TRAIN_0003             91.0      167.64   66.995593            40.000000  \n",
       "TRAIN_0004             32.0      177.80   77.019984            39.277778  \n",
       "...                     ...         ...         ...                  ...  \n",
       "TRAIN_7495            151.0      147.32   50.983782            40.611111  \n",
       "TRAIN_7496            114.0      172.72   66.995593            40.722222  \n",
       "TRAIN_7497             41.0      187.96   91.988533            39.500000  \n",
       "TRAIN_7498             57.0      175.26   76.022081            40.222222  \n",
       "TRAIN_7499             59.0      182.88   86.001113            40.500000  \n",
       "\n",
       "[7500 rows x 9 columns]"
      ]
     },
     "execution_count": 121,
     "metadata": {},
     "output_type": "execute_result"
    }
   ],
   "source": [
    "train"
   ]
  },
  {
   "cell_type": "markdown",
   "id": "98fd02d1",
   "metadata": {},
   "source": [
    "- 2가지 categorical value인 Gender와 Weight_status를 인코딩 해준다. \n",
    "- Gender는 비율이 50대 50이므로 label encoding \n",
    "- Weight_status 비율이 고르지 못하므로 One-Hot Encoding을 적용한다. "
   ]
  },
  {
   "cell_type": "code",
   "execution_count": 122,
   "id": "6c2073c9",
   "metadata": {},
   "outputs": [],
   "source": [
    "# Label Encoding \n",
    "# Train 데이터 \n",
    "train.loc[train['Gender'] == 'F', 'Gender'] = 0\n",
    "train.loc[train['Gender'] == 'M', 'Gender'] = 1\n",
    "\n",
    "# Test 데이터 \n",
    "test.loc[test['Gender'] == 'F', 'Gender'] = 0\n",
    "test.loc[test['Gender'] == 'M', 'Gender'] = 1"
   ]
  },
  {
   "cell_type": "code",
   "execution_count": 123,
   "id": "05e720a8",
   "metadata": {},
   "outputs": [],
   "source": [
    "# dtype 변경해 주기 \n",
    "train['Gender'] = train['Gender'].astype('int')\n",
    "test['Gender'] = test['Gender'].astype('int')"
   ]
  },
  {
   "cell_type": "code",
   "execution_count": 124,
   "id": "6b61da71",
   "metadata": {},
   "outputs": [],
   "source": [
    "train = pd.get_dummies(train)\n",
    "test = pd.get_dummies(test)"
   ]
  },
  {
   "cell_type": "code",
   "execution_count": 125,
   "id": "397cb72e",
   "metadata": {},
   "outputs": [
    {
     "name": "stdout",
     "output_type": "stream",
     "text": [
      "<class 'pandas.core.frame.DataFrame'>\n",
      "Index: 7500 entries, TRAIN_0000 to TRAIN_7499\n",
      "Data columns (total 11 columns):\n",
      " #   Column                       Non-Null Count  Dtype  \n",
      "---  ------                       --------------  -----  \n",
      " 0   Exercise_Duration            7500 non-null   float64\n",
      " 1   BPM                          7500 non-null   float64\n",
      " 2   Gender                       7500 non-null   int64  \n",
      " 3   Age                          7500 non-null   int64  \n",
      " 4   Calories_Burned              7500 non-null   float64\n",
      " 5   Height(cm)                   7500 non-null   float64\n",
      " 6   Weight(kg)                   7500 non-null   float64\n",
      " 7   Body_Temperature(C)          7500 non-null   float64\n",
      " 8   Weight_Status_Normal Weight  7500 non-null   uint8  \n",
      " 9   Weight_Status_Obese          7500 non-null   uint8  \n",
      " 10  Weight_Status_Overweight     7500 non-null   uint8  \n",
      "dtypes: float64(6), int64(2), uint8(3)\n",
      "memory usage: 549.3+ KB\n"
     ]
    }
   ],
   "source": [
    "train.info()"
   ]
  },
  {
   "cell_type": "code",
   "execution_count": 126,
   "id": "3b928286",
   "metadata": {},
   "outputs": [
    {
     "data": {
      "text/html": [
       "<div>\n",
       "<style scoped>\n",
       "    .dataframe tbody tr th:only-of-type {\n",
       "        vertical-align: middle;\n",
       "    }\n",
       "\n",
       "    .dataframe tbody tr th {\n",
       "        vertical-align: top;\n",
       "    }\n",
       "\n",
       "    .dataframe thead th {\n",
       "        text-align: right;\n",
       "    }\n",
       "</style>\n",
       "<table border=\"1\" class=\"dataframe\">\n",
       "  <thead>\n",
       "    <tr style=\"text-align: right;\">\n",
       "      <th></th>\n",
       "      <th>Exercise_Duration</th>\n",
       "      <th>BPM</th>\n",
       "      <th>Gender</th>\n",
       "      <th>Age</th>\n",
       "      <th>Height(cm)</th>\n",
       "      <th>Weight(kg)</th>\n",
       "      <th>Body_Temperature(C)</th>\n",
       "      <th>Weight_Status_Normal Weight</th>\n",
       "      <th>Weight_Status_Obese</th>\n",
       "      <th>Weight_Status_Overweight</th>\n",
       "    </tr>\n",
       "    <tr>\n",
       "      <th>ID</th>\n",
       "      <th></th>\n",
       "      <th></th>\n",
       "      <th></th>\n",
       "      <th></th>\n",
       "      <th></th>\n",
       "      <th></th>\n",
       "      <th></th>\n",
       "      <th></th>\n",
       "      <th></th>\n",
       "      <th></th>\n",
       "    </tr>\n",
       "  </thead>\n",
       "  <tbody>\n",
       "    <tr>\n",
       "      <th>TEST_0000</th>\n",
       "      <td>26.0</td>\n",
       "      <td>107.0</td>\n",
       "      <td>0</td>\n",
       "      <td>45</td>\n",
       "      <td>154.94</td>\n",
       "      <td>51.981686</td>\n",
       "      <td>40.611111</td>\n",
       "      <td>1</td>\n",
       "      <td>0</td>\n",
       "      <td>0</td>\n",
       "    </tr>\n",
       "    <tr>\n",
       "      <th>TEST_0001</th>\n",
       "      <td>29.0</td>\n",
       "      <td>111.0</td>\n",
       "      <td>1</td>\n",
       "      <td>21</td>\n",
       "      <td>187.96</td>\n",
       "      <td>89.992726</td>\n",
       "      <td>40.500000</td>\n",
       "      <td>0</td>\n",
       "      <td>0</td>\n",
       "      <td>1</td>\n",
       "    </tr>\n",
       "  </tbody>\n",
       "</table>\n",
       "</div>"
      ],
      "text/plain": [
       "           Exercise_Duration    BPM  Gender  Age  Height(cm)  Weight(kg)  \\\n",
       "ID                                                                         \n",
       "TEST_0000               26.0  107.0       0   45      154.94   51.981686   \n",
       "TEST_0001               29.0  111.0       1   21      187.96   89.992726   \n",
       "\n",
       "           Body_Temperature(C)  Weight_Status_Normal Weight  \\\n",
       "ID                                                            \n",
       "TEST_0000            40.611111                            1   \n",
       "TEST_0001            40.500000                            0   \n",
       "\n",
       "           Weight_Status_Obese  Weight_Status_Overweight  \n",
       "ID                                                        \n",
       "TEST_0000                    0                         0  \n",
       "TEST_0001                    0                         1  "
      ]
     },
     "execution_count": 126,
     "metadata": {},
     "output_type": "execute_result"
    }
   ],
   "source": [
    "test.head(2)"
   ]
  },
  {
   "cell_type": "markdown",
   "id": "868a9b9d",
   "metadata": {},
   "source": [
    "# 데이터 시각화"
   ]
  },
  {
   "cell_type": "code",
   "execution_count": 127,
   "id": "00c667ee",
   "metadata": {},
   "outputs": [
    {
     "data": {
      "image/png": "[encoded data removed]",
      "text/plain": [
       "<Figure size 2000x2000 with 12 Axes>"
      ]
     },
     "metadata": {},
     "output_type": "display_data"
    }
   ],
   "source": [
    "train.hist(bins=100,figsize=(20,20));"
   ]
  },
  {
   "cell_type": "code",
   "execution_count": 128,
   "id": "43135e66",
   "metadata": {},
   "outputs": [
    {
     "data": {
      "text/plain": [
       "count    7500.000000\n",
       "mean       40.018652\n",
       "std         0.784914\n",
       "min        37.111111\n",
       "25%        39.611111\n",
       "50%        40.222222\n",
       "75%        40.611111\n",
       "max        41.500000\n",
       "Name: Body_Temperature(C), dtype: float64"
      ]
     },
     "execution_count": 128,
     "metadata": {},
     "output_type": "execute_result"
    }
   ],
   "source": [
    "train['Body_Temperature(C)'].describe()"
   ]
  },
  {
   "cell_type": "code",
   "execution_count": 129,
   "id": "d208c721",
   "metadata": {},
   "outputs": [
    {
     "data": {
      "image/png": "[encoded data removed]",
      "text/plain": [
       "<Figure size 640x480 with 1 Axes>"
      ]
     },
     "metadata": {},
     "output_type": "display_data"
    }
   ],
   "source": [
    "# 몇 개의 낮은 온도의 Outlier가 보입니다. \n",
    "plt.boxplot(train['Body_Temperature(C)']);"
   ]
  },
  {
   "cell_type": "code",
   "execution_count": 130,
   "id": "ca9e041e",
   "metadata": {},
   "outputs": [
    {
     "data": {
      "text/plain": [
       "count    7500.000000\n",
       "mean       95.498133\n",
       "std         9.587331\n",
       "min        69.000000\n",
       "25%        88.000000\n",
       "50%        95.000000\n",
       "75%       103.000000\n",
       "max       128.000000\n",
       "Name: BPM, dtype: float64"
      ]
     },
     "execution_count": 130,
     "metadata": {},
     "output_type": "execute_result"
    }
   ],
   "source": [
    "train['BPM'].describe()"
   ]
  },
  {
   "cell_type": "code",
   "execution_count": 131,
   "id": "32be2338",
   "metadata": {},
   "outputs": [
    {
     "data": {
      "image/png": "[encoded data removed]",
      "text/plain": [
       "<Figure size 640x480 with 1 Axes>"
      ]
     },
     "metadata": {},
     "output_type": "display_data"
    }
   ],
   "source": [
    "# 심박도 Outlier가 하나 있습니다. \n",
    "plt.boxplot(train['BPM']);"
   ]
  },
  {
   "cell_type": "code",
   "execution_count": 132,
   "id": "bb446b47",
   "metadata": {},
   "outputs": [
    {
     "data": {
      "text/plain": [
       "count    7500.000000\n",
       "mean       75.006573\n",
       "std        15.108316\n",
       "min        36.015234\n",
       "25%        63.003980\n",
       "50%        73.980916\n",
       "75%        86.999017\n",
       "max       131.995380\n",
       "Name: Weight(kg), dtype: float64"
      ]
     },
     "execution_count": 132,
     "metadata": {},
     "output_type": "execute_result"
    }
   ],
   "source": [
    "train['Weight(kg)'].describe()"
   ]
  },
  {
   "cell_type": "code",
   "execution_count": 133,
   "id": "97203566",
   "metadata": {},
   "outputs": [
    {
     "data": {
      "image/png": "[encoded data removed]",
      "text/plain": [
       "<Figure size 640x480 with 1 Axes>"
      ]
     },
     "metadata": {},
     "output_type": "display_data"
    }
   ],
   "source": [
    "# 몇 개의 몸무게 outlier가 있습니다. \n",
    "plt.boxplot(train['Weight(kg)']);"
   ]
  },
  {
   "cell_type": "code",
   "execution_count": 134,
   "id": "088b5325",
   "metadata": {},
   "outputs": [
    {
     "data": {
      "text/html": [
       "<div>\n",
       "<style scoped>\n",
       "    .dataframe tbody tr th:only-of-type {\n",
       "        vertical-align: middle;\n",
       "    }\n",
       "\n",
       "    .dataframe tbody tr th {\n",
       "        vertical-align: top;\n",
       "    }\n",
       "\n",
       "    .dataframe thead th {\n",
       "        text-align: right;\n",
       "    }\n",
       "</style>\n",
       "<table border=\"1\" class=\"dataframe\">\n",
       "  <thead>\n",
       "    <tr style=\"text-align: right;\">\n",
       "      <th></th>\n",
       "      <th>Exercise_Duration</th>\n",
       "      <th>BPM</th>\n",
       "      <th>Gender</th>\n",
       "      <th>Age</th>\n",
       "      <th>Calories_Burned</th>\n",
       "      <th>Height(cm)</th>\n",
       "      <th>Weight(kg)</th>\n",
       "      <th>Body_Temperature(C)</th>\n",
       "      <th>Weight_Status_Normal Weight</th>\n",
       "      <th>Weight_Status_Obese</th>\n",
       "      <th>Weight_Status_Overweight</th>\n",
       "    </tr>\n",
       "  </thead>\n",
       "  <tbody>\n",
       "    <tr>\n",
       "      <th>count</th>\n",
       "      <td>7500.0000</td>\n",
       "      <td>7500.000000</td>\n",
       "      <td>7500.000000</td>\n",
       "      <td>7500.000000</td>\n",
       "      <td>7500.000000</td>\n",
       "      <td>7500.000000</td>\n",
       "      <td>7500.000000</td>\n",
       "      <td>7500.000000</td>\n",
       "      <td>7500.000000</td>\n",
       "      <td>7500.000000</td>\n",
       "      <td>7500.000000</td>\n",
       "    </tr>\n",
       "    <tr>\n",
       "      <th>mean</th>\n",
       "      <td>15.5012</td>\n",
       "      <td>95.498133</td>\n",
       "      <td>0.497467</td>\n",
       "      <td>42.636000</td>\n",
       "      <td>89.373467</td>\n",
       "      <td>174.506128</td>\n",
       "      <td>75.006573</td>\n",
       "      <td>40.018652</td>\n",
       "      <td>0.624133</td>\n",
       "      <td>0.027333</td>\n",
       "      <td>0.348533</td>\n",
       "    </tr>\n",
       "    <tr>\n",
       "      <th>std</th>\n",
       "      <td>8.3553</td>\n",
       "      <td>9.587331</td>\n",
       "      <td>0.500027</td>\n",
       "      <td>16.883188</td>\n",
       "      <td>62.817086</td>\n",
       "      <td>14.318365</td>\n",
       "      <td>15.108316</td>\n",
       "      <td>0.784914</td>\n",
       "      <td>0.484378</td>\n",
       "      <td>0.163064</td>\n",
       "      <td>0.476538</td>\n",
       "    </tr>\n",
       "    <tr>\n",
       "      <th>min</th>\n",
       "      <td>1.0000</td>\n",
       "      <td>69.000000</td>\n",
       "      <td>0.000000</td>\n",
       "      <td>20.000000</td>\n",
       "      <td>1.000000</td>\n",
       "      <td>121.920000</td>\n",
       "      <td>36.015234</td>\n",
       "      <td>37.111111</td>\n",
       "      <td>0.000000</td>\n",
       "      <td>0.000000</td>\n",
       "      <td>0.000000</td>\n",
       "    </tr>\n",
       "    <tr>\n",
       "      <th>25%</th>\n",
       "      <td>8.0000</td>\n",
       "      <td>88.000000</td>\n",
       "      <td>0.000000</td>\n",
       "      <td>28.000000</td>\n",
       "      <td>35.000000</td>\n",
       "      <td>165.100000</td>\n",
       "      <td>63.003980</td>\n",
       "      <td>39.611111</td>\n",
       "      <td>0.000000</td>\n",
       "      <td>0.000000</td>\n",
       "      <td>0.000000</td>\n",
       "    </tr>\n",
       "    <tr>\n",
       "      <th>50%</th>\n",
       "      <td>15.0000</td>\n",
       "      <td>95.000000</td>\n",
       "      <td>0.000000</td>\n",
       "      <td>39.000000</td>\n",
       "      <td>77.000000</td>\n",
       "      <td>175.260000</td>\n",
       "      <td>73.980916</td>\n",
       "      <td>40.222222</td>\n",
       "      <td>1.000000</td>\n",
       "      <td>0.000000</td>\n",
       "      <td>0.000000</td>\n",
       "    </tr>\n",
       "    <tr>\n",
       "      <th>75%</th>\n",
       "      <td>23.0000</td>\n",
       "      <td>103.000000</td>\n",
       "      <td>1.000000</td>\n",
       "      <td>56.000000</td>\n",
       "      <td>138.000000</td>\n",
       "      <td>185.420000</td>\n",
       "      <td>86.999017</td>\n",
       "      <td>40.611111</td>\n",
       "      <td>1.000000</td>\n",
       "      <td>0.000000</td>\n",
       "      <td>1.000000</td>\n",
       "    </tr>\n",
       "    <tr>\n",
       "      <th>max</th>\n",
       "      <td>30.0000</td>\n",
       "      <td>128.000000</td>\n",
       "      <td>1.000000</td>\n",
       "      <td>79.000000</td>\n",
       "      <td>300.000000</td>\n",
       "      <td>218.440000</td>\n",
       "      <td>131.995380</td>\n",
       "      <td>41.500000</td>\n",
       "      <td>1.000000</td>\n",
       "      <td>1.000000</td>\n",
       "      <td>1.000000</td>\n",
       "    </tr>\n",
       "  </tbody>\n",
       "</table>\n",
       "</div>"
      ],
      "text/plain": [
       "       Exercise_Duration          BPM       Gender          Age  \\\n",
       "count          7500.0000  7500.000000  7500.000000  7500.000000   \n",
       "mean             15.5012    95.498133     0.497467    42.636000   \n",
       "std               8.3553     9.587331     0.500027    16.883188   \n",
       "min               1.0000    69.000000     0.000000    20.000000   \n",
       "25%               8.0000    88.000000     0.000000    28.000000   \n",
       "50%              15.0000    95.000000     0.000000    39.000000   \n",
       "75%              23.0000   103.000000     1.000000    56.000000   \n",
       "max              30.0000   128.000000     1.000000    79.000000   \n",
       "\n",
       "       Calories_Burned   Height(cm)   Weight(kg)  Body_Temperature(C)  \\\n",
       "count      7500.000000  7500.000000  7500.000000          7500.000000   \n",
       "mean         89.373467   174.506128    75.006573            40.018652   \n",
       "std          62.817086    14.318365    15.108316             0.784914   \n",
       "min           1.000000   121.920000    36.015234            37.111111   \n",
       "25%          35.000000   165.100000    63.003980            39.611111   \n",
       "50%          77.000000   175.260000    73.980916            40.222222   \n",
       "75%         138.000000   185.420000    86.999017            40.611111   \n",
       "max         300.000000   218.440000   131.995380            41.500000   \n",
       "\n",
       "       Weight_Status_Normal Weight  Weight_Status_Obese  \\\n",
       "count                  7500.000000          7500.000000   \n",
       "mean                      0.624133             0.027333   \n",
       "std                       0.484378             0.163064   \n",
       "min                       0.000000             0.000000   \n",
       "25%                       0.000000             0.000000   \n",
       "50%                       1.000000             0.000000   \n",
       "75%                       1.000000             0.000000   \n",
       "max                       1.000000             1.000000   \n",
       "\n",
       "       Weight_Status_Overweight  \n",
       "count               7500.000000  \n",
       "mean                   0.348533  \n",
       "std                    0.476538  \n",
       "min                    0.000000  \n",
       "25%                    0.000000  \n",
       "50%                    0.000000  \n",
       "75%                    1.000000  \n",
       "max                    1.000000  "
      ]
     },
     "execution_count": 134,
     "metadata": {},
     "output_type": "execute_result"
    }
   ],
   "source": [
    "train.describe()"
   ]
  },
  {
   "cell_type": "markdown",
   "id": "60604aac",
   "metadata": {},
   "source": [
    "- bmi 공식 : BMI = kg/m2\n",
    "- overweight은 BMI 25~30 사이 \n",
    "- obese는 그 이상 "
   ]
  },
  {
   "cell_type": "code",
   "execution_count": 135,
   "id": "192c947c",
   "metadata": {},
   "outputs": [
    {
     "data": {
      "text/html": [
       "<div>\n",
       "<style scoped>\n",
       "    .dataframe tbody tr th:only-of-type {\n",
       "        vertical-align: middle;\n",
       "    }\n",
       "\n",
       "    .dataframe tbody tr th {\n",
       "        vertical-align: top;\n",
       "    }\n",
       "\n",
       "    .dataframe thead th {\n",
       "        text-align: right;\n",
       "    }\n",
       "</style>\n",
       "<table border=\"1\" class=\"dataframe\">\n",
       "  <thead>\n",
       "    <tr style=\"text-align: right;\">\n",
       "      <th></th>\n",
       "      <th>Exercise_Duration</th>\n",
       "      <th>BPM</th>\n",
       "      <th>Gender</th>\n",
       "      <th>Age</th>\n",
       "      <th>Calories_Burned</th>\n",
       "      <th>Height(cm)</th>\n",
       "      <th>Weight(kg)</th>\n",
       "      <th>Body_Temperature(C)</th>\n",
       "      <th>Weight_Status_Normal Weight</th>\n",
       "      <th>Weight_Status_Obese</th>\n",
       "      <th>Weight_Status_Overweight</th>\n",
       "    </tr>\n",
       "    <tr>\n",
       "      <th>ID</th>\n",
       "      <th></th>\n",
       "      <th></th>\n",
       "      <th></th>\n",
       "      <th></th>\n",
       "      <th></th>\n",
       "      <th></th>\n",
       "      <th></th>\n",
       "      <th></th>\n",
       "      <th></th>\n",
       "      <th></th>\n",
       "      <th></th>\n",
       "    </tr>\n",
       "  </thead>\n",
       "  <tbody>\n",
       "    <tr>\n",
       "      <th>TRAIN_1672</th>\n",
       "      <td>16.0</td>\n",
       "      <td>87.0</td>\n",
       "      <td>1</td>\n",
       "      <td>67</td>\n",
       "      <td>94.0</td>\n",
       "      <td>210.82</td>\n",
       "      <td>124.012154</td>\n",
       "      <td>40.111111</td>\n",
       "      <td>0</td>\n",
       "      <td>0</td>\n",
       "      <td>1</td>\n",
       "    </tr>\n",
       "    <tr>\n",
       "      <th>TRAIN_2227</th>\n",
       "      <td>1.0</td>\n",
       "      <td>88.0</td>\n",
       "      <td>1</td>\n",
       "      <td>40</td>\n",
       "      <td>5.0</td>\n",
       "      <td>218.44</td>\n",
       "      <td>131.995380</td>\n",
       "      <td>37.777778</td>\n",
       "      <td>0</td>\n",
       "      <td>0</td>\n",
       "      <td>1</td>\n",
       "    </tr>\n",
       "    <tr>\n",
       "      <th>TRAIN_2457</th>\n",
       "      <td>17.0</td>\n",
       "      <td>103.0</td>\n",
       "      <td>1</td>\n",
       "      <td>43</td>\n",
       "      <td>121.0</td>\n",
       "      <td>213.36</td>\n",
       "      <td>124.012154</td>\n",
       "      <td>40.722222</td>\n",
       "      <td>0</td>\n",
       "      <td>0</td>\n",
       "      <td>1</td>\n",
       "    </tr>\n",
       "    <tr>\n",
       "      <th>TRAIN_4889</th>\n",
       "      <td>25.0</td>\n",
       "      <td>103.0</td>\n",
       "      <td>1</td>\n",
       "      <td>74</td>\n",
       "      <td>215.0</td>\n",
       "      <td>210.82</td>\n",
       "      <td>123.014251</td>\n",
       "      <td>40.777778</td>\n",
       "      <td>0</td>\n",
       "      <td>0</td>\n",
       "      <td>1</td>\n",
       "    </tr>\n",
       "  </tbody>\n",
       "</table>\n",
       "</div>"
      ],
      "text/plain": [
       "            Exercise_Duration    BPM  Gender  Age  Calories_Burned  \\\n",
       "ID                                                                   \n",
       "TRAIN_1672               16.0   87.0       1   67             94.0   \n",
       "TRAIN_2227                1.0   88.0       1   40              5.0   \n",
       "TRAIN_2457               17.0  103.0       1   43            121.0   \n",
       "TRAIN_4889               25.0  103.0       1   74            215.0   \n",
       "\n",
       "            Height(cm)  Weight(kg)  Body_Temperature(C)  \\\n",
       "ID                                                        \n",
       "TRAIN_1672      210.82  124.012154            40.111111   \n",
       "TRAIN_2227      218.44  131.995380            37.777778   \n",
       "TRAIN_2457      213.36  124.012154            40.722222   \n",
       "TRAIN_4889      210.82  123.014251            40.777778   \n",
       "\n",
       "            Weight_Status_Normal Weight  Weight_Status_Obese  \\\n",
       "ID                                                             \n",
       "TRAIN_1672                            0                    0   \n",
       "TRAIN_2227                            0                    0   \n",
       "TRAIN_2457                            0                    0   \n",
       "TRAIN_4889                            0                    0   \n",
       "\n",
       "            Weight_Status_Overweight  \n",
       "ID                                    \n",
       "TRAIN_1672                         1  \n",
       "TRAIN_2227                         1  \n",
       "TRAIN_2457                         1  \n",
       "TRAIN_4889                         1  "
      ]
     },
     "execution_count": 135,
     "metadata": {},
     "output_type": "execute_result"
    }
   ],
   "source": [
    "q1 = np.percentile(train['Weight(kg)'], 25)\n",
    "q3 = np.percentile(train['Weight(kg)'], 75)\n",
    "iqr = q3 - q1\n",
    "weight_check = train.loc[train['Weight(kg)'] > q3 + iqr * 1.5,:].copy()\n",
    "weight_check"
   ]
  },
  {
   "cell_type": "code",
   "execution_count": 136,
   "id": "fdb3c435",
   "metadata": {
    "scrolled": true
   },
   "outputs": [
    {
     "data": {
      "text/plain": [
       "ID\n",
       "TRAIN_1672    27.902340\n",
       "TRAIN_2227    27.662689\n",
       "TRAIN_2457    27.241953\n",
       "TRAIN_4889    27.677815\n",
       "dtype: float64"
      ]
     },
     "execution_count": 136,
     "metadata": {},
     "output_type": "execute_result"
    }
   ],
   "source": [
    "# overweight 맞음. 키가 많이 커서 몸무게가 많이 나가도 상관 x \n",
    "weight_check['Weight(kg)']/np.square((weight_check['Height(cm)']/100))"
   ]
  },
  {
   "cell_type": "markdown",
   "id": "958d4f57",
   "metadata": {},
   "source": [
    "# 다중공선성 확인"
   ]
  },
  {
   "cell_type": "code",
   "execution_count": 137,
   "id": "a8a4e0ab",
   "metadata": {},
   "outputs": [
    {
     "data": {
      "text/html": [
       "<div>\n",
       "<style scoped>\n",
       "    .dataframe tbody tr th:only-of-type {\n",
       "        vertical-align: middle;\n",
       "    }\n",
       "\n",
       "    .dataframe tbody tr th {\n",
       "        vertical-align: top;\n",
       "    }\n",
       "\n",
       "    .dataframe thead th {\n",
       "        text-align: right;\n",
       "    }\n",
       "</style>\n",
       "<table border=\"1\" class=\"dataframe\">\n",
       "  <thead>\n",
       "    <tr style=\"text-align: right;\">\n",
       "      <th></th>\n",
       "      <th>Exercise_Duration</th>\n",
       "      <th>BPM</th>\n",
       "      <th>Gender</th>\n",
       "      <th>Age</th>\n",
       "      <th>Calories_Burned</th>\n",
       "      <th>Height(cm)</th>\n",
       "      <th>Weight(kg)</th>\n",
       "      <th>Body_Temperature(C)</th>\n",
       "      <th>Weight_Status_Normal Weight</th>\n",
       "      <th>Weight_Status_Obese</th>\n",
       "      <th>Weight_Status_Overweight</th>\n",
       "    </tr>\n",
       "    <tr>\n",
       "      <th>ID</th>\n",
       "      <th></th>\n",
       "      <th></th>\n",
       "      <th></th>\n",
       "      <th></th>\n",
       "      <th></th>\n",
       "      <th></th>\n",
       "      <th></th>\n",
       "      <th></th>\n",
       "      <th></th>\n",
       "      <th></th>\n",
       "      <th></th>\n",
       "    </tr>\n",
       "  </thead>\n",
       "  <tbody>\n",
       "    <tr>\n",
       "      <th>TRAIN_0000</th>\n",
       "      <td>26.0</td>\n",
       "      <td>107.0</td>\n",
       "      <td>0</td>\n",
       "      <td>45</td>\n",
       "      <td>166.0</td>\n",
       "      <td>175.26</td>\n",
       "      <td>69.989303</td>\n",
       "      <td>40.888889</td>\n",
       "      <td>1</td>\n",
       "      <td>0</td>\n",
       "      <td>0</td>\n",
       "    </tr>\n",
       "    <tr>\n",
       "      <th>TRAIN_0001</th>\n",
       "      <td>7.0</td>\n",
       "      <td>88.0</td>\n",
       "      <td>1</td>\n",
       "      <td>50</td>\n",
       "      <td>33.0</td>\n",
       "      <td>198.12</td>\n",
       "      <td>102.012924</td>\n",
       "      <td>39.611111</td>\n",
       "      <td>0</td>\n",
       "      <td>0</td>\n",
       "      <td>1</td>\n",
       "    </tr>\n",
       "  </tbody>\n",
       "</table>\n",
       "</div>"
      ],
      "text/plain": [
       "            Exercise_Duration    BPM  Gender  Age  Calories_Burned  \\\n",
       "ID                                                                   \n",
       "TRAIN_0000               26.0  107.0       0   45            166.0   \n",
       "TRAIN_0001                7.0   88.0       1   50             33.0   \n",
       "\n",
       "            Height(cm)  Weight(kg)  Body_Temperature(C)  \\\n",
       "ID                                                        \n",
       "TRAIN_0000      175.26   69.989303            40.888889   \n",
       "TRAIN_0001      198.12  102.012924            39.611111   \n",
       "\n",
       "            Weight_Status_Normal Weight  Weight_Status_Obese  \\\n",
       "ID                                                             \n",
       "TRAIN_0000                            1                    0   \n",
       "TRAIN_0001                            0                    0   \n",
       "\n",
       "            Weight_Status_Overweight  \n",
       "ID                                    \n",
       "TRAIN_0000                         0  \n",
       "TRAIN_0001                         1  "
      ]
     },
     "execution_count": 137,
     "metadata": {},
     "output_type": "execute_result"
    }
   ],
   "source": [
    "train.head(2)"
   ]
  },
  {
   "cell_type": "code",
   "execution_count": 138,
   "id": "68afc1a7",
   "metadata": {},
   "outputs": [
    {
     "name": "stdout",
     "output_type": "stream",
     "text": [
      "    VIF Factor                     features\n",
      "0     8.210682            Exercise_Duration\n",
      "1     3.685165                          BPM\n",
      "2     2.830266                       Gender\n",
      "3     1.119195                          Age\n",
      "4    23.479034                   Height(cm)\n",
      "5    32.721601                   Weight(kg)\n",
      "6     5.489530          Body_Temperature(C)\n",
      "7  9227.882142  Weight_Status_Normal Weight\n",
      "8   403.230304          Weight_Status_Obese\n",
      "9  5107.626376     Weight_Status_Overweight\n"
     ]
    }
   ],
   "source": [
    "from statsmodels.stats.outliers_influence import variance_inflation_factor\n",
    "\n",
    "# 종속 변수와 독립 변수 분리\n",
    "X = train.drop(columns='Calories_Burned')\n",
    "\n",
    "# VIF 계산\n",
    "\n",
    "vif = pd.DataFrame()\n",
    "vif[\"VIF Factor\"] = [variance_inflation_factor(X.values, i) for i in range(X.shape[1])]\n",
    "vif['features'] = X.columns\n",
    "\n",
    "print(vif)"
   ]
  },
  {
   "cell_type": "markdown",
   "id": "d20e1751",
   "metadata": {},
   "source": [
    "## 전체 분포 확인"
   ]
  },
  {
   "cell_type": "code",
   "execution_count": 139,
   "id": "358ad068",
   "metadata": {
    "scrolled": true
   },
   "outputs": [
    {
     "data": {
      "text/plain": [
       "<Axes: >"
      ]
     },
     "execution_count": 139,
     "metadata": {},
     "output_type": "execute_result"
    },
    {
     "data": {
      "image/png": "[encoded data removed]",
      "text/plain": [
       "<Figure size 2000x800 with 1 Axes>"
      ]
     },
     "metadata": {},
     "output_type": "display_data"
    }
   ],
   "source": [
    "# 인코딩을 한 값을 제외하면 분포가 고르지 않은 걸 확인할 수 있다. \n",
    "plt.figure(figsize=(20,8))\n",
    "sns.boxplot(train)"
   ]
  },
  {
   "cell_type": "markdown",
   "id": "206e2ff1",
   "metadata": {},
   "source": [
    "## 상관계수 분석"
   ]
  },
  {
   "cell_type": "code",
   "execution_count": 142,
   "id": "5d1451f7",
   "metadata": {},
   "outputs": [],
   "source": [
    "# 인코딩된 컬럼을 제외하고 상관계수 분석 \n",
    "correlation = train[['Exercise_Duration', 'BPM', 'Age','Height(cm)',\n",
    "                     'Weight(kg)', 'Body_Temperature(C)', 'Calories_Burned']].corr()"
   ]
  },
  {
   "cell_type": "code",
   "execution_count": 143,
   "id": "9afaa0c9",
   "metadata": {},
   "outputs": [
    {
     "data": {
      "text/plain": [
       "<Axes: >"
      ]
     },
     "execution_count": 143,
     "metadata": {},
     "output_type": "execute_result"
    },
    {
     "data": {
      "image/png": "[encoded data removed]",
      "text/plain": [
       "<Figure size 1000x1000 with 2 Axes>"
      ]
     },
     "metadata": {},
     "output_type": "display_data"
    }
   ],
   "source": [
    "plt.figure(figsize=(10,10))\n",
    "sns.heatmap(correlation, annot=True, cmap='coolwarm')"
   ]
  },
  {
   "cell_type": "markdown",
   "id": "4b2f9719",
   "metadata": {},
   "source": [
    "## 머신러닝 - Lasso"
   ]
  },
  {
   "cell_type": "code",
   "execution_count": 154,
   "id": "ad35d4fe",
   "metadata": {},
   "outputs": [],
   "source": [
    "X = train.drop(columns=['Calories_Burned'])\n",
    "y = train['Calories_Burned']"
   ]
  },
  {
   "cell_type": "code",
   "execution_count": 155,
   "id": "178d5452",
   "metadata": {},
   "outputs": [],
   "source": [
    "X_train, X_test, y_train, y_test = train_test_split(X, y, test_size=0.1, random_state=42)"
   ]
  },
  {
   "cell_type": "code",
   "execution_count": 156,
   "id": "d929d3fa",
   "metadata": {},
   "outputs": [],
   "source": [
    "param_grid = {'alpha': [0.001, 0.01, 0.1, 1.0, 10.0]}"
   ]
  },
  {
   "cell_type": "code",
   "execution_count": 157,
   "id": "42e91fbd",
   "metadata": {
    "scrolled": true
   },
   "outputs": [],
   "source": [
    "lasso_model = Lasso()"
   ]
  },
  {
   "cell_type": "code",
   "execution_count": 158,
   "id": "fafd8ad4",
   "metadata": {
    "scrolled": true
   },
   "outputs": [
    {
     "data": {
      "text/html": [
       "<style>#sk-container-id-2 {color: black;background-color: white;}#sk-container-id-2 pre{padding: 0;}#sk-container-id-2 div.sk-toggleable {background-color: white;}#sk-container-id-2 label.sk-toggleable__label {cursor: pointer;display: block;width: 100%;margin-bottom: 0;padding: 0.3em;box-sizing: border-box;text-align: center;}#sk-container-id-2 label.sk-toggleable__label-arrow:before {content: \"▸\";float: left;margin-right: 0.25em;color: #696969;}#sk-container-id-2 label.sk-toggleable__label-arrow:hover:before {color: black;}#sk-container-id-2 div.sk-estimator:hover label.sk-toggleable__label-arrow:before {color: black;}#sk-container-id-2 div.sk-toggleable__content {max-height: 0;max-width: 0;overflow: hidden;text-align: left;background-color: #f0f8ff;}#sk-container-id-2 div.sk-toggleable__content pre {margin: 0.2em;color: black;border-radius: 0.25em;background-color: #f0f8ff;}#sk-container-id-2 input.sk-toggleable__control:checked~div.sk-toggleable__content {max-height: 200px;max-width: 100%;overflow: auto;}#sk-container-id-2 input.sk-toggleable__control:checked~label.sk-toggleable__label-arrow:before {content: \"▾\";}#sk-container-id-2 div.sk-estimator input.sk-toggleable__control:checked~label.sk-toggleable__label {background-color: #d4ebff;}#sk-container-id-2 div.sk-label input.sk-toggleable__control:checked~label.sk-toggleable__label {background-color: #d4ebff;}#sk-container-id-2 input.sk-hidden--visually {border: 0;clip: rect(1px 1px 1px 1px);clip: rect(1px, 1px, 1px, 1px);height: 1px;margin: -1px;overflow: hidden;padding: 0;position: absolute;width: 1px;}#sk-container-id-2 div.sk-estimator {font-family: monospace;background-color: #f0f8ff;border: 1px dotted black;border-radius: 0.25em;box-sizing: border-box;margin-bottom: 0.5em;}#sk-container-id-2 div.sk-estimator:hover {background-color: #d4ebff;}#sk-container-id-2 div.sk-parallel-item::after {content: \"\";width: 100%;border-bottom: 1px solid gray;flex-grow: 1;}#sk-container-id-2 div.sk-label:hover label.sk-toggleable__label {background-color: #d4ebff;}#sk-container-id-2 div.sk-serial::before {content: \"\";position: absolute;border-left: 1px solid gray;box-sizing: border-box;top: 0;bottom: 0;left: 50%;z-index: 0;}#sk-container-id-2 div.sk-serial {display: flex;flex-direction: column;align-items: center;background-color: white;padding-right: 0.2em;padding-left: 0.2em;position: relative;}#sk-container-id-2 div.sk-item {position: relative;z-index: 1;}#sk-container-id-2 div.sk-parallel {display: flex;align-items: stretch;justify-content: center;background-color: white;position: relative;}#sk-container-id-2 div.sk-item::before, #sk-container-id-2 div.sk-parallel-item::before {content: \"\";position: absolute;border-left: 1px solid gray;box-sizing: border-box;top: 0;bottom: 0;left: 50%;z-index: -1;}#sk-container-id-2 div.sk-parallel-item {display: flex;flex-direction: column;z-index: 1;position: relative;background-color: white;}#sk-container-id-2 div.sk-parallel-item:first-child::after {align-self: flex-end;width: 50%;}#sk-container-id-2 div.sk-parallel-item:last-child::after {align-self: flex-start;width: 50%;}#sk-container-id-2 div.sk-parallel-item:only-child::after {width: 0;}#sk-container-id-2 div.sk-dashed-wrapped {border: 1px dashed gray;margin: 0 0.4em 0.5em 0.4em;box-sizing: border-box;padding-bottom: 0.4em;background-color: white;}#sk-container-id-2 div.sk-label label {font-family: monospace;font-weight: bold;display: inline-block;line-height: 1.2em;}#sk-container-id-2 div.sk-label-container {text-align: center;}#sk-container-id-2 div.sk-container {/* jupyter's `normalize.less` sets `[hidden] { display: none; }` but bootstrap.min.css set `[hidden] { display: none !important; }` so we also need the `!important` here to be able to override the default hidden behavior on the sphinx rendered scikit-learn.org. See: https://github.com/scikit-learn/scikit-learn/issues/21755 */display: inline-block !important;position: relative;}#sk-container-id-2 div.sk-text-repr-fallback {display: none;}</style><div id=\"sk-container-id-2\" class=\"sk-top-container\"><div class=\"sk-text-repr-fallback\"><pre>GridSearchCV(cv=5, estimator=Lasso(),\n",
       "             param_grid={&#x27;alpha&#x27;: [0.001, 0.01, 0.1, 1.0, 10.0]})</pre><b>In a Jupyter environment, please rerun this cell to show the HTML representation or trust the notebook. <br />On GitHub, the HTML representation is unable to render, please try loading this page with nbviewer.org.</b></div><div class=\"sk-container\" hidden><div class=\"sk-item sk-dashed-wrapped\"><div class=\"sk-label-container\"><div class=\"sk-label sk-toggleable\"><input class=\"sk-toggleable__control sk-hidden--visually\" id=\"sk-estimator-id-4\" type=\"checkbox\" ><label for=\"sk-estimator-id-4\" class=\"sk-toggleable__label sk-toggleable__label-arrow\">GridSearchCV</label><div class=\"sk-toggleable__content\"><pre>GridSearchCV(cv=5, estimator=Lasso(),\n",
       "             param_grid={&#x27;alpha&#x27;: [0.001, 0.01, 0.1, 1.0, 10.0]})</pre></div></div></div><div class=\"sk-parallel\"><div class=\"sk-parallel-item\"><div class=\"sk-item\"><div class=\"sk-label-container\"><div class=\"sk-label sk-toggleable\"><input class=\"sk-toggleable__control sk-hidden--visually\" id=\"sk-estimator-id-5\" type=\"checkbox\" ><label for=\"sk-estimator-id-5\" class=\"sk-toggleable__label sk-toggleable__label-arrow\">estimator: Lasso</label><div class=\"sk-toggleable__content\"><pre>Lasso()</pre></div></div></div><div class=\"sk-serial\"><div class=\"sk-item\"><div class=\"sk-estimator sk-toggleable\"><input class=\"sk-toggleable__control sk-hidden--visually\" id=\"sk-estimator-id-6\" type=\"checkbox\" ><label for=\"sk-estimator-id-6\" class=\"sk-toggleable__label sk-toggleable__label-arrow\">Lasso</label><div class=\"sk-toggleable__content\"><pre>Lasso()</pre></div></div></div></div></div></div></div></div></div></div>"
      ],
      "text/plain": [
       "GridSearchCV(cv=5, estimator=Lasso(),\n",
       "             param_grid={'alpha': [0.001, 0.01, 0.1, 1.0, 10.0]})"
      ]
     },
     "execution_count": 158,
     "metadata": {},
     "output_type": "execute_result"
    }
   ],
   "source": [
    "grid_search = GridSearchCV(lasso_model, param_grid, cv=5)  # Use 5-fold cross-validation\n",
    "grid_search.fit(X_train, y_train)  # Fit the grid search on the training data"
   ]
  },
  {
   "cell_type": "code",
   "execution_count": 159,
   "id": "4f7ff9e1",
   "metadata": {},
   "outputs": [],
   "source": [
    "best_alpha = grid_search.best_params_['alpha']  # Get the best value for alpha\n",
    "best_model = grid_search.best_estimator_ "
   ]
  },
  {
   "cell_type": "code",
   "execution_count": 160,
   "id": "39ed8e33",
   "metadata": {
    "scrolled": true
   },
   "outputs": [],
   "source": [
    "y_pred = best_model.predict(X_test)"
   ]
  },
  {
   "cell_type": "code",
   "execution_count": 162,
   "id": "6157c21c",
   "metadata": {},
   "outputs": [
    {
     "name": "stdout",
     "output_type": "stream",
     "text": [
      "Best Alpha: 0.01\n",
      "Best Model Coefficients: [  6.58248441   2.04574777  -1.4892199    0.50460565  -0.13769081\n",
      "   0.25610267 -16.84906636  -0.          -0.           0.81942154]\n",
      "Best Model Intercept: 449.9938293591757\n",
      "Mean Squared Error: 119.64781003220783\n"
     ]
    }
   ],
   "source": [
    "mse = mean_squared_error(y_test, y_pred)\n",
    "print(\"Best Alpha:\", best_alpha)\n",
    "print(\"Best Model Coefficients:\", best_model.coef_)\n",
    "print(\"Best Model Intercept:\", best_model.intercept_)\n",
    "print(\"Mean Squared Error:\", mse)"
   ]
  },
  {
   "cell_type": "code",
   "execution_count": 163,
   "id": "91303dc6",
   "metadata": {
    "scrolled": true
   },
   "outputs": [],
   "source": [
    "y_pred = best_model.fit(X,y).predict(test)"
   ]
  },
  {
   "cell_type": "code",
   "execution_count": 165,
   "id": "0902e813",
   "metadata": {},
   "outputs": [],
   "source": [
    "submission['Calories_Burned'] = y_pred"
   ]
  },
  {
   "cell_type": "code",
   "execution_count": 166,
   "id": "44703288",
   "metadata": {},
   "outputs": [],
   "source": [
    "submission.to_csv('The_Calories_EDA3차_ML_Lasso.csv')"
   ]
  },
  {
   "cell_type": "code",
   "execution_count": null,
   "id": "24f39ec0",
   "metadata": {},
   "outputs": [],
   "source": []
  }
 ],
 "metadata": {
  "kernelspec": {
   "display_name": "Python 3 (ipykernel)",
   "language": "python",
   "name": "python3"
  },
  "language_info": {
   "codemirror_mode": {
    "name": "ipython",
    "version": 3
   },
   "file_extension": ".py",
   "mimetype": "text/x-python",
   "name": "python",
   "nbconvert_exporter": "python",
   "pygments_lexer": "ipython3",
   "version": "3.9.12"
  },
  "toc": {
   "base_numbering": 1,
   "nav_menu": {},
   "number_sections": true,
   "sideBar": true,
   "skip_h1_title": false,
   "title_cell": "Table of Contents",
   "title_sidebar": "Contents",
   "toc_cell": false,
   "toc_position": {
    "height": "calc(100% - 180px)",
    "left": "10px",
    "top": "150px",
    "width": "388.212px"
   },
   "toc_section_display": true,
   "toc_window_display": false
  }
 },
 "nbformat": 4,
 "nbformat_minor": 5
}
