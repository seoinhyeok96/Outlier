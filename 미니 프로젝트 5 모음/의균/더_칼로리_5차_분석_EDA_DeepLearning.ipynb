{
  "cells": [
    {
      "cell_type": "markdown",
      "id": "96e84871",
      "metadata": {
        "id": "96e84871"
      },
      "source": [
        "# 라이브러리 불러오기"
      ]
    },
    {
      "cell_type": "code",
      "execution_count": 14,
      "id": "13dc6f9d",
      "metadata": {
        "id": "13dc6f9d"
      },
      "outputs": [],
      "source": [
        "from glob import glob \n",
        "import pandas as pd \n",
        "import numpy as np\n",
        "import seaborn as sns\n",
        "import matplotlib.pyplot as plt\n",
        "import plotly.express as px \n",
        "import folium\n",
        "from sklearn.linear_model import Lasso\n",
        "from sklearn.model_selection import GridSearchCV\n",
        "from sklearn.model_selection import train_test_split\n",
        "from sklearn.metrics import mean_squared_error"
      ]
    },
    {
      "cell_type": "markdown",
      "id": "5b864f8d",
      "metadata": {
        "id": "5b864f8d"
      },
      "source": [
        "# 데이터 불러오기"
      ]
    },
    {
      "cell_type": "code",
      "execution_count": 15,
      "id": "3c6543ac",
      "metadata": {
        "colab": {
          "base_uri": "https://localhost:8080/"
        },
        "id": "3c6543ac",
        "outputId": "87ee7844-b59e-4807-a50c-0b6bad2de912"
      },
      "outputs": [
        {
          "output_type": "execute_result",
          "data": {
            "text/plain": [
              "[]"
            ]
          },
          "metadata": {},
          "execution_count": 15
        }
      ],
      "source": [
        "glob('data/*.csv')"
      ]
    },
    {
      "cell_type": "code",
      "source": [
        "pd.read_csv('train.csv')"
      ],
      "metadata": {
        "colab": {
          "base_uri": "https://localhost:8080/",
          "height": 424
        },
        "id": "RzXM5MgZwSZm",
        "outputId": "b90da76c-00db-48b4-eafd-4ed426ece8fc"
      },
      "id": "RzXM5MgZwSZm",
      "execution_count": 16,
      "outputs": [
        {
          "output_type": "execute_result",
          "data": {
            "text/plain": [
              "              ID  Exercise_Duration  Body_Temperature(F)    BPM  Height(Feet)  \\\n",
              "0     TRAIN_0000               26.0                105.6  107.0           5.0   \n",
              "1     TRAIN_0001                7.0                103.3   88.0           6.0   \n",
              "2     TRAIN_0002                7.0                103.3   86.0           6.0   \n",
              "3     TRAIN_0003               17.0                104.0   99.0           5.0   \n",
              "4     TRAIN_0004                9.0                102.7   88.0           5.0   \n",
              "...          ...                ...                  ...    ...           ...   \n",
              "7495  TRAIN_7495               22.0                105.1  104.0           4.0   \n",
              "7496  TRAIN_7496               20.0                105.3  104.0           5.0   \n",
              "7497  TRAIN_7497                8.0                103.1   90.0           6.0   \n",
              "7498  TRAIN_7498               12.0                104.4   97.0           5.0   \n",
              "7499  TRAIN_7499               16.0                104.9   91.0           5.0   \n",
              "\n",
              "      Height(Remainder_Inches)  Weight(lb)  Weight_Status Gender  Age  \\\n",
              "0                          9.0       154.3  Normal Weight      F   45   \n",
              "1                          6.0       224.9     Overweight      M   50   \n",
              "2                          3.0       218.3     Overweight      M   29   \n",
              "3                          6.0       147.7  Normal Weight      F   33   \n",
              "4                         10.0       169.8  Normal Weight      M   38   \n",
              "...                        ...         ...            ...    ...  ...   \n",
              "7495                      10.0       112.4  Normal Weight      F   75   \n",
              "7496                       8.0       147.7  Normal Weight      F   21   \n",
              "7497                       2.0       202.8     Overweight      M   57   \n",
              "7498                       9.0       167.6     Overweight      M   35   \n",
              "7499                      12.0       189.6     Overweight      M   26   \n",
              "\n",
              "      Calories_Burned  \n",
              "0               166.0  \n",
              "1                33.0  \n",
              "2                23.0  \n",
              "3                91.0  \n",
              "4                32.0  \n",
              "...               ...  \n",
              "7495            151.0  \n",
              "7496            114.0  \n",
              "7497             41.0  \n",
              "7498             57.0  \n",
              "7499             59.0  \n",
              "\n",
              "[7500 rows x 11 columns]"
            ],
            "text/html": [
              "\n",
              "  <div id=\"df-c6688cbf-3c05-441f-a667-971976725b5c\">\n",
              "    <div class=\"colab-df-container\">\n",
              "      <div>\n",
              "<style scoped>\n",
              "    .dataframe tbody tr th:only-of-type {\n",
              "        vertical-align: middle;\n",
              "    }\n",
              "\n",
              "    .dataframe tbody tr th {\n",
              "        vertical-align: top;\n",
              "    }\n",
              "\n",
              "    .dataframe thead th {\n",
              "        text-align: right;\n",
              "    }\n",
              "</style>\n",
              "<table border=\"1\" class=\"dataframe\">\n",
              "  <thead>\n",
              "    <tr style=\"text-align: right;\">\n",
              "      <th></th>\n",
              "      <th>ID</th>\n",
              "      <th>Exercise_Duration</th>\n",
              "      <th>Body_Temperature(F)</th>\n",
              "      <th>BPM</th>\n",
              "      <th>Height(Feet)</th>\n",
              "      <th>Height(Remainder_Inches)</th>\n",
              "      <th>Weight(lb)</th>\n",
              "      <th>Weight_Status</th>\n",
              "      <th>Gender</th>\n",
              "      <th>Age</th>\n",
              "      <th>Calories_Burned</th>\n",
              "    </tr>\n",
              "  </thead>\n",
              "  <tbody>\n",
              "    <tr>\n",
              "      <th>0</th>\n",
              "      <td>TRAIN_0000</td>\n",
              "      <td>26.0</td>\n",
              "      <td>105.6</td>\n",
              "      <td>107.0</td>\n",
              "      <td>5.0</td>\n",
              "      <td>9.0</td>\n",
              "      <td>154.3</td>\n",
              "      <td>Normal Weight</td>\n",
              "      <td>F</td>\n",
              "      <td>45</td>\n",
              "      <td>166.0</td>\n",
              "    </tr>\n",
              "    <tr>\n",
              "      <th>1</th>\n",
              "      <td>TRAIN_0001</td>\n",
              "      <td>7.0</td>\n",
              "      <td>103.3</td>\n",
              "      <td>88.0</td>\n",
              "      <td>6.0</td>\n",
              "      <td>6.0</td>\n",
              "      <td>224.9</td>\n",
              "      <td>Overweight</td>\n",
              "      <td>M</td>\n",
              "      <td>50</td>\n",
              "      <td>33.0</td>\n",
              "    </tr>\n",
              "    <tr>\n",
              "      <th>2</th>\n",
              "      <td>TRAIN_0002</td>\n",
              "      <td>7.0</td>\n",
              "      <td>103.3</td>\n",
              "      <td>86.0</td>\n",
              "      <td>6.0</td>\n",
              "      <td>3.0</td>\n",
              "      <td>218.3</td>\n",
              "      <td>Overweight</td>\n",
              "      <td>M</td>\n",
              "      <td>29</td>\n",
              "      <td>23.0</td>\n",
              "    </tr>\n",
              "    <tr>\n",
              "      <th>3</th>\n",
              "      <td>TRAIN_0003</td>\n",
              "      <td>17.0</td>\n",
              "      <td>104.0</td>\n",
              "      <td>99.0</td>\n",
              "      <td>5.0</td>\n",
              "      <td>6.0</td>\n",
              "      <td>147.7</td>\n",
              "      <td>Normal Weight</td>\n",
              "      <td>F</td>\n",
              "      <td>33</td>\n",
              "      <td>91.0</td>\n",
              "    </tr>\n",
              "    <tr>\n",
              "      <th>4</th>\n",
              "      <td>TRAIN_0004</td>\n",
              "      <td>9.0</td>\n",
              "      <td>102.7</td>\n",
              "      <td>88.0</td>\n",
              "      <td>5.0</td>\n",
              "      <td>10.0</td>\n",
              "      <td>169.8</td>\n",
              "      <td>Normal Weight</td>\n",
              "      <td>M</td>\n",
              "      <td>38</td>\n",
              "      <td>32.0</td>\n",
              "    </tr>\n",
              "    <tr>\n",
              "      <th>...</th>\n",
              "      <td>...</td>\n",
              "      <td>...</td>\n",
              "      <td>...</td>\n",
              "      <td>...</td>\n",
              "      <td>...</td>\n",
              "      <td>...</td>\n",
              "      <td>...</td>\n",
              "      <td>...</td>\n",
              "      <td>...</td>\n",
              "      <td>...</td>\n",
              "      <td>...</td>\n",
              "    </tr>\n",
              "    <tr>\n",
              "      <th>7495</th>\n",
              "      <td>TRAIN_7495</td>\n",
              "      <td>22.0</td>\n",
              "      <td>105.1</td>\n",
              "      <td>104.0</td>\n",
              "      <td>4.0</td>\n",
              "      <td>10.0</td>\n",
              "      <td>112.4</td>\n",
              "      <td>Normal Weight</td>\n",
              "      <td>F</td>\n",
              "      <td>75</td>\n",
              "      <td>151.0</td>\n",
              "    </tr>\n",
              "    <tr>\n",
              "      <th>7496</th>\n",
              "      <td>TRAIN_7496</td>\n",
              "      <td>20.0</td>\n",
              "      <td>105.3</td>\n",
              "      <td>104.0</td>\n",
              "      <td>5.0</td>\n",
              "      <td>8.0</td>\n",
              "      <td>147.7</td>\n",
              "      <td>Normal Weight</td>\n",
              "      <td>F</td>\n",
              "      <td>21</td>\n",
              "      <td>114.0</td>\n",
              "    </tr>\n",
              "    <tr>\n",
              "      <th>7497</th>\n",
              "      <td>TRAIN_7497</td>\n",
              "      <td>8.0</td>\n",
              "      <td>103.1</td>\n",
              "      <td>90.0</td>\n",
              "      <td>6.0</td>\n",
              "      <td>2.0</td>\n",
              "      <td>202.8</td>\n",
              "      <td>Overweight</td>\n",
              "      <td>M</td>\n",
              "      <td>57</td>\n",
              "      <td>41.0</td>\n",
              "    </tr>\n",
              "    <tr>\n",
              "      <th>7498</th>\n",
              "      <td>TRAIN_7498</td>\n",
              "      <td>12.0</td>\n",
              "      <td>104.4</td>\n",
              "      <td>97.0</td>\n",
              "      <td>5.0</td>\n",
              "      <td>9.0</td>\n",
              "      <td>167.6</td>\n",
              "      <td>Overweight</td>\n",
              "      <td>M</td>\n",
              "      <td>35</td>\n",
              "      <td>57.0</td>\n",
              "    </tr>\n",
              "    <tr>\n",
              "      <th>7499</th>\n",
              "      <td>TRAIN_7499</td>\n",
              "      <td>16.0</td>\n",
              "      <td>104.9</td>\n",
              "      <td>91.0</td>\n",
              "      <td>5.0</td>\n",
              "      <td>12.0</td>\n",
              "      <td>189.6</td>\n",
              "      <td>Overweight</td>\n",
              "      <td>M</td>\n",
              "      <td>26</td>\n",
              "      <td>59.0</td>\n",
              "    </tr>\n",
              "  </tbody>\n",
              "</table>\n",
              "<p>7500 rows × 11 columns</p>\n",
              "</div>\n",
              "      <button class=\"colab-df-convert\" onclick=\"convertToInteractive('df-c6688cbf-3c05-441f-a667-971976725b5c')\"\n",
              "              title=\"Convert this dataframe to an interactive table.\"\n",
              "              style=\"display:none;\">\n",
              "        \n",
              "  <svg xmlns=\"http://www.w3.org/2000/svg\" height=\"24px\"viewBox=\"0 0 24 24\"\n",
              "       width=\"24px\">\n",
              "    <path d=\"M0 0h24v24H0V0z\" fill=\"none\"/>\n",
              "    <path d=\"M18.56 5.44l.94 2.06.94-2.06 2.06-.94-2.06-.94-.94-2.06-.94 2.06-2.06.94zm-11 1L8.5 8.5l.94-2.06 2.06-.94-2.06-.94L8.5 2.5l-.94 2.06-2.06.94zm10 10l.94 2.06.94-2.06 2.06-.94-2.06-.94-.94-2.06-.94 2.06-2.06.94z\"/><path d=\"M17.41 7.96l-1.37-1.37c-.4-.4-.92-.59-1.43-.59-.52 0-1.04.2-1.43.59L10.3 9.45l-7.72 7.72c-.78.78-.78 2.05 0 2.83L4 21.41c.39.39.9.59 1.41.59.51 0 1.02-.2 1.41-.59l7.78-7.78 2.81-2.81c.8-.78.8-2.07 0-2.86zM5.41 20L4 18.59l7.72-7.72 1.47 1.35L5.41 20z\"/>\n",
              "  </svg>\n",
              "      </button>\n",
              "      \n",
              "  <style>\n",
              "    .colab-df-container {\n",
              "      display:flex;\n",
              "      flex-wrap:wrap;\n",
              "      gap: 12px;\n",
              "    }\n",
              "\n",
              "    .colab-df-convert {\n",
              "      background-color: #E8F0FE;\n",
              "      border: none;\n",
              "      border-radius: 50%;\n",
              "      cursor: pointer;\n",
              "      display: none;\n",
              "      fill: #1967D2;\n",
              "      height: 32px;\n",
              "      padding: 0 0 0 0;\n",
              "      width: 32px;\n",
              "    }\n",
              "\n",
              "    .colab-df-convert:hover {\n",
              "      background-color: #E2EBFA;\n",
              "      box-shadow: 0px 1px 2px rgba(60, 64, 67, 0.3), 0px 1px 3px 1px rgba(60, 64, 67, 0.15);\n",
              "      fill: #174EA6;\n",
              "    }\n",
              "\n",
              "    [theme=dark] .colab-df-convert {\n",
              "      background-color: #3B4455;\n",
              "      fill: #D2E3FC;\n",
              "    }\n",
              "\n",
              "    [theme=dark] .colab-df-convert:hover {\n",
              "      background-color: #434B5C;\n",
              "      box-shadow: 0px 1px 3px 1px rgba(0, 0, 0, 0.15);\n",
              "      filter: drop-shadow(0px 1px 2px rgba(0, 0, 0, 0.3));\n",
              "      fill: #FFFFFF;\n",
              "    }\n",
              "  </style>\n",
              "\n",
              "      <script>\n",
              "        const buttonEl =\n",
              "          document.querySelector('#df-c6688cbf-3c05-441f-a667-971976725b5c button.colab-df-convert');\n",
              "        buttonEl.style.display =\n",
              "          google.colab.kernel.accessAllowed ? 'block' : 'none';\n",
              "\n",
              "        async function convertToInteractive(key) {\n",
              "          const element = document.querySelector('#df-c6688cbf-3c05-441f-a667-971976725b5c');\n",
              "          const dataTable =\n",
              "            await google.colab.kernel.invokeFunction('convertToInteractive',\n",
              "                                                     [key], {});\n",
              "          if (!dataTable) return;\n",
              "\n",
              "          const docLinkHtml = 'Like what you see? Visit the ' +\n",
              "            '<a target=\"_blank\" href=https://colab.research.google.com/notebooks/data_table.ipynb>data table notebook</a>'\n",
              "            + ' to learn more about interactive tables.';\n",
              "          element.innerHTML = '';\n",
              "          dataTable['output_type'] = 'display_data';\n",
              "          await google.colab.output.renderOutput(dataTable, element);\n",
              "          const docLink = document.createElement('div');\n",
              "          docLink.innerHTML = docLinkHtml;\n",
              "          element.appendChild(docLink);\n",
              "        }\n",
              "      </script>\n",
              "    </div>\n",
              "  </div>\n",
              "  "
            ]
          },
          "metadata": {},
          "execution_count": 16
        }
      ]
    },
    {
      "cell_type": "code",
      "execution_count": 17,
      "id": "f70a5ad4",
      "metadata": {
        "id": "f70a5ad4"
      },
      "outputs": [],
      "source": [
        "train = pd.read_csv('train.csv')\n",
        "test = pd.read_csv('test.csv')\n",
        "submission = pd.read_csv('sample_submission.csv')"
      ]
    },
    {
      "cell_type": "code",
      "execution_count": 18,
      "id": "e9b1401b",
      "metadata": {
        "id": "e9b1401b"
      },
      "outputs": [],
      "source": [
        "test = test.set_index('ID')\n",
        "train = train.set_index('ID')\n",
        "submission = submission.set_index('ID')"
      ]
    },
    {
      "cell_type": "markdown",
      "id": "72041c6a",
      "metadata": {
        "id": "72041c6a"
      },
      "source": [
        "# 데이터 살펴보기"
      ]
    },
    {
      "cell_type": "markdown",
      "id": "9f6a5c8b",
      "metadata": {
        "id": "9f6a5c8b"
      },
      "source": [
        "칼럼 설명\n",
        "- ID : 샘플 별 고유 id\n",
        "- Exercise_Duration  : 운동 시간(분)\n",
        "- Body_Temperature(F) : 체온\n",
        "- BPM : 심박수\n",
        "- Height(Feet) : 키(피트)\n",
        "- Height(Remainder_Inches) : 키(피트 계산 후 더해야 할 키)\n",
        "- Weight(lb) : 몸무게(파운드)\n",
        "- Weight_Status : 체중 상태\n",
        "- Gender : 성별\n",
        "- Age : 나이\n",
        "- Calories_Burned : 칼로리 소모량(목표 예측값)"
      ]
    },
    {
      "cell_type": "code",
      "execution_count": 19,
      "id": "d31cc821",
      "metadata": {
        "colab": {
          "base_uri": "https://localhost:8080/",
          "height": 238
        },
        "id": "d31cc821",
        "outputId": "3d099b0b-56a4-45fb-f2b4-0006e86ff68b"
      },
      "outputs": [
        {
          "output_type": "execute_result",
          "data": {
            "text/plain": [
              "            Exercise_Duration  Body_Temperature(F)    BPM  Height(Feet)  \\\n",
              "ID                                                                        \n",
              "TRAIN_0000               26.0                105.6  107.0           5.0   \n",
              "TRAIN_0001                7.0                103.3   88.0           6.0   \n",
              "TRAIN_0002                7.0                103.3   86.0           6.0   \n",
              "TRAIN_0003               17.0                104.0   99.0           5.0   \n",
              "TRAIN_0004                9.0                102.7   88.0           5.0   \n",
              "\n",
              "            Height(Remainder_Inches)  Weight(lb)  Weight_Status Gender  Age  \\\n",
              "ID                                                                            \n",
              "TRAIN_0000                       9.0       154.3  Normal Weight      F   45   \n",
              "TRAIN_0001                       6.0       224.9     Overweight      M   50   \n",
              "TRAIN_0002                       3.0       218.3     Overweight      M   29   \n",
              "TRAIN_0003                       6.0       147.7  Normal Weight      F   33   \n",
              "TRAIN_0004                      10.0       169.8  Normal Weight      M   38   \n",
              "\n",
              "            Calories_Burned  \n",
              "ID                           \n",
              "TRAIN_0000            166.0  \n",
              "TRAIN_0001             33.0  \n",
              "TRAIN_0002             23.0  \n",
              "TRAIN_0003             91.0  \n",
              "TRAIN_0004             32.0  "
            ],
            "text/html": [
              "\n",
              "  <div id=\"df-4c7603f8-616e-4fcd-8ee4-ad49463009a4\">\n",
              "    <div class=\"colab-df-container\">\n",
              "      <div>\n",
              "<style scoped>\n",
              "    .dataframe tbody tr th:only-of-type {\n",
              "        vertical-align: middle;\n",
              "    }\n",
              "\n",
              "    .dataframe tbody tr th {\n",
              "        vertical-align: top;\n",
              "    }\n",
              "\n",
              "    .dataframe thead th {\n",
              "        text-align: right;\n",
              "    }\n",
              "</style>\n",
              "<table border=\"1\" class=\"dataframe\">\n",
              "  <thead>\n",
              "    <tr style=\"text-align: right;\">\n",
              "      <th></th>\n",
              "      <th>Exercise_Duration</th>\n",
              "      <th>Body_Temperature(F)</th>\n",
              "      <th>BPM</th>\n",
              "      <th>Height(Feet)</th>\n",
              "      <th>Height(Remainder_Inches)</th>\n",
              "      <th>Weight(lb)</th>\n",
              "      <th>Weight_Status</th>\n",
              "      <th>Gender</th>\n",
              "      <th>Age</th>\n",
              "      <th>Calories_Burned</th>\n",
              "    </tr>\n",
              "    <tr>\n",
              "      <th>ID</th>\n",
              "      <th></th>\n",
              "      <th></th>\n",
              "      <th></th>\n",
              "      <th></th>\n",
              "      <th></th>\n",
              "      <th></th>\n",
              "      <th></th>\n",
              "      <th></th>\n",
              "      <th></th>\n",
              "      <th></th>\n",
              "    </tr>\n",
              "  </thead>\n",
              "  <tbody>\n",
              "    <tr>\n",
              "      <th>TRAIN_0000</th>\n",
              "      <td>26.0</td>\n",
              "      <td>105.6</td>\n",
              "      <td>107.0</td>\n",
              "      <td>5.0</td>\n",
              "      <td>9.0</td>\n",
              "      <td>154.3</td>\n",
              "      <td>Normal Weight</td>\n",
              "      <td>F</td>\n",
              "      <td>45</td>\n",
              "      <td>166.0</td>\n",
              "    </tr>\n",
              "    <tr>\n",
              "      <th>TRAIN_0001</th>\n",
              "      <td>7.0</td>\n",
              "      <td>103.3</td>\n",
              "      <td>88.0</td>\n",
              "      <td>6.0</td>\n",
              "      <td>6.0</td>\n",
              "      <td>224.9</td>\n",
              "      <td>Overweight</td>\n",
              "      <td>M</td>\n",
              "      <td>50</td>\n",
              "      <td>33.0</td>\n",
              "    </tr>\n",
              "    <tr>\n",
              "      <th>TRAIN_0002</th>\n",
              "      <td>7.0</td>\n",
              "      <td>103.3</td>\n",
              "      <td>86.0</td>\n",
              "      <td>6.0</td>\n",
              "      <td>3.0</td>\n",
              "      <td>218.3</td>\n",
              "      <td>Overweight</td>\n",
              "      <td>M</td>\n",
              "      <td>29</td>\n",
              "      <td>23.0</td>\n",
              "    </tr>\n",
              "    <tr>\n",
              "      <th>TRAIN_0003</th>\n",
              "      <td>17.0</td>\n",
              "      <td>104.0</td>\n",
              "      <td>99.0</td>\n",
              "      <td>5.0</td>\n",
              "      <td>6.0</td>\n",
              "      <td>147.7</td>\n",
              "      <td>Normal Weight</td>\n",
              "      <td>F</td>\n",
              "      <td>33</td>\n",
              "      <td>91.0</td>\n",
              "    </tr>\n",
              "    <tr>\n",
              "      <th>TRAIN_0004</th>\n",
              "      <td>9.0</td>\n",
              "      <td>102.7</td>\n",
              "      <td>88.0</td>\n",
              "      <td>5.0</td>\n",
              "      <td>10.0</td>\n",
              "      <td>169.8</td>\n",
              "      <td>Normal Weight</td>\n",
              "      <td>M</td>\n",
              "      <td>38</td>\n",
              "      <td>32.0</td>\n",
              "    </tr>\n",
              "  </tbody>\n",
              "</table>\n",
              "</div>\n",
              "      <button class=\"colab-df-convert\" onclick=\"convertToInteractive('df-4c7603f8-616e-4fcd-8ee4-ad49463009a4')\"\n",
              "              title=\"Convert this dataframe to an interactive table.\"\n",
              "              style=\"display:none;\">\n",
              "        \n",
              "  <svg xmlns=\"http://www.w3.org/2000/svg\" height=\"24px\"viewBox=\"0 0 24 24\"\n",
              "       width=\"24px\">\n",
              "    <path d=\"M0 0h24v24H0V0z\" fill=\"none\"/>\n",
              "    <path d=\"M18.56 5.44l.94 2.06.94-2.06 2.06-.94-2.06-.94-.94-2.06-.94 2.06-2.06.94zm-11 1L8.5 8.5l.94-2.06 2.06-.94-2.06-.94L8.5 2.5l-.94 2.06-2.06.94zm10 10l.94 2.06.94-2.06 2.06-.94-2.06-.94-.94-2.06-.94 2.06-2.06.94z\"/><path d=\"M17.41 7.96l-1.37-1.37c-.4-.4-.92-.59-1.43-.59-.52 0-1.04.2-1.43.59L10.3 9.45l-7.72 7.72c-.78.78-.78 2.05 0 2.83L4 21.41c.39.39.9.59 1.41.59.51 0 1.02-.2 1.41-.59l7.78-7.78 2.81-2.81c.8-.78.8-2.07 0-2.86zM5.41 20L4 18.59l7.72-7.72 1.47 1.35L5.41 20z\"/>\n",
              "  </svg>\n",
              "      </button>\n",
              "      \n",
              "  <style>\n",
              "    .colab-df-container {\n",
              "      display:flex;\n",
              "      flex-wrap:wrap;\n",
              "      gap: 12px;\n",
              "    }\n",
              "\n",
              "    .colab-df-convert {\n",
              "      background-color: #E8F0FE;\n",
              "      border: none;\n",
              "      border-radius: 50%;\n",
              "      cursor: pointer;\n",
              "      display: none;\n",
              "      fill: #1967D2;\n",
              "      height: 32px;\n",
              "      padding: 0 0 0 0;\n",
              "      width: 32px;\n",
              "    }\n",
              "\n",
              "    .colab-df-convert:hover {\n",
              "      background-color: #E2EBFA;\n",
              "      box-shadow: 0px 1px 2px rgba(60, 64, 67, 0.3), 0px 1px 3px 1px rgba(60, 64, 67, 0.15);\n",
              "      fill: #174EA6;\n",
              "    }\n",
              "\n",
              "    [theme=dark] .colab-df-convert {\n",
              "      background-color: #3B4455;\n",
              "      fill: #D2E3FC;\n",
              "    }\n",
              "\n",
              "    [theme=dark] .colab-df-convert:hover {\n",
              "      background-color: #434B5C;\n",
              "      box-shadow: 0px 1px 3px 1px rgba(0, 0, 0, 0.15);\n",
              "      filter: drop-shadow(0px 1px 2px rgba(0, 0, 0, 0.3));\n",
              "      fill: #FFFFFF;\n",
              "    }\n",
              "  </style>\n",
              "\n",
              "      <script>\n",
              "        const buttonEl =\n",
              "          document.querySelector('#df-4c7603f8-616e-4fcd-8ee4-ad49463009a4 button.colab-df-convert');\n",
              "        buttonEl.style.display =\n",
              "          google.colab.kernel.accessAllowed ? 'block' : 'none';\n",
              "\n",
              "        async function convertToInteractive(key) {\n",
              "          const element = document.querySelector('#df-4c7603f8-616e-4fcd-8ee4-ad49463009a4');\n",
              "          const dataTable =\n",
              "            await google.colab.kernel.invokeFunction('convertToInteractive',\n",
              "                                                     [key], {});\n",
              "          if (!dataTable) return;\n",
              "\n",
              "          const docLinkHtml = 'Like what you see? Visit the ' +\n",
              "            '<a target=\"_blank\" href=https://colab.research.google.com/notebooks/data_table.ipynb>data table notebook</a>'\n",
              "            + ' to learn more about interactive tables.';\n",
              "          element.innerHTML = '';\n",
              "          dataTable['output_type'] = 'display_data';\n",
              "          await google.colab.output.renderOutput(dataTable, element);\n",
              "          const docLink = document.createElement('div');\n",
              "          docLink.innerHTML = docLinkHtml;\n",
              "          element.appendChild(docLink);\n",
              "        }\n",
              "      </script>\n",
              "    </div>\n",
              "  </div>\n",
              "  "
            ]
          },
          "metadata": {},
          "execution_count": 19
        }
      ],
      "source": [
        "train.head()"
      ]
    },
    {
      "cell_type": "markdown",
      "id": "52410d51",
      "metadata": {
        "id": "52410d51"
      },
      "source": [
        "## 결측치 확인"
      ]
    },
    {
      "cell_type": "code",
      "execution_count": 20,
      "id": "dfcf00d3",
      "metadata": {
        "colab": {
          "base_uri": "https://localhost:8080/"
        },
        "id": "dfcf00d3",
        "outputId": "62658ad0-cdc1-4b4c-f78b-91c65ee717c5"
      },
      "outputs": [
        {
          "output_type": "execute_result",
          "data": {
            "text/plain": [
              "Exercise_Duration           0\n",
              "Body_Temperature(F)         0\n",
              "BPM                         0\n",
              "Height(Feet)                0\n",
              "Height(Remainder_Inches)    0\n",
              "Weight(lb)                  0\n",
              "Weight_Status               0\n",
              "Gender                      0\n",
              "Age                         0\n",
              "Calories_Burned             0\n",
              "dtype: int64"
            ]
          },
          "metadata": {},
          "execution_count": 20
        }
      ],
      "source": [
        "# 결측치 없음 \n",
        "train.isnull().sum()"
      ]
    },
    {
      "cell_type": "code",
      "execution_count": 21,
      "id": "b921ab70",
      "metadata": {
        "colab": {
          "base_uri": "https://localhost:8080/"
        },
        "id": "b921ab70",
        "outputId": "ec171621-60d0-478f-98aa-79c4fb06937d"
      },
      "outputs": [
        {
          "output_type": "execute_result",
          "data": {
            "text/plain": [
              "Exercise_Duration           0\n",
              "Body_Temperature(F)         0\n",
              "BPM                         0\n",
              "Height(Feet)                0\n",
              "Height(Remainder_Inches)    0\n",
              "Weight(lb)                  0\n",
              "Weight_Status               0\n",
              "Gender                      0\n",
              "Age                         0\n",
              "dtype: int64"
            ]
          },
          "metadata": {},
          "execution_count": 21
        }
      ],
      "source": [
        "# 결측치 없음 \n",
        "test.isnull().sum()"
      ]
    },
    {
      "cell_type": "markdown",
      "id": "ae04cb66",
      "metadata": {
        "id": "ae04cb66"
      },
      "source": [
        "## 이상치 확인"
      ]
    },
    {
      "cell_type": "code",
      "execution_count": 22,
      "id": "fcb3d927",
      "metadata": {
        "colab": {
          "base_uri": "https://localhost:8080/",
          "height": 300
        },
        "id": "fcb3d927",
        "outputId": "08889f81-b1af-43a5-9309-2be38dbb87f8"
      },
      "outputs": [
        {
          "output_type": "execute_result",
          "data": {
            "text/plain": [
              "       Exercise_Duration  Body_Temperature(F)          BPM  Height(Feet)  \\\n",
              "count          7500.0000          7500.000000  7500.000000   7500.000000   \n",
              "mean             15.5012           104.033573    95.498133      5.248800   \n",
              "std               8.3553             1.412845     9.587331      0.556663   \n",
              "min               1.0000            98.800000    69.000000      4.000000   \n",
              "25%               8.0000           103.300000    88.000000      5.000000   \n",
              "50%              15.0000           104.400000    95.000000      5.000000   \n",
              "75%              23.0000           105.100000   103.000000      6.000000   \n",
              "max              30.0000           106.700000   128.000000      7.000000   \n",
              "\n",
              "       Height(Remainder_Inches)   Weight(lb)          Age  Calories_Burned  \n",
              "count               7500.000000  7500.000000  7500.000000      7500.000000  \n",
              "mean                   5.717600   165.361187    42.636000        89.373467  \n",
              "std                    3.497315    33.308136    16.883188        62.817086  \n",
              "min                    0.000000    79.400000    20.000000         1.000000  \n",
              "25%                    3.000000   138.900000    28.000000        35.000000  \n",
              "50%                    6.000000   163.100000    39.000000        77.000000  \n",
              "75%                    9.000000   191.800000    56.000000       138.000000  \n",
              "max                   12.000000   291.000000    79.000000       300.000000  "
            ],
            "text/html": [
              "\n",
              "  <div id=\"df-57241fcc-fd70-4561-95a8-c4cf6f40e29e\">\n",
              "    <div class=\"colab-df-container\">\n",
              "      <div>\n",
              "<style scoped>\n",
              "    .dataframe tbody tr th:only-of-type {\n",
              "        vertical-align: middle;\n",
              "    }\n",
              "\n",
              "    .dataframe tbody tr th {\n",
              "        vertical-align: top;\n",
              "    }\n",
              "\n",
              "    .dataframe thead th {\n",
              "        text-align: right;\n",
              "    }\n",
              "</style>\n",
              "<table border=\"1\" class=\"dataframe\">\n",
              "  <thead>\n",
              "    <tr style=\"text-align: right;\">\n",
              "      <th></th>\n",
              "      <th>Exercise_Duration</th>\n",
              "      <th>Body_Temperature(F)</th>\n",
              "      <th>BPM</th>\n",
              "      <th>Height(Feet)</th>\n",
              "      <th>Height(Remainder_Inches)</th>\n",
              "      <th>Weight(lb)</th>\n",
              "      <th>Age</th>\n",
              "      <th>Calories_Burned</th>\n",
              "    </tr>\n",
              "  </thead>\n",
              "  <tbody>\n",
              "    <tr>\n",
              "      <th>count</th>\n",
              "      <td>7500.0000</td>\n",
              "      <td>7500.000000</td>\n",
              "      <td>7500.000000</td>\n",
              "      <td>7500.000000</td>\n",
              "      <td>7500.000000</td>\n",
              "      <td>7500.000000</td>\n",
              "      <td>7500.000000</td>\n",
              "      <td>7500.000000</td>\n",
              "    </tr>\n",
              "    <tr>\n",
              "      <th>mean</th>\n",
              "      <td>15.5012</td>\n",
              "      <td>104.033573</td>\n",
              "      <td>95.498133</td>\n",
              "      <td>5.248800</td>\n",
              "      <td>5.717600</td>\n",
              "      <td>165.361187</td>\n",
              "      <td>42.636000</td>\n",
              "      <td>89.373467</td>\n",
              "    </tr>\n",
              "    <tr>\n",
              "      <th>std</th>\n",
              "      <td>8.3553</td>\n",
              "      <td>1.412845</td>\n",
              "      <td>9.587331</td>\n",
              "      <td>0.556663</td>\n",
              "      <td>3.497315</td>\n",
              "      <td>33.308136</td>\n",
              "      <td>16.883188</td>\n",
              "      <td>62.817086</td>\n",
              "    </tr>\n",
              "    <tr>\n",
              "      <th>min</th>\n",
              "      <td>1.0000</td>\n",
              "      <td>98.800000</td>\n",
              "      <td>69.000000</td>\n",
              "      <td>4.000000</td>\n",
              "      <td>0.000000</td>\n",
              "      <td>79.400000</td>\n",
              "      <td>20.000000</td>\n",
              "      <td>1.000000</td>\n",
              "    </tr>\n",
              "    <tr>\n",
              "      <th>25%</th>\n",
              "      <td>8.0000</td>\n",
              "      <td>103.300000</td>\n",
              "      <td>88.000000</td>\n",
              "      <td>5.000000</td>\n",
              "      <td>3.000000</td>\n",
              "      <td>138.900000</td>\n",
              "      <td>28.000000</td>\n",
              "      <td>35.000000</td>\n",
              "    </tr>\n",
              "    <tr>\n",
              "      <th>50%</th>\n",
              "      <td>15.0000</td>\n",
              "      <td>104.400000</td>\n",
              "      <td>95.000000</td>\n",
              "      <td>5.000000</td>\n",
              "      <td>6.000000</td>\n",
              "      <td>163.100000</td>\n",
              "      <td>39.000000</td>\n",
              "      <td>77.000000</td>\n",
              "    </tr>\n",
              "    <tr>\n",
              "      <th>75%</th>\n",
              "      <td>23.0000</td>\n",
              "      <td>105.100000</td>\n",
              "      <td>103.000000</td>\n",
              "      <td>6.000000</td>\n",
              "      <td>9.000000</td>\n",
              "      <td>191.800000</td>\n",
              "      <td>56.000000</td>\n",
              "      <td>138.000000</td>\n",
              "    </tr>\n",
              "    <tr>\n",
              "      <th>max</th>\n",
              "      <td>30.0000</td>\n",
              "      <td>106.700000</td>\n",
              "      <td>128.000000</td>\n",
              "      <td>7.000000</td>\n",
              "      <td>12.000000</td>\n",
              "      <td>291.000000</td>\n",
              "      <td>79.000000</td>\n",
              "      <td>300.000000</td>\n",
              "    </tr>\n",
              "  </tbody>\n",
              "</table>\n",
              "</div>\n",
              "      <button class=\"colab-df-convert\" onclick=\"convertToInteractive('df-57241fcc-fd70-4561-95a8-c4cf6f40e29e')\"\n",
              "              title=\"Convert this dataframe to an interactive table.\"\n",
              "              style=\"display:none;\">\n",
              "        \n",
              "  <svg xmlns=\"http://www.w3.org/2000/svg\" height=\"24px\"viewBox=\"0 0 24 24\"\n",
              "       width=\"24px\">\n",
              "    <path d=\"M0 0h24v24H0V0z\" fill=\"none\"/>\n",
              "    <path d=\"M18.56 5.44l.94 2.06.94-2.06 2.06-.94-2.06-.94-.94-2.06-.94 2.06-2.06.94zm-11 1L8.5 8.5l.94-2.06 2.06-.94-2.06-.94L8.5 2.5l-.94 2.06-2.06.94zm10 10l.94 2.06.94-2.06 2.06-.94-2.06-.94-.94-2.06-.94 2.06-2.06.94z\"/><path d=\"M17.41 7.96l-1.37-1.37c-.4-.4-.92-.59-1.43-.59-.52 0-1.04.2-1.43.59L10.3 9.45l-7.72 7.72c-.78.78-.78 2.05 0 2.83L4 21.41c.39.39.9.59 1.41.59.51 0 1.02-.2 1.41-.59l7.78-7.78 2.81-2.81c.8-.78.8-2.07 0-2.86zM5.41 20L4 18.59l7.72-7.72 1.47 1.35L5.41 20z\"/>\n",
              "  </svg>\n",
              "      </button>\n",
              "      \n",
              "  <style>\n",
              "    .colab-df-container {\n",
              "      display:flex;\n",
              "      flex-wrap:wrap;\n",
              "      gap: 12px;\n",
              "    }\n",
              "\n",
              "    .colab-df-convert {\n",
              "      background-color: #E8F0FE;\n",
              "      border: none;\n",
              "      border-radius: 50%;\n",
              "      cursor: pointer;\n",
              "      display: none;\n",
              "      fill: #1967D2;\n",
              "      height: 32px;\n",
              "      padding: 0 0 0 0;\n",
              "      width: 32px;\n",
              "    }\n",
              "\n",
              "    .colab-df-convert:hover {\n",
              "      background-color: #E2EBFA;\n",
              "      box-shadow: 0px 1px 2px rgba(60, 64, 67, 0.3), 0px 1px 3px 1px rgba(60, 64, 67, 0.15);\n",
              "      fill: #174EA6;\n",
              "    }\n",
              "\n",
              "    [theme=dark] .colab-df-convert {\n",
              "      background-color: #3B4455;\n",
              "      fill: #D2E3FC;\n",
              "    }\n",
              "\n",
              "    [theme=dark] .colab-df-convert:hover {\n",
              "      background-color: #434B5C;\n",
              "      box-shadow: 0px 1px 3px 1px rgba(0, 0, 0, 0.15);\n",
              "      filter: drop-shadow(0px 1px 2px rgba(0, 0, 0, 0.3));\n",
              "      fill: #FFFFFF;\n",
              "    }\n",
              "  </style>\n",
              "\n",
              "      <script>\n",
              "        const buttonEl =\n",
              "          document.querySelector('#df-57241fcc-fd70-4561-95a8-c4cf6f40e29e button.colab-df-convert');\n",
              "        buttonEl.style.display =\n",
              "          google.colab.kernel.accessAllowed ? 'block' : 'none';\n",
              "\n",
              "        async function convertToInteractive(key) {\n",
              "          const element = document.querySelector('#df-57241fcc-fd70-4561-95a8-c4cf6f40e29e');\n",
              "          const dataTable =\n",
              "            await google.colab.kernel.invokeFunction('convertToInteractive',\n",
              "                                                     [key], {});\n",
              "          if (!dataTable) return;\n",
              "\n",
              "          const docLinkHtml = 'Like what you see? Visit the ' +\n",
              "            '<a target=\"_blank\" href=https://colab.research.google.com/notebooks/data_table.ipynb>data table notebook</a>'\n",
              "            + ' to learn more about interactive tables.';\n",
              "          element.innerHTML = '';\n",
              "          dataTable['output_type'] = 'display_data';\n",
              "          await google.colab.output.renderOutput(dataTable, element);\n",
              "          const docLink = document.createElement('div');\n",
              "          docLink.innerHTML = docLinkHtml;\n",
              "          element.appendChild(docLink);\n",
              "        }\n",
              "      </script>\n",
              "    </div>\n",
              "  </div>\n",
              "  "
            ]
          },
          "metadata": {},
          "execution_count": 22
        }
      ],
      "source": [
        "train.describe()"
      ]
    },
    {
      "cell_type": "code",
      "execution_count": 23,
      "id": "7944a48f",
      "metadata": {
        "colab": {
          "base_uri": "https://localhost:8080/",
          "height": 175
        },
        "id": "7944a48f",
        "outputId": "3cc587fc-4fed-4ead-ad83-b31e4b189668"
      },
      "outputs": [
        {
          "output_type": "execute_result",
          "data": {
            "text/plain": [
              "        Weight_Status Gender\n",
              "count            7500   7500\n",
              "unique              3      2\n",
              "top     Normal Weight      F\n",
              "freq             4681   3769"
            ],
            "text/html": [
              "\n",
              "  <div id=\"df-ae3365f8-15cf-45b2-a51f-fd7bfe7252ec\">\n",
              "    <div class=\"colab-df-container\">\n",
              "      <div>\n",
              "<style scoped>\n",
              "    .dataframe tbody tr th:only-of-type {\n",
              "        vertical-align: middle;\n",
              "    }\n",
              "\n",
              "    .dataframe tbody tr th {\n",
              "        vertical-align: top;\n",
              "    }\n",
              "\n",
              "    .dataframe thead th {\n",
              "        text-align: right;\n",
              "    }\n",
              "</style>\n",
              "<table border=\"1\" class=\"dataframe\">\n",
              "  <thead>\n",
              "    <tr style=\"text-align: right;\">\n",
              "      <th></th>\n",
              "      <th>Weight_Status</th>\n",
              "      <th>Gender</th>\n",
              "    </tr>\n",
              "  </thead>\n",
              "  <tbody>\n",
              "    <tr>\n",
              "      <th>count</th>\n",
              "      <td>7500</td>\n",
              "      <td>7500</td>\n",
              "    </tr>\n",
              "    <tr>\n",
              "      <th>unique</th>\n",
              "      <td>3</td>\n",
              "      <td>2</td>\n",
              "    </tr>\n",
              "    <tr>\n",
              "      <th>top</th>\n",
              "      <td>Normal Weight</td>\n",
              "      <td>F</td>\n",
              "    </tr>\n",
              "    <tr>\n",
              "      <th>freq</th>\n",
              "      <td>4681</td>\n",
              "      <td>3769</td>\n",
              "    </tr>\n",
              "  </tbody>\n",
              "</table>\n",
              "</div>\n",
              "      <button class=\"colab-df-convert\" onclick=\"convertToInteractive('df-ae3365f8-15cf-45b2-a51f-fd7bfe7252ec')\"\n",
              "              title=\"Convert this dataframe to an interactive table.\"\n",
              "              style=\"display:none;\">\n",
              "        \n",
              "  <svg xmlns=\"http://www.w3.org/2000/svg\" height=\"24px\"viewBox=\"0 0 24 24\"\n",
              "       width=\"24px\">\n",
              "    <path d=\"M0 0h24v24H0V0z\" fill=\"none\"/>\n",
              "    <path d=\"M18.56 5.44l.94 2.06.94-2.06 2.06-.94-2.06-.94-.94-2.06-.94 2.06-2.06.94zm-11 1L8.5 8.5l.94-2.06 2.06-.94-2.06-.94L8.5 2.5l-.94 2.06-2.06.94zm10 10l.94 2.06.94-2.06 2.06-.94-2.06-.94-.94-2.06-.94 2.06-2.06.94z\"/><path d=\"M17.41 7.96l-1.37-1.37c-.4-.4-.92-.59-1.43-.59-.52 0-1.04.2-1.43.59L10.3 9.45l-7.72 7.72c-.78.78-.78 2.05 0 2.83L4 21.41c.39.39.9.59 1.41.59.51 0 1.02-.2 1.41-.59l7.78-7.78 2.81-2.81c.8-.78.8-2.07 0-2.86zM5.41 20L4 18.59l7.72-7.72 1.47 1.35L5.41 20z\"/>\n",
              "  </svg>\n",
              "      </button>\n",
              "      \n",
              "  <style>\n",
              "    .colab-df-container {\n",
              "      display:flex;\n",
              "      flex-wrap:wrap;\n",
              "      gap: 12px;\n",
              "    }\n",
              "\n",
              "    .colab-df-convert {\n",
              "      background-color: #E8F0FE;\n",
              "      border: none;\n",
              "      border-radius: 50%;\n",
              "      cursor: pointer;\n",
              "      display: none;\n",
              "      fill: #1967D2;\n",
              "      height: 32px;\n",
              "      padding: 0 0 0 0;\n",
              "      width: 32px;\n",
              "    }\n",
              "\n",
              "    .colab-df-convert:hover {\n",
              "      background-color: #E2EBFA;\n",
              "      box-shadow: 0px 1px 2px rgba(60, 64, 67, 0.3), 0px 1px 3px 1px rgba(60, 64, 67, 0.15);\n",
              "      fill: #174EA6;\n",
              "    }\n",
              "\n",
              "    [theme=dark] .colab-df-convert {\n",
              "      background-color: #3B4455;\n",
              "      fill: #D2E3FC;\n",
              "    }\n",
              "\n",
              "    [theme=dark] .colab-df-convert:hover {\n",
              "      background-color: #434B5C;\n",
              "      box-shadow: 0px 1px 3px 1px rgba(0, 0, 0, 0.15);\n",
              "      filter: drop-shadow(0px 1px 2px rgba(0, 0, 0, 0.3));\n",
              "      fill: #FFFFFF;\n",
              "    }\n",
              "  </style>\n",
              "\n",
              "      <script>\n",
              "        const buttonEl =\n",
              "          document.querySelector('#df-ae3365f8-15cf-45b2-a51f-fd7bfe7252ec button.colab-df-convert');\n",
              "        buttonEl.style.display =\n",
              "          google.colab.kernel.accessAllowed ? 'block' : 'none';\n",
              "\n",
              "        async function convertToInteractive(key) {\n",
              "          const element = document.querySelector('#df-ae3365f8-15cf-45b2-a51f-fd7bfe7252ec');\n",
              "          const dataTable =\n",
              "            await google.colab.kernel.invokeFunction('convertToInteractive',\n",
              "                                                     [key], {});\n",
              "          if (!dataTable) return;\n",
              "\n",
              "          const docLinkHtml = 'Like what you see? Visit the ' +\n",
              "            '<a target=\"_blank\" href=https://colab.research.google.com/notebooks/data_table.ipynb>data table notebook</a>'\n",
              "            + ' to learn more about interactive tables.';\n",
              "          element.innerHTML = '';\n",
              "          dataTable['output_type'] = 'display_data';\n",
              "          await google.colab.output.renderOutput(dataTable, element);\n",
              "          const docLink = document.createElement('div');\n",
              "          docLink.innerHTML = docLinkHtml;\n",
              "          element.appendChild(docLink);\n",
              "        }\n",
              "      </script>\n",
              "    </div>\n",
              "  </div>\n",
              "  "
            ]
          },
          "metadata": {},
          "execution_count": 23
        }
      ],
      "source": [
        "train.describe(include='O')"
      ]
    },
    {
      "cell_type": "code",
      "execution_count": 24,
      "id": "205926e3",
      "metadata": {
        "colab": {
          "base_uri": "https://localhost:8080/",
          "height": 447
        },
        "id": "205926e3",
        "outputId": "6a8c54b2-9c1e-4123-8d2c-6c3af2081198"
      },
      "outputs": [
        {
          "output_type": "execute_result",
          "data": {
            "text/plain": [
              "<Axes: >"
            ]
          },
          "metadata": {},
          "execution_count": 24
        },
        {
          "output_type": "display_data",
          "data": {
            "text/plain": [
              "<Figure size 640x480 with 1 Axes>"
            ],
            "image/png": "[encoded data removed]"
          },
          "metadata": {}
        }
      ],
      "source": [
        "# Obese가 현저히 적음\n",
        "train['Weight_Status'].value_counts().plot.bar(rot=0)"
      ]
    },
    {
      "cell_type": "code",
      "execution_count": 25,
      "id": "1c90fd9d",
      "metadata": {
        "scrolled": true,
        "colab": {
          "base_uri": "https://localhost:8080/"
        },
        "id": "1c90fd9d",
        "outputId": "8102fd92-ae2a-4be9-93d3-89bfa24be49c"
      },
      "outputs": [
        {
          "output_type": "execute_result",
          "data": {
            "text/plain": [
              "Normal Weight    0.624133\n",
              "Overweight       0.348533\n",
              "Obese            0.027333\n",
              "Name: Weight_Status, dtype: float64"
            ]
          },
          "metadata": {},
          "execution_count": 25
        }
      ],
      "source": [
        "train['Weight_Status'].value_counts(1)"
      ]
    },
    {
      "cell_type": "code",
      "execution_count": 26,
      "id": "38ac3a0e",
      "metadata": {
        "colab": {
          "base_uri": "https://localhost:8080/",
          "height": 447
        },
        "id": "38ac3a0e",
        "outputId": "e70e0559-74ce-4aa7-f098-0eb3c2f3d121"
      },
      "outputs": [
        {
          "output_type": "execute_result",
          "data": {
            "text/plain": [
              "<Axes: >"
            ]
          },
          "metadata": {},
          "execution_count": 26
        },
        {
          "output_type": "display_data",
          "data": {
            "text/plain": [
              "<Figure size 640x480 with 1 Axes>"
            ],
            "image/png": "[encoded data removed]"
          },
          "metadata": {}
        }
      ],
      "source": [
        "train['Gender'].value_counts().plot.bar(rot=0)"
      ]
    },
    {
      "cell_type": "markdown",
      "id": "f95be7f9",
      "metadata": {
        "id": "f95be7f9"
      },
      "source": [
        "# 피처 엔지니어링"
      ]
    },
    {
      "cell_type": "code",
      "execution_count": 27,
      "id": "26205f23",
      "metadata": {
        "colab": {
          "base_uri": "https://localhost:8080/",
          "height": 143
        },
        "id": "26205f23",
        "outputId": "7c1e5f3c-94c5-4cb2-c23e-c1ec192fb4d2"
      },
      "outputs": [
        {
          "output_type": "execute_result",
          "data": {
            "text/plain": [
              "            Exercise_Duration  Body_Temperature(F)    BPM  Height(Feet)  \\\n",
              "ID                                                                        \n",
              "TRAIN_0000               26.0                105.6  107.0           5.0   \n",
              "TRAIN_0001                7.0                103.3   88.0           6.0   \n",
              "\n",
              "            Height(Remainder_Inches)  Weight(lb)  Weight_Status Gender  Age  \\\n",
              "ID                                                                            \n",
              "TRAIN_0000                       9.0       154.3  Normal Weight      F   45   \n",
              "TRAIN_0001                       6.0       224.9     Overweight      M   50   \n",
              "\n",
              "            Calories_Burned  \n",
              "ID                           \n",
              "TRAIN_0000            166.0  \n",
              "TRAIN_0001             33.0  "
            ],
            "text/html": [
              "\n",
              "  <div id=\"df-53372d86-45d3-4bd7-8d50-09e87addf909\">\n",
              "    <div class=\"colab-df-container\">\n",
              "      <div>\n",
              "<style scoped>\n",
              "    .dataframe tbody tr th:only-of-type {\n",
              "        vertical-align: middle;\n",
              "    }\n",
              "\n",
              "    .dataframe tbody tr th {\n",
              "        vertical-align: top;\n",
              "    }\n",
              "\n",
              "    .dataframe thead th {\n",
              "        text-align: right;\n",
              "    }\n",
              "</style>\n",
              "<table border=\"1\" class=\"dataframe\">\n",
              "  <thead>\n",
              "    <tr style=\"text-align: right;\">\n",
              "      <th></th>\n",
              "      <th>Exercise_Duration</th>\n",
              "      <th>Body_Temperature(F)</th>\n",
              "      <th>BPM</th>\n",
              "      <th>Height(Feet)</th>\n",
              "      <th>Height(Remainder_Inches)</th>\n",
              "      <th>Weight(lb)</th>\n",
              "      <th>Weight_Status</th>\n",
              "      <th>Gender</th>\n",
              "      <th>Age</th>\n",
              "      <th>Calories_Burned</th>\n",
              "    </tr>\n",
              "    <tr>\n",
              "      <th>ID</th>\n",
              "      <th></th>\n",
              "      <th></th>\n",
              "      <th></th>\n",
              "      <th></th>\n",
              "      <th></th>\n",
              "      <th></th>\n",
              "      <th></th>\n",
              "      <th></th>\n",
              "      <th></th>\n",
              "      <th></th>\n",
              "    </tr>\n",
              "  </thead>\n",
              "  <tbody>\n",
              "    <tr>\n",
              "      <th>TRAIN_0000</th>\n",
              "      <td>26.0</td>\n",
              "      <td>105.6</td>\n",
              "      <td>107.0</td>\n",
              "      <td>5.0</td>\n",
              "      <td>9.0</td>\n",
              "      <td>154.3</td>\n",
              "      <td>Normal Weight</td>\n",
              "      <td>F</td>\n",
              "      <td>45</td>\n",
              "      <td>166.0</td>\n",
              "    </tr>\n",
              "    <tr>\n",
              "      <th>TRAIN_0001</th>\n",
              "      <td>7.0</td>\n",
              "      <td>103.3</td>\n",
              "      <td>88.0</td>\n",
              "      <td>6.0</td>\n",
              "      <td>6.0</td>\n",
              "      <td>224.9</td>\n",
              "      <td>Overweight</td>\n",
              "      <td>M</td>\n",
              "      <td>50</td>\n",
              "      <td>33.0</td>\n",
              "    </tr>\n",
              "  </tbody>\n",
              "</table>\n",
              "</div>\n",
              "      <button class=\"colab-df-convert\" onclick=\"convertToInteractive('df-53372d86-45d3-4bd7-8d50-09e87addf909')\"\n",
              "              title=\"Convert this dataframe to an interactive table.\"\n",
              "              style=\"display:none;\">\n",
              "        \n",
              "  <svg xmlns=\"http://www.w3.org/2000/svg\" height=\"24px\"viewBox=\"0 0 24 24\"\n",
              "       width=\"24px\">\n",
              "    <path d=\"M0 0h24v24H0V0z\" fill=\"none\"/>\n",
              "    <path d=\"M18.56 5.44l.94 2.06.94-2.06 2.06-.94-2.06-.94-.94-2.06-.94 2.06-2.06.94zm-11 1L8.5 8.5l.94-2.06 2.06-.94-2.06-.94L8.5 2.5l-.94 2.06-2.06.94zm10 10l.94 2.06.94-2.06 2.06-.94-2.06-.94-.94-2.06-.94 2.06-2.06.94z\"/><path d=\"M17.41 7.96l-1.37-1.37c-.4-.4-.92-.59-1.43-.59-.52 0-1.04.2-1.43.59L10.3 9.45l-7.72 7.72c-.78.78-.78 2.05 0 2.83L4 21.41c.39.39.9.59 1.41.59.51 0 1.02-.2 1.41-.59l7.78-7.78 2.81-2.81c.8-.78.8-2.07 0-2.86zM5.41 20L4 18.59l7.72-7.72 1.47 1.35L5.41 20z\"/>\n",
              "  </svg>\n",
              "      </button>\n",
              "      \n",
              "  <style>\n",
              "    .colab-df-container {\n",
              "      display:flex;\n",
              "      flex-wrap:wrap;\n",
              "      gap: 12px;\n",
              "    }\n",
              "\n",
              "    .colab-df-convert {\n",
              "      background-color: #E8F0FE;\n",
              "      border: none;\n",
              "      border-radius: 50%;\n",
              "      cursor: pointer;\n",
              "      display: none;\n",
              "      fill: #1967D2;\n",
              "      height: 32px;\n",
              "      padding: 0 0 0 0;\n",
              "      width: 32px;\n",
              "    }\n",
              "\n",
              "    .colab-df-convert:hover {\n",
              "      background-color: #E2EBFA;\n",
              "      box-shadow: 0px 1px 2px rgba(60, 64, 67, 0.3), 0px 1px 3px 1px rgba(60, 64, 67, 0.15);\n",
              "      fill: #174EA6;\n",
              "    }\n",
              "\n",
              "    [theme=dark] .colab-df-convert {\n",
              "      background-color: #3B4455;\n",
              "      fill: #D2E3FC;\n",
              "    }\n",
              "\n",
              "    [theme=dark] .colab-df-convert:hover {\n",
              "      background-color: #434B5C;\n",
              "      box-shadow: 0px 1px 3px 1px rgba(0, 0, 0, 0.15);\n",
              "      filter: drop-shadow(0px 1px 2px rgba(0, 0, 0, 0.3));\n",
              "      fill: #FFFFFF;\n",
              "    }\n",
              "  </style>\n",
              "\n",
              "      <script>\n",
              "        const buttonEl =\n",
              "          document.querySelector('#df-53372d86-45d3-4bd7-8d50-09e87addf909 button.colab-df-convert');\n",
              "        buttonEl.style.display =\n",
              "          google.colab.kernel.accessAllowed ? 'block' : 'none';\n",
              "\n",
              "        async function convertToInteractive(key) {\n",
              "          const element = document.querySelector('#df-53372d86-45d3-4bd7-8d50-09e87addf909');\n",
              "          const dataTable =\n",
              "            await google.colab.kernel.invokeFunction('convertToInteractive',\n",
              "                                                     [key], {});\n",
              "          if (!dataTable) return;\n",
              "\n",
              "          const docLinkHtml = 'Like what you see? Visit the ' +\n",
              "            '<a target=\"_blank\" href=https://colab.research.google.com/notebooks/data_table.ipynb>data table notebook</a>'\n",
              "            + ' to learn more about interactive tables.';\n",
              "          element.innerHTML = '';\n",
              "          dataTable['output_type'] = 'display_data';\n",
              "          await google.colab.output.renderOutput(dataTable, element);\n",
              "          const docLink = document.createElement('div');\n",
              "          docLink.innerHTML = docLinkHtml;\n",
              "          element.appendChild(docLink);\n",
              "        }\n",
              "      </script>\n",
              "    </div>\n",
              "  </div>\n",
              "  "
            ]
          },
          "metadata": {},
          "execution_count": 27
        }
      ],
      "source": [
        "train.head(2)"
      ]
    },
    {
      "cell_type": "markdown",
      "id": "af5896e3",
      "metadata": {
        "id": "af5896e3"
      },
      "source": [
        "## 두 키 변수를 합해서 하나의 변수로 만들어 준다. "
      ]
    },
    {
      "cell_type": "code",
      "execution_count": 28,
      "id": "cce7d8b3",
      "metadata": {
        "id": "cce7d8b3"
      },
      "outputs": [],
      "source": [
        "# ft, inch column을 하나의 cm 컬럼으로 변경해줌 \n",
        "train['Height(cm)'] = train['Height(Feet)'] * 30.48 + train['Height(Remainder_Inches)']*2.54\n",
        "test['Height(cm)'] = test['Height(Feet)'] * 30.48 + test['Height(Remainder_Inches)']*2.54"
      ]
    },
    {
      "cell_type": "code",
      "execution_count": 29,
      "id": "3c613bec",
      "metadata": {
        "id": "3c613bec"
      },
      "outputs": [],
      "source": [
        "# 기존 ft, inch column은 삭제 \n",
        "train = train.drop(columns=['Height(Feet)','Height(Remainder_Inches)'])\n",
        "test = test.drop(columns=['Height(Feet)','Height(Remainder_Inches)'])"
      ]
    },
    {
      "cell_type": "markdown",
      "id": "1e44bae1",
      "metadata": {
        "id": "1e44bae1"
      },
      "source": [
        "## 몸무게와 몸의 온도를 kg, 섭씨로 바꿔준다. "
      ]
    },
    {
      "cell_type": "code",
      "execution_count": 30,
      "id": "978b994c",
      "metadata": {
        "id": "978b994c"
      },
      "outputs": [],
      "source": [
        "train['Weight(kg)'] = train['Weight(lb)'] * 0.45359237\n",
        "test['Weight(kg)'] = test['Weight(lb)'] * 0.45359237\n",
        "\n",
        "train['Body_Temperature(C)'] = (train['Body_Temperature(F)'] - 32)*(5/9)\n",
        "test['Body_Temperature(C)'] = (test['Body_Temperature(F)'] - 32)*(5/9)\n",
        "\n",
        "# drop\n",
        "train = train.drop(columns=['Weight(lb)','Body_Temperature(F)'])\n",
        "test = test.drop(columns=['Weight(lb)','Body_Temperature(F)'])"
      ]
    },
    {
      "cell_type": "markdown",
      "id": "8e823d42",
      "metadata": {
        "id": "8e823d42"
      },
      "source": [
        "## Weight status column을 삭제하고 bmi column 추가"
      ]
    },
    {
      "cell_type": "code",
      "execution_count": 31,
      "id": "7cfa6519",
      "metadata": {
        "colab": {
          "base_uri": "https://localhost:8080/",
          "height": 143
        },
        "id": "7cfa6519",
        "outputId": "226bd6d1-da6e-4404-aa94-7a9e320b5953"
      },
      "outputs": [
        {
          "output_type": "execute_result",
          "data": {
            "text/plain": [
              "            Exercise_Duration    BPM  Weight_Status Gender  Age  \\\n",
              "ID                                                                \n",
              "TRAIN_0000               26.0  107.0  Normal Weight      F   45   \n",
              "TRAIN_0001                7.0   88.0     Overweight      M   50   \n",
              "\n",
              "            Calories_Burned  Height(cm)  Weight(kg)  Body_Temperature(C)  \n",
              "ID                                                                        \n",
              "TRAIN_0000            166.0      175.26   69.989303            40.888889  \n",
              "TRAIN_0001             33.0      198.12  102.012924            39.611111  "
            ],
            "text/html": [
              "\n",
              "  <div id=\"df-0faf4a8e-fe8f-4171-b3c2-d783bf424016\">\n",
              "    <div class=\"colab-df-container\">\n",
              "      <div>\n",
              "<style scoped>\n",
              "    .dataframe tbody tr th:only-of-type {\n",
              "        vertical-align: middle;\n",
              "    }\n",
              "\n",
              "    .dataframe tbody tr th {\n",
              "        vertical-align: top;\n",
              "    }\n",
              "\n",
              "    .dataframe thead th {\n",
              "        text-align: right;\n",
              "    }\n",
              "</style>\n",
              "<table border=\"1\" class=\"dataframe\">\n",
              "  <thead>\n",
              "    <tr style=\"text-align: right;\">\n",
              "      <th></th>\n",
              "      <th>Exercise_Duration</th>\n",
              "      <th>BPM</th>\n",
              "      <th>Weight_Status</th>\n",
              "      <th>Gender</th>\n",
              "      <th>Age</th>\n",
              "      <th>Calories_Burned</th>\n",
              "      <th>Height(cm)</th>\n",
              "      <th>Weight(kg)</th>\n",
              "      <th>Body_Temperature(C)</th>\n",
              "    </tr>\n",
              "    <tr>\n",
              "      <th>ID</th>\n",
              "      <th></th>\n",
              "      <th></th>\n",
              "      <th></th>\n",
              "      <th></th>\n",
              "      <th></th>\n",
              "      <th></th>\n",
              "      <th></th>\n",
              "      <th></th>\n",
              "      <th></th>\n",
              "    </tr>\n",
              "  </thead>\n",
              "  <tbody>\n",
              "    <tr>\n",
              "      <th>TRAIN_0000</th>\n",
              "      <td>26.0</td>\n",
              "      <td>107.0</td>\n",
              "      <td>Normal Weight</td>\n",
              "      <td>F</td>\n",
              "      <td>45</td>\n",
              "      <td>166.0</td>\n",
              "      <td>175.26</td>\n",
              "      <td>69.989303</td>\n",
              "      <td>40.888889</td>\n",
              "    </tr>\n",
              "    <tr>\n",
              "      <th>TRAIN_0001</th>\n",
              "      <td>7.0</td>\n",
              "      <td>88.0</td>\n",
              "      <td>Overweight</td>\n",
              "      <td>M</td>\n",
              "      <td>50</td>\n",
              "      <td>33.0</td>\n",
              "      <td>198.12</td>\n",
              "      <td>102.012924</td>\n",
              "      <td>39.611111</td>\n",
              "    </tr>\n",
              "  </tbody>\n",
              "</table>\n",
              "</div>\n",
              "      <button class=\"colab-df-convert\" onclick=\"convertToInteractive('df-0faf4a8e-fe8f-4171-b3c2-d783bf424016')\"\n",
              "              title=\"Convert this dataframe to an interactive table.\"\n",
              "              style=\"display:none;\">\n",
              "        \n",
              "  <svg xmlns=\"http://www.w3.org/2000/svg\" height=\"24px\"viewBox=\"0 0 24 24\"\n",
              "       width=\"24px\">\n",
              "    <path d=\"M0 0h24v24H0V0z\" fill=\"none\"/>\n",
              "    <path d=\"M18.56 5.44l.94 2.06.94-2.06 2.06-.94-2.06-.94-.94-2.06-.94 2.06-2.06.94zm-11 1L8.5 8.5l.94-2.06 2.06-.94-2.06-.94L8.5 2.5l-.94 2.06-2.06.94zm10 10l.94 2.06.94-2.06 2.06-.94-2.06-.94-.94-2.06-.94 2.06-2.06.94z\"/><path d=\"M17.41 7.96l-1.37-1.37c-.4-.4-.92-.59-1.43-.59-.52 0-1.04.2-1.43.59L10.3 9.45l-7.72 7.72c-.78.78-.78 2.05 0 2.83L4 21.41c.39.39.9.59 1.41.59.51 0 1.02-.2 1.41-.59l7.78-7.78 2.81-2.81c.8-.78.8-2.07 0-2.86zM5.41 20L4 18.59l7.72-7.72 1.47 1.35L5.41 20z\"/>\n",
              "  </svg>\n",
              "      </button>\n",
              "      \n",
              "  <style>\n",
              "    .colab-df-container {\n",
              "      display:flex;\n",
              "      flex-wrap:wrap;\n",
              "      gap: 12px;\n",
              "    }\n",
              "\n",
              "    .colab-df-convert {\n",
              "      background-color: #E8F0FE;\n",
              "      border: none;\n",
              "      border-radius: 50%;\n",
              "      cursor: pointer;\n",
              "      display: none;\n",
              "      fill: #1967D2;\n",
              "      height: 32px;\n",
              "      padding: 0 0 0 0;\n",
              "      width: 32px;\n",
              "    }\n",
              "\n",
              "    .colab-df-convert:hover {\n",
              "      background-color: #E2EBFA;\n",
              "      box-shadow: 0px 1px 2px rgba(60, 64, 67, 0.3), 0px 1px 3px 1px rgba(60, 64, 67, 0.15);\n",
              "      fill: #174EA6;\n",
              "    }\n",
              "\n",
              "    [theme=dark] .colab-df-convert {\n",
              "      background-color: #3B4455;\n",
              "      fill: #D2E3FC;\n",
              "    }\n",
              "\n",
              "    [theme=dark] .colab-df-convert:hover {\n",
              "      background-color: #434B5C;\n",
              "      box-shadow: 0px 1px 3px 1px rgba(0, 0, 0, 0.15);\n",
              "      filter: drop-shadow(0px 1px 2px rgba(0, 0, 0, 0.3));\n",
              "      fill: #FFFFFF;\n",
              "    }\n",
              "  </style>\n",
              "\n",
              "      <script>\n",
              "        const buttonEl =\n",
              "          document.querySelector('#df-0faf4a8e-fe8f-4171-b3c2-d783bf424016 button.colab-df-convert');\n",
              "        buttonEl.style.display =\n",
              "          google.colab.kernel.accessAllowed ? 'block' : 'none';\n",
              "\n",
              "        async function convertToInteractive(key) {\n",
              "          const element = document.querySelector('#df-0faf4a8e-fe8f-4171-b3c2-d783bf424016');\n",
              "          const dataTable =\n",
              "            await google.colab.kernel.invokeFunction('convertToInteractive',\n",
              "                                                     [key], {});\n",
              "          if (!dataTable) return;\n",
              "\n",
              "          const docLinkHtml = 'Like what you see? Visit the ' +\n",
              "            '<a target=\"_blank\" href=https://colab.research.google.com/notebooks/data_table.ipynb>data table notebook</a>'\n",
              "            + ' to learn more about interactive tables.';\n",
              "          element.innerHTML = '';\n",
              "          dataTable['output_type'] = 'display_data';\n",
              "          await google.colab.output.renderOutput(dataTable, element);\n",
              "          const docLink = document.createElement('div');\n",
              "          docLink.innerHTML = docLinkHtml;\n",
              "          element.appendChild(docLink);\n",
              "        }\n",
              "      </script>\n",
              "    </div>\n",
              "  </div>\n",
              "  "
            ]
          },
          "metadata": {},
          "execution_count": 31
        }
      ],
      "source": [
        "train.head(2)"
      ]
    },
    {
      "cell_type": "code",
      "execution_count": 32,
      "id": "4b1baf21",
      "metadata": {
        "scrolled": true,
        "id": "4b1baf21"
      },
      "outputs": [],
      "source": [
        "train = train.drop(columns='Weight_Status')\n",
        "test = test.drop(columns='Weight_Status')"
      ]
    },
    {
      "cell_type": "code",
      "execution_count": 33,
      "id": "68e8df33",
      "metadata": {
        "id": "68e8df33"
      },
      "outputs": [],
      "source": [
        "train['BMI'] = train['Weight(kg)'] / np.square((train['Height(cm)']*0.01))\n",
        "test['BMI'] = test['Weight(kg)'] / np.square((test['Height(cm)']*0.01))"
      ]
    },
    {
      "cell_type": "markdown",
      "id": "03ed664b",
      "metadata": {
        "id": "03ed664b"
      },
      "source": [
        "## 성별 숫자형으로 전환"
      ]
    },
    {
      "cell_type": "code",
      "execution_count": 34,
      "id": "6c2073c9",
      "metadata": {
        "id": "6c2073c9"
      },
      "outputs": [],
      "source": [
        "# Label Encoding \n",
        "# Train 데이터 \n",
        "train.loc[train['Gender'] == 'F', 'Gender'] = 0\n",
        "train.loc[train['Gender'] == 'M', 'Gender'] = 1\n",
        "\n",
        "# Test 데이터 \n",
        "test.loc[test['Gender'] == 'F', 'Gender'] = 0\n",
        "test.loc[test['Gender'] == 'M', 'Gender'] = 1"
      ]
    },
    {
      "cell_type": "code",
      "execution_count": 35,
      "id": "05e720a8",
      "metadata": {
        "id": "05e720a8"
      },
      "outputs": [],
      "source": [
        "# dtype 변경해 주기 \n",
        "train['Gender'] = train['Gender'].astype('int')\n",
        "test['Gender'] = test['Gender'].astype('int')"
      ]
    },
    {
      "cell_type": "markdown",
      "id": "74441b34",
      "metadata": {
        "id": "74441b34"
      },
      "source": [
        "## 칼럼 순서 조정"
      ]
    },
    {
      "cell_type": "code",
      "execution_count": 36,
      "id": "5a1311e4",
      "metadata": {
        "id": "5a1311e4"
      },
      "outputs": [],
      "source": [
        "train = train[['Gender','Exercise_Duration', 'BPM',  'Age', 'Height(cm)', \n",
        "               'Weight(kg)', 'Body_Temperature(C)', 'BMI', 'Calories_Burned']]"
      ]
    },
    {
      "cell_type": "code",
      "execution_count": 37,
      "id": "766c918c",
      "metadata": {
        "id": "766c918c"
      },
      "outputs": [],
      "source": [
        "test = test[['Gender','Exercise_Duration', 'BPM',  'Age', 'Height(cm)',\n",
        "             'Weight(kg)', 'Body_Temperature(C)', 'BMI']]"
      ]
    },
    {
      "cell_type": "code",
      "execution_count": 38,
      "id": "397cb72e",
      "metadata": {
        "colab": {
          "base_uri": "https://localhost:8080/",
          "height": 143
        },
        "id": "397cb72e",
        "outputId": "6c28f819-af42-4691-9592-49e3071a3493"
      },
      "outputs": [
        {
          "output_type": "execute_result",
          "data": {
            "text/plain": [
              "            Gender  Exercise_Duration    BPM  Age  Height(cm)  Weight(kg)  \\\n",
              "ID                                                                          \n",
              "TRAIN_0000       0               26.0  107.0   45      175.26   69.989303   \n",
              "TRAIN_0001       1                7.0   88.0   50      198.12  102.012924   \n",
              "\n",
              "            Body_Temperature(C)        BMI  Calories_Burned  \n",
              "ID                                                           \n",
              "TRAIN_0000            40.888889  22.785893            166.0  \n",
              "TRAIN_0001            39.611111  25.989538             33.0  "
            ],
            "text/html": [
              "\n",
              "  <div id=\"df-ff75e21e-d457-455f-833d-0f181c78ed2e\">\n",
              "    <div class=\"colab-df-container\">\n",
              "      <div>\n",
              "<style scoped>\n",
              "    .dataframe tbody tr th:only-of-type {\n",
              "        vertical-align: middle;\n",
              "    }\n",
              "\n",
              "    .dataframe tbody tr th {\n",
              "        vertical-align: top;\n",
              "    }\n",
              "\n",
              "    .dataframe thead th {\n",
              "        text-align: right;\n",
              "    }\n",
              "</style>\n",
              "<table border=\"1\" class=\"dataframe\">\n",
              "  <thead>\n",
              "    <tr style=\"text-align: right;\">\n",
              "      <th></th>\n",
              "      <th>Gender</th>\n",
              "      <th>Exercise_Duration</th>\n",
              "      <th>BPM</th>\n",
              "      <th>Age</th>\n",
              "      <th>Height(cm)</th>\n",
              "      <th>Weight(kg)</th>\n",
              "      <th>Body_Temperature(C)</th>\n",
              "      <th>BMI</th>\n",
              "      <th>Calories_Burned</th>\n",
              "    </tr>\n",
              "    <tr>\n",
              "      <th>ID</th>\n",
              "      <th></th>\n",
              "      <th></th>\n",
              "      <th></th>\n",
              "      <th></th>\n",
              "      <th></th>\n",
              "      <th></th>\n",
              "      <th></th>\n",
              "      <th></th>\n",
              "      <th></th>\n",
              "    </tr>\n",
              "  </thead>\n",
              "  <tbody>\n",
              "    <tr>\n",
              "      <th>TRAIN_0000</th>\n",
              "      <td>0</td>\n",
              "      <td>26.0</td>\n",
              "      <td>107.0</td>\n",
              "      <td>45</td>\n",
              "      <td>175.26</td>\n",
              "      <td>69.989303</td>\n",
              "      <td>40.888889</td>\n",
              "      <td>22.785893</td>\n",
              "      <td>166.0</td>\n",
              "    </tr>\n",
              "    <tr>\n",
              "      <th>TRAIN_0001</th>\n",
              "      <td>1</td>\n",
              "      <td>7.0</td>\n",
              "      <td>88.0</td>\n",
              "      <td>50</td>\n",
              "      <td>198.12</td>\n",
              "      <td>102.012924</td>\n",
              "      <td>39.611111</td>\n",
              "      <td>25.989538</td>\n",
              "      <td>33.0</td>\n",
              "    </tr>\n",
              "  </tbody>\n",
              "</table>\n",
              "</div>\n",
              "      <button class=\"colab-df-convert\" onclick=\"convertToInteractive('df-ff75e21e-d457-455f-833d-0f181c78ed2e')\"\n",
              "              title=\"Convert this dataframe to an interactive table.\"\n",
              "              style=\"display:none;\">\n",
              "        \n",
              "  <svg xmlns=\"http://www.w3.org/2000/svg\" height=\"24px\"viewBox=\"0 0 24 24\"\n",
              "       width=\"24px\">\n",
              "    <path d=\"M0 0h24v24H0V0z\" fill=\"none\"/>\n",
              "    <path d=\"M18.56 5.44l.94 2.06.94-2.06 2.06-.94-2.06-.94-.94-2.06-.94 2.06-2.06.94zm-11 1L8.5 8.5l.94-2.06 2.06-.94-2.06-.94L8.5 2.5l-.94 2.06-2.06.94zm10 10l.94 2.06.94-2.06 2.06-.94-2.06-.94-.94-2.06-.94 2.06-2.06.94z\"/><path d=\"M17.41 7.96l-1.37-1.37c-.4-.4-.92-.59-1.43-.59-.52 0-1.04.2-1.43.59L10.3 9.45l-7.72 7.72c-.78.78-.78 2.05 0 2.83L4 21.41c.39.39.9.59 1.41.59.51 0 1.02-.2 1.41-.59l7.78-7.78 2.81-2.81c.8-.78.8-2.07 0-2.86zM5.41 20L4 18.59l7.72-7.72 1.47 1.35L5.41 20z\"/>\n",
              "  </svg>\n",
              "      </button>\n",
              "      \n",
              "  <style>\n",
              "    .colab-df-container {\n",
              "      display:flex;\n",
              "      flex-wrap:wrap;\n",
              "      gap: 12px;\n",
              "    }\n",
              "\n",
              "    .colab-df-convert {\n",
              "      background-color: #E8F0FE;\n",
              "      border: none;\n",
              "      border-radius: 50%;\n",
              "      cursor: pointer;\n",
              "      display: none;\n",
              "      fill: #1967D2;\n",
              "      height: 32px;\n",
              "      padding: 0 0 0 0;\n",
              "      width: 32px;\n",
              "    }\n",
              "\n",
              "    .colab-df-convert:hover {\n",
              "      background-color: #E2EBFA;\n",
              "      box-shadow: 0px 1px 2px rgba(60, 64, 67, 0.3), 0px 1px 3px 1px rgba(60, 64, 67, 0.15);\n",
              "      fill: #174EA6;\n",
              "    }\n",
              "\n",
              "    [theme=dark] .colab-df-convert {\n",
              "      background-color: #3B4455;\n",
              "      fill: #D2E3FC;\n",
              "    }\n",
              "\n",
              "    [theme=dark] .colab-df-convert:hover {\n",
              "      background-color: #434B5C;\n",
              "      box-shadow: 0px 1px 3px 1px rgba(0, 0, 0, 0.15);\n",
              "      filter: drop-shadow(0px 1px 2px rgba(0, 0, 0, 0.3));\n",
              "      fill: #FFFFFF;\n",
              "    }\n",
              "  </style>\n",
              "\n",
              "      <script>\n",
              "        const buttonEl =\n",
              "          document.querySelector('#df-ff75e21e-d457-455f-833d-0f181c78ed2e button.colab-df-convert');\n",
              "        buttonEl.style.display =\n",
              "          google.colab.kernel.accessAllowed ? 'block' : 'none';\n",
              "\n",
              "        async function convertToInteractive(key) {\n",
              "          const element = document.querySelector('#df-ff75e21e-d457-455f-833d-0f181c78ed2e');\n",
              "          const dataTable =\n",
              "            await google.colab.kernel.invokeFunction('convertToInteractive',\n",
              "                                                     [key], {});\n",
              "          if (!dataTable) return;\n",
              "\n",
              "          const docLinkHtml = 'Like what you see? Visit the ' +\n",
              "            '<a target=\"_blank\" href=https://colab.research.google.com/notebooks/data_table.ipynb>data table notebook</a>'\n",
              "            + ' to learn more about interactive tables.';\n",
              "          element.innerHTML = '';\n",
              "          dataTable['output_type'] = 'display_data';\n",
              "          await google.colab.output.renderOutput(dataTable, element);\n",
              "          const docLink = document.createElement('div');\n",
              "          docLink.innerHTML = docLinkHtml;\n",
              "          element.appendChild(docLink);\n",
              "        }\n",
              "      </script>\n",
              "    </div>\n",
              "  </div>\n",
              "  "
            ]
          },
          "metadata": {},
          "execution_count": 38
        }
      ],
      "source": [
        "train.head(2)"
      ]
    },
    {
      "cell_type": "code",
      "execution_count": 39,
      "id": "3b928286",
      "metadata": {
        "colab": {
          "base_uri": "https://localhost:8080/",
          "height": 143
        },
        "id": "3b928286",
        "outputId": "a37b0789-c699-4af8-9448-49b26fe26b2b"
      },
      "outputs": [
        {
          "output_type": "execute_result",
          "data": {
            "text/plain": [
              "           Gender  Exercise_Duration    BPM  Age  Height(cm)  Weight(kg)  \\\n",
              "ID                                                                         \n",
              "TEST_0000       0               26.0  107.0   45      154.94   51.981686   \n",
              "TEST_0001       1               29.0  111.0   21      187.96   89.992726   \n",
              "\n",
              "           Body_Temperature(C)        BMI  \n",
              "ID                                         \n",
              "TEST_0000            40.611111  21.653258  \n",
              "TEST_0001            40.500000  25.472791  "
            ],
            "text/html": [
              "\n",
              "  <div id=\"df-ee59b6cc-c745-4606-b48d-e03d92efb973\">\n",
              "    <div class=\"colab-df-container\">\n",
              "      <div>\n",
              "<style scoped>\n",
              "    .dataframe tbody tr th:only-of-type {\n",
              "        vertical-align: middle;\n",
              "    }\n",
              "\n",
              "    .dataframe tbody tr th {\n",
              "        vertical-align: top;\n",
              "    }\n",
              "\n",
              "    .dataframe thead th {\n",
              "        text-align: right;\n",
              "    }\n",
              "</style>\n",
              "<table border=\"1\" class=\"dataframe\">\n",
              "  <thead>\n",
              "    <tr style=\"text-align: right;\">\n",
              "      <th></th>\n",
              "      <th>Gender</th>\n",
              "      <th>Exercise_Duration</th>\n",
              "      <th>BPM</th>\n",
              "      <th>Age</th>\n",
              "      <th>Height(cm)</th>\n",
              "      <th>Weight(kg)</th>\n",
              "      <th>Body_Temperature(C)</th>\n",
              "      <th>BMI</th>\n",
              "    </tr>\n",
              "    <tr>\n",
              "      <th>ID</th>\n",
              "      <th></th>\n",
              "      <th></th>\n",
              "      <th></th>\n",
              "      <th></th>\n",
              "      <th></th>\n",
              "      <th></th>\n",
              "      <th></th>\n",
              "      <th></th>\n",
              "    </tr>\n",
              "  </thead>\n",
              "  <tbody>\n",
              "    <tr>\n",
              "      <th>TEST_0000</th>\n",
              "      <td>0</td>\n",
              "      <td>26.0</td>\n",
              "      <td>107.0</td>\n",
              "      <td>45</td>\n",
              "      <td>154.94</td>\n",
              "      <td>51.981686</td>\n",
              "      <td>40.611111</td>\n",
              "      <td>21.653258</td>\n",
              "    </tr>\n",
              "    <tr>\n",
              "      <th>TEST_0001</th>\n",
              "      <td>1</td>\n",
              "      <td>29.0</td>\n",
              "      <td>111.0</td>\n",
              "      <td>21</td>\n",
              "      <td>187.96</td>\n",
              "      <td>89.992726</td>\n",
              "      <td>40.500000</td>\n",
              "      <td>25.472791</td>\n",
              "    </tr>\n",
              "  </tbody>\n",
              "</table>\n",
              "</div>\n",
              "      <button class=\"colab-df-convert\" onclick=\"convertToInteractive('df-ee59b6cc-c745-4606-b48d-e03d92efb973')\"\n",
              "              title=\"Convert this dataframe to an interactive table.\"\n",
              "              style=\"display:none;\">\n",
              "        \n",
              "  <svg xmlns=\"http://www.w3.org/2000/svg\" height=\"24px\"viewBox=\"0 0 24 24\"\n",
              "       width=\"24px\">\n",
              "    <path d=\"M0 0h24v24H0V0z\" fill=\"none\"/>\n",
              "    <path d=\"M18.56 5.44l.94 2.06.94-2.06 2.06-.94-2.06-.94-.94-2.06-.94 2.06-2.06.94zm-11 1L8.5 8.5l.94-2.06 2.06-.94-2.06-.94L8.5 2.5l-.94 2.06-2.06.94zm10 10l.94 2.06.94-2.06 2.06-.94-2.06-.94-.94-2.06-.94 2.06-2.06.94z\"/><path d=\"M17.41 7.96l-1.37-1.37c-.4-.4-.92-.59-1.43-.59-.52 0-1.04.2-1.43.59L10.3 9.45l-7.72 7.72c-.78.78-.78 2.05 0 2.83L4 21.41c.39.39.9.59 1.41.59.51 0 1.02-.2 1.41-.59l7.78-7.78 2.81-2.81c.8-.78.8-2.07 0-2.86zM5.41 20L4 18.59l7.72-7.72 1.47 1.35L5.41 20z\"/>\n",
              "  </svg>\n",
              "      </button>\n",
              "      \n",
              "  <style>\n",
              "    .colab-df-container {\n",
              "      display:flex;\n",
              "      flex-wrap:wrap;\n",
              "      gap: 12px;\n",
              "    }\n",
              "\n",
              "    .colab-df-convert {\n",
              "      background-color: #E8F0FE;\n",
              "      border: none;\n",
              "      border-radius: 50%;\n",
              "      cursor: pointer;\n",
              "      display: none;\n",
              "      fill: #1967D2;\n",
              "      height: 32px;\n",
              "      padding: 0 0 0 0;\n",
              "      width: 32px;\n",
              "    }\n",
              "\n",
              "    .colab-df-convert:hover {\n",
              "      background-color: #E2EBFA;\n",
              "      box-shadow: 0px 1px 2px rgba(60, 64, 67, 0.3), 0px 1px 3px 1px rgba(60, 64, 67, 0.15);\n",
              "      fill: #174EA6;\n",
              "    }\n",
              "\n",
              "    [theme=dark] .colab-df-convert {\n",
              "      background-color: #3B4455;\n",
              "      fill: #D2E3FC;\n",
              "    }\n",
              "\n",
              "    [theme=dark] .colab-df-convert:hover {\n",
              "      background-color: #434B5C;\n",
              "      box-shadow: 0px 1px 3px 1px rgba(0, 0, 0, 0.15);\n",
              "      filter: drop-shadow(0px 1px 2px rgba(0, 0, 0, 0.3));\n",
              "      fill: #FFFFFF;\n",
              "    }\n",
              "  </style>\n",
              "\n",
              "      <script>\n",
              "        const buttonEl =\n",
              "          document.querySelector('#df-ee59b6cc-c745-4606-b48d-e03d92efb973 button.colab-df-convert');\n",
              "        buttonEl.style.display =\n",
              "          google.colab.kernel.accessAllowed ? 'block' : 'none';\n",
              "\n",
              "        async function convertToInteractive(key) {\n",
              "          const element = document.querySelector('#df-ee59b6cc-c745-4606-b48d-e03d92efb973');\n",
              "          const dataTable =\n",
              "            await google.colab.kernel.invokeFunction('convertToInteractive',\n",
              "                                                     [key], {});\n",
              "          if (!dataTable) return;\n",
              "\n",
              "          const docLinkHtml = 'Like what you see? Visit the ' +\n",
              "            '<a target=\"_blank\" href=https://colab.research.google.com/notebooks/data_table.ipynb>data table notebook</a>'\n",
              "            + ' to learn more about interactive tables.';\n",
              "          element.innerHTML = '';\n",
              "          dataTable['output_type'] = 'display_data';\n",
              "          await google.colab.output.renderOutput(dataTable, element);\n",
              "          const docLink = document.createElement('div');\n",
              "          docLink.innerHTML = docLinkHtml;\n",
              "          element.appendChild(docLink);\n",
              "        }\n",
              "      </script>\n",
              "    </div>\n",
              "  </div>\n",
              "  "
            ]
          },
          "metadata": {},
          "execution_count": 39
        }
      ],
      "source": [
        "test.head(2)"
      ]
    },
    {
      "cell_type": "markdown",
      "id": "868a9b9d",
      "metadata": {
        "id": "868a9b9d"
      },
      "source": [
        "# 데이터 시각화"
      ]
    },
    {
      "cell_type": "code",
      "execution_count": 40,
      "id": "00c667ee",
      "metadata": {
        "colab": {
          "base_uri": "https://localhost:8080/",
          "height": 1000
        },
        "id": "00c667ee",
        "outputId": "e53daf98-8a6b-4304-e5cd-705ef049e0a2"
      },
      "outputs": [
        {
          "output_type": "display_data",
          "data": {
            "text/plain": [
              "<Figure size 2000x2000 with 9 Axes>"
            ],
            "image/png": "[encoded data removed]"
          },
          "metadata": {}
        }
      ],
      "source": [
        "train.hist(bins=100,figsize=(20,20));"
      ]
    },
    {
      "cell_type": "code",
      "execution_count": 41,
      "id": "43135e66",
      "metadata": {
        "colab": {
          "base_uri": "https://localhost:8080/"
        },
        "id": "43135e66",
        "outputId": "05bea8e6-e22c-4a9a-d152-0eb9938af5be"
      },
      "outputs": [
        {
          "output_type": "execute_result",
          "data": {
            "text/plain": [
              "count    7500.000000\n",
              "mean       40.018652\n",
              "std         0.784914\n",
              "min        37.111111\n",
              "25%        39.611111\n",
              "50%        40.222222\n",
              "75%        40.611111\n",
              "max        41.500000\n",
              "Name: Body_Temperature(C), dtype: float64"
            ]
          },
          "metadata": {},
          "execution_count": 41
        }
      ],
      "source": [
        "train['Body_Temperature(C)'].describe()"
      ]
    },
    {
      "cell_type": "code",
      "execution_count": 42,
      "id": "d208c721",
      "metadata": {
        "colab": {
          "base_uri": "https://localhost:8080/",
          "height": 430
        },
        "id": "d208c721",
        "outputId": "1fab6b57-ee27-4c90-9574-68b622512f08"
      },
      "outputs": [
        {
          "output_type": "display_data",
          "data": {
            "text/plain": [
              "<Figure size 640x480 with 1 Axes>"
            ],
            "image/png": "[encoded data removed]"
          },
          "metadata": {}
        }
      ],
      "source": [
        "# 몇 개의 낮은 온도의 Outlier가 보입니다. \n",
        "plt.boxplot(train['Body_Temperature(C)']);"
      ]
    },
    {
      "cell_type": "code",
      "execution_count": 43,
      "id": "ca9e041e",
      "metadata": {
        "colab": {
          "base_uri": "https://localhost:8080/"
        },
        "id": "ca9e041e",
        "outputId": "cdbc0813-58d9-40cb-fdc4-ac7018254f66"
      },
      "outputs": [
        {
          "output_type": "execute_result",
          "data": {
            "text/plain": [
              "count    7500.000000\n",
              "mean       95.498133\n",
              "std         9.587331\n",
              "min        69.000000\n",
              "25%        88.000000\n",
              "50%        95.000000\n",
              "75%       103.000000\n",
              "max       128.000000\n",
              "Name: BPM, dtype: float64"
            ]
          },
          "metadata": {},
          "execution_count": 43
        }
      ],
      "source": [
        "train['BPM'].describe()"
      ]
    },
    {
      "cell_type": "code",
      "execution_count": 44,
      "id": "32be2338",
      "metadata": {
        "colab": {
          "base_uri": "https://localhost:8080/",
          "height": 430
        },
        "id": "32be2338",
        "outputId": "a3fb8bc8-2f57-4465-a74e-87f390fce06b"
      },
      "outputs": [
        {
          "output_type": "display_data",
          "data": {
            "text/plain": [
              "<Figure size 640x480 with 1 Axes>"
            ],
            "image/png": "[encoded data removed]"
          },
          "metadata": {}
        }
      ],
      "source": [
        "# 심박도 Outlier가 하나 있습니다. \n",
        "plt.boxplot(train['BPM']);"
      ]
    },
    {
      "cell_type": "code",
      "execution_count": 45,
      "id": "bb446b47",
      "metadata": {
        "colab": {
          "base_uri": "https://localhost:8080/"
        },
        "id": "bb446b47",
        "outputId": "cd0ad895-d9c5-4c43-d2b8-610da5a1b279"
      },
      "outputs": [
        {
          "output_type": "execute_result",
          "data": {
            "text/plain": [
              "count    7500.000000\n",
              "mean       75.006573\n",
              "std        15.108316\n",
              "min        36.015234\n",
              "25%        63.003980\n",
              "50%        73.980916\n",
              "75%        86.999017\n",
              "max       131.995380\n",
              "Name: Weight(kg), dtype: float64"
            ]
          },
          "metadata": {},
          "execution_count": 45
        }
      ],
      "source": [
        "train['Weight(kg)'].describe()"
      ]
    },
    {
      "cell_type": "code",
      "execution_count": 46,
      "id": "97203566",
      "metadata": {
        "colab": {
          "base_uri": "https://localhost:8080/",
          "height": 430
        },
        "id": "97203566",
        "outputId": "c35bacb2-2060-406d-98fd-0760c5315134"
      },
      "outputs": [
        {
          "output_type": "display_data",
          "data": {
            "text/plain": [
              "<Figure size 640x480 with 1 Axes>"
            ],
            "image/png": "[encoded data removed]"
          },
          "metadata": {}
        }
      ],
      "source": [
        "# 몇 개의 몸무게 outlier가 있습니다. \n",
        "plt.boxplot(train['Weight(kg)']);"
      ]
    },
    {
      "cell_type": "markdown",
      "id": "f641571e",
      "metadata": {
        "id": "f641571e"
      },
      "source": [
        "## 전체 분포 확인"
      ]
    },
    {
      "cell_type": "code",
      "execution_count": 47,
      "id": "358ad068",
      "metadata": {
        "scrolled": true,
        "colab": {
          "base_uri": "https://localhost:8080/",
          "height": 608
        },
        "id": "358ad068",
        "outputId": "33864122-ba1a-4a64-8b14-8edf552141e5"
      },
      "outputs": [
        {
          "output_type": "execute_result",
          "data": {
            "text/plain": [
              "<Axes: >"
            ]
          },
          "metadata": {},
          "execution_count": 47
        },
        {
          "output_type": "display_data",
          "data": {
            "text/plain": [
              "<Figure size 2000x800 with 1 Axes>"
            ],
            "image/png": "[encoded data removed]"
          },
          "metadata": {}
        }
      ],
      "source": [
        "# 인코딩을 한 값을 제외하면 분포가 고르지 않은 걸 확인할 수 있다. \n",
        "plt.figure(figsize=(20,8))\n",
        "sns.boxplot(train)"
      ]
    },
    {
      "cell_type": "markdown",
      "id": "206e2ff1",
      "metadata": {
        "id": "206e2ff1"
      },
      "source": [
        "## 상관계수 분석"
      ]
    },
    {
      "cell_type": "code",
      "execution_count": 48,
      "id": "5d1451f7",
      "metadata": {
        "id": "5d1451f7"
      },
      "outputs": [],
      "source": [
        "# 인코딩된 컬럼을 제외하고 상관계수 분석 \n",
        "correlation = train[['Exercise_Duration', 'BPM', 'Age','Height(cm)',\n",
        "                     'Weight(kg)', 'Body_Temperature(C)', 'Calories_Burned']].corr()"
      ]
    },
    {
      "cell_type": "code",
      "execution_count": 49,
      "id": "9afaa0c9",
      "metadata": {
        "colab": {
          "base_uri": "https://localhost:8080/",
          "height": 990
        },
        "id": "9afaa0c9",
        "outputId": "6ded1140-f618-4097-daeb-0a4c751d5f06"
      },
      "outputs": [
        {
          "output_type": "execute_result",
          "data": {
            "text/plain": [
              "<Axes: >"
            ]
          },
          "metadata": {},
          "execution_count": 49
        },
        {
          "output_type": "display_data",
          "data": {
            "text/plain": [
              "<Figure size 1000x1000 with 2 Axes>"
            ],
            "image/png": "[encoded data removed]"
          },
          "metadata": {}
        }
      ],
      "source": [
        "plt.figure(figsize=(10,10))\n",
        "sns.heatmap(correlation, annot=True, cmap='coolwarm')"
      ]
    },
    {
      "cell_type": "markdown",
      "id": "d9e404f6",
      "metadata": {
        "id": "d9e404f6"
      },
      "source": [
        "# PolynomialFeatures로 변수 다양화 하기 + 표준화"
      ]
    },
    {
      "cell_type": "code",
      "execution_count": 50,
      "id": "d9ecaa83",
      "metadata": {
        "id": "d9ecaa83"
      },
      "outputs": [],
      "source": [
        "from sklearn.preprocessing import PolynomialFeatures"
      ]
    },
    {
      "cell_type": "code",
      "execution_count": 51,
      "id": "d27fd368",
      "metadata": {
        "id": "d27fd368"
      },
      "outputs": [],
      "source": [
        "poly = PolynomialFeatures(include_bias=False)\n",
        "\n",
        "poly_train = pd.DataFrame(poly.fit_transform(train.iloc[:,1:-1]), index=[train.index])\n",
        "poly_test = pd.DataFrame(poly.fit_transform(test.iloc[:,1:]), index=[test.index])"
      ]
    },
    {
      "cell_type": "code",
      "execution_count": 52,
      "id": "e00e055d",
      "metadata": {
        "scrolled": true,
        "colab": {
          "base_uri": "https://localhost:8080/",
          "height": 519
        },
        "id": "e00e055d",
        "outputId": "26b029af-20b4-4107-f3f7-d2ef14b97348"
      },
      "outputs": [
        {
          "output_type": "execute_result",
          "data": {
            "text/plain": [
              "              0      1     2       3           4          5          6   \\\n",
              "ID                                                                        \n",
              "TRAIN_0000  26.0  107.0  45.0  175.26   69.989303  40.888889  22.785893   \n",
              "TRAIN_0001   7.0   88.0  50.0  198.12  102.012924  39.611111  25.989538   \n",
              "TRAIN_0002   7.0   86.0  29.0  190.50   99.019214  39.611111  27.285349   \n",
              "TRAIN_0003  17.0   99.0  33.0  167.64   66.995593  40.000000  23.839159   \n",
              "TRAIN_0004   9.0   88.0  38.0  177.80   77.019984  39.277778  24.363513   \n",
              "...          ...    ...   ...     ...         ...        ...        ...   \n",
              "TRAIN_7495  22.0  104.0  75.0  147.32   50.983782  40.611111  23.491385   \n",
              "TRAIN_7496  20.0  104.0  21.0  172.72   66.995593  40.722222  22.457478   \n",
              "TRAIN_7497   8.0   90.0  57.0  187.96   91.988533  39.500000  26.037712   \n",
              "TRAIN_7498  12.0   97.0  35.0  175.26   76.022081  40.222222  24.749939   \n",
              "TRAIN_7499  16.0   91.0  26.0  182.88   86.001113  40.500000  25.714119   \n",
              "\n",
              "               7       8       9   ...          25            26           27  \\\n",
              "ID                                 ...                                          \n",
              "TRAIN_0000  676.0  2782.0  1170.0  ...  30716.0676  12266.325190  7166.186667   \n",
              "TRAIN_0001   49.0   616.0   350.0  ...  39251.5344  20210.800505  7847.753333   \n",
              "TRAIN_0002   49.0   602.0   203.0  ...  36290.2500  18863.160338  7545.916667   \n",
              "TRAIN_0003  289.0  1683.0   561.0  ...  28103.1696  11231.141219  6705.600000   \n",
              "TRAIN_0004   81.0   792.0   342.0  ...  31612.8400  13694.153231  6983.588889   \n",
              "...           ...     ...     ...  ...         ...           ...          ...   \n",
              "TRAIN_7495  484.0  2288.0  1650.0  ...  21703.1824   7510.930821  5982.828889   \n",
              "TRAIN_7496  400.0  2080.0   420.0  ...  29832.1984  11571.478831  7033.542222   \n",
              "TRAIN_7497   64.0   720.0   456.0  ...  35328.9616  17290.164594  7424.420000   \n",
              "TRAIN_7498  144.0  1164.0   420.0  ...  30716.0676  13323.629953  7049.346667   \n",
              "TRAIN_7499  256.0  1456.0   416.0  ...  33445.0944  15727.883610  7406.640000   \n",
              "\n",
              "                     28            29           30           31           32  \\\n",
              "ID                                                                             \n",
              "TRAIN_0000  3993.455591   4898.502491  2861.784821  1594.768756  1671.901235   \n",
              "TRAIN_0001  5149.047245  10406.636666  4040.845268  2651.268753  1569.040123   \n",
              "TRAIN_0002  5197.859022   9804.804815  3922.261103  2701.773841  1569.040123   \n",
              "TRAIN_0003  3996.396627   4488.409488  2679.823722  1597.118600  1600.000000   \n",
              "TRAIN_0004  4331.832645   5932.078001  3025.173833  1876.477406  1542.743827   \n",
              "...                 ...           ...          ...          ...          ...   \n",
              "TRAIN_7495  3460.750909   2599.346067  2070.508051  1197.679685  1649.262346   \n",
              "TRAIN_7496  3878.855549   4488.409488  2728.209428  1504.552037  1658.299383   \n",
              "TRAIN_7497  4894.048342   8461.890137  3633.547039  2395.170917  1560.250000   \n",
              "TRAIN_7498  4337.674382   5779.356832  3057.777044  1881.541904  1617.827160   \n",
              "TRAIN_7499  4702.598062   7396.191498  3483.045091  2211.442853  1640.250000   \n",
              "\n",
              "                     33          34  \n",
              "ID                                   \n",
              "TRAIN_0000   931.689843  519.196916  \n",
              "TRAIN_0001  1029.474473  675.456079  \n",
              "TRAIN_0002  1080.802999  744.490281  \n",
              "TRAIN_0003   953.566363  568.305505  \n",
              "TRAIN_0004   956.944657  593.580775  \n",
              "...                 ...         ...  \n",
              "TRAIN_7495   954.011266  551.845192  \n",
              "TRAIN_7496   914.518398  504.338305  \n",
              "TRAIN_7497  1028.489623  677.962445  \n",
              "TRAIN_7498   995.497563  612.559501  \n",
              "TRAIN_7499  1041.421815  661.215910  \n",
              "\n",
              "[7500 rows x 35 columns]"
            ],
            "text/html": [
              "\n",
              "  <div id=\"df-2bedc1bd-1b37-47ee-bf96-acc93bdfff85\">\n",
              "    <div class=\"colab-df-container\">\n",
              "      <div>\n",
              "<style scoped>\n",
              "    .dataframe tbody tr th:only-of-type {\n",
              "        vertical-align: middle;\n",
              "    }\n",
              "\n",
              "    .dataframe tbody tr th {\n",
              "        vertical-align: top;\n",
              "    }\n",
              "\n",
              "    .dataframe thead th {\n",
              "        text-align: right;\n",
              "    }\n",
              "</style>\n",
              "<table border=\"1\" class=\"dataframe\">\n",
              "  <thead>\n",
              "    <tr style=\"text-align: right;\">\n",
              "      <th></th>\n",
              "      <th>0</th>\n",
              "      <th>1</th>\n",
              "      <th>2</th>\n",
              "      <th>3</th>\n",
              "      <th>4</th>\n",
              "      <th>5</th>\n",
              "      <th>6</th>\n",
              "      <th>7</th>\n",
              "      <th>8</th>\n",
              "      <th>9</th>\n",
              "      <th>...</th>\n",
              "      <th>25</th>\n",
              "      <th>26</th>\n",
              "      <th>27</th>\n",
              "      <th>28</th>\n",
              "      <th>29</th>\n",
              "      <th>30</th>\n",
              "      <th>31</th>\n",
              "      <th>32</th>\n",
              "      <th>33</th>\n",
              "      <th>34</th>\n",
              "    </tr>\n",
              "    <tr>\n",
              "      <th>ID</th>\n",
              "      <th></th>\n",
              "      <th></th>\n",
              "      <th></th>\n",
              "      <th></th>\n",
              "      <th></th>\n",
              "      <th></th>\n",
              "      <th></th>\n",
              "      <th></th>\n",
              "      <th></th>\n",
              "      <th></th>\n",
              "      <th></th>\n",
              "      <th></th>\n",
              "      <th></th>\n",
              "      <th></th>\n",
              "      <th></th>\n",
              "      <th></th>\n",
              "      <th></th>\n",
              "      <th></th>\n",
              "      <th></th>\n",
              "      <th></th>\n",
              "      <th></th>\n",
              "    </tr>\n",
              "  </thead>\n",
              "  <tbody>\n",
              "    <tr>\n",
              "      <th>TRAIN_0000</th>\n",
              "      <td>26.0</td>\n",
              "      <td>107.0</td>\n",
              "      <td>45.0</td>\n",
              "      <td>175.26</td>\n",
              "      <td>69.989303</td>\n",
              "      <td>40.888889</td>\n",
              "      <td>22.785893</td>\n",
              "      <td>676.0</td>\n",
              "      <td>2782.0</td>\n",
              "      <td>1170.0</td>\n",
              "      <td>...</td>\n",
              "      <td>30716.0676</td>\n",
              "      <td>12266.325190</td>\n",
              "      <td>7166.186667</td>\n",
              "      <td>3993.455591</td>\n",
              "      <td>4898.502491</td>\n",
              "      <td>2861.784821</td>\n",
              "      <td>1594.768756</td>\n",
              "      <td>1671.901235</td>\n",
              "      <td>931.689843</td>\n",
              "      <td>519.196916</td>\n",
              "    </tr>\n",
              "    <tr>\n",
              "      <th>TRAIN_0001</th>\n",
              "      <td>7.0</td>\n",
              "      <td>88.0</td>\n",
              "      <td>50.0</td>\n",
              "      <td>198.12</td>\n",
              "      <td>102.012924</td>\n",
              "      <td>39.611111</td>\n",
              "      <td>25.989538</td>\n",
              "      <td>49.0</td>\n",
              "      <td>616.0</td>\n",
              "      <td>350.0</td>\n",
              "      <td>...</td>\n",
              "      <td>39251.5344</td>\n",
              "      <td>20210.800505</td>\n",
              "      <td>7847.753333</td>\n",
              "      <td>5149.047245</td>\n",
              "      <td>10406.636666</td>\n",
              "      <td>4040.845268</td>\n",
              "      <td>2651.268753</td>\n",
              "      <td>1569.040123</td>\n",
              "      <td>1029.474473</td>\n",
              "      <td>675.456079</td>\n",
              "    </tr>\n",
              "    <tr>\n",
              "      <th>TRAIN_0002</th>\n",
              "      <td>7.0</td>\n",
              "      <td>86.0</td>\n",
              "      <td>29.0</td>\n",
              "      <td>190.50</td>\n",
              "      <td>99.019214</td>\n",
              "      <td>39.611111</td>\n",
              "      <td>27.285349</td>\n",
              "      <td>49.0</td>\n",
              "      <td>602.0</td>\n",
              "      <td>203.0</td>\n",
              "      <td>...</td>\n",
              "      <td>36290.2500</td>\n",
              "      <td>18863.160338</td>\n",
              "      <td>7545.916667</td>\n",
              "      <td>5197.859022</td>\n",
              "      <td>9804.804815</td>\n",
              "      <td>3922.261103</td>\n",
              "      <td>2701.773841</td>\n",
              "      <td>1569.040123</td>\n",
              "      <td>1080.802999</td>\n",
              "      <td>744.490281</td>\n",
              "    </tr>\n",
              "    <tr>\n",
              "      <th>TRAIN_0003</th>\n",
              "      <td>17.0</td>\n",
              "      <td>99.0</td>\n",
              "      <td>33.0</td>\n",
              "      <td>167.64</td>\n",
              "      <td>66.995593</td>\n",
              "      <td>40.000000</td>\n",
              "      <td>23.839159</td>\n",
              "      <td>289.0</td>\n",
              "      <td>1683.0</td>\n",
              "      <td>561.0</td>\n",
              "      <td>...</td>\n",
              "      <td>28103.1696</td>\n",
              "      <td>11231.141219</td>\n",
              "      <td>6705.600000</td>\n",
              "      <td>3996.396627</td>\n",
              "      <td>4488.409488</td>\n",
              "      <td>2679.823722</td>\n",
              "      <td>1597.118600</td>\n",
              "      <td>1600.000000</td>\n",
              "      <td>953.566363</td>\n",
              "      <td>568.305505</td>\n",
              "    </tr>\n",
              "    <tr>\n",
              "      <th>TRAIN_0004</th>\n",
              "      <td>9.0</td>\n",
              "      <td>88.0</td>\n",
              "      <td>38.0</td>\n",
              "      <td>177.80</td>\n",
              "      <td>77.019984</td>\n",
              "      <td>39.277778</td>\n",
              "      <td>24.363513</td>\n",
              "      <td>81.0</td>\n",
              "      <td>792.0</td>\n",
              "      <td>342.0</td>\n",
              "      <td>...</td>\n",
              "      <td>31612.8400</td>\n",
              "      <td>13694.153231</td>\n",
              "      <td>6983.588889</td>\n",
              "      <td>4331.832645</td>\n",
              "      <td>5932.078001</td>\n",
              "      <td>3025.173833</td>\n",
              "      <td>1876.477406</td>\n",
              "      <td>1542.743827</td>\n",
              "      <td>956.944657</td>\n",
              "      <td>593.580775</td>\n",
              "    </tr>\n",
              "    <tr>\n",
              "      <th>...</th>\n",
              "      <td>...</td>\n",
              "      <td>...</td>\n",
              "      <td>...</td>\n",
              "      <td>...</td>\n",
              "      <td>...</td>\n",
              "      <td>...</td>\n",
              "      <td>...</td>\n",
              "      <td>...</td>\n",
              "      <td>...</td>\n",
              "      <td>...</td>\n",
              "      <td>...</td>\n",
              "      <td>...</td>\n",
              "      <td>...</td>\n",
              "      <td>...</td>\n",
              "      <td>...</td>\n",
              "      <td>...</td>\n",
              "      <td>...</td>\n",
              "      <td>...</td>\n",
              "      <td>...</td>\n",
              "      <td>...</td>\n",
              "      <td>...</td>\n",
              "    </tr>\n",
              "    <tr>\n",
              "      <th>TRAIN_7495</th>\n",
              "      <td>22.0</td>\n",
              "      <td>104.0</td>\n",
              "      <td>75.0</td>\n",
              "      <td>147.32</td>\n",
              "      <td>50.983782</td>\n",
              "      <td>40.611111</td>\n",
              "      <td>23.491385</td>\n",
              "      <td>484.0</td>\n",
              "      <td>2288.0</td>\n",
              "      <td>1650.0</td>\n",
              "      <td>...</td>\n",
              "      <td>21703.1824</td>\n",
              "      <td>7510.930821</td>\n",
              "      <td>5982.828889</td>\n",
              "      <td>3460.750909</td>\n",
              "      <td>2599.346067</td>\n",
              "      <td>2070.508051</td>\n",
              "      <td>1197.679685</td>\n",
              "      <td>1649.262346</td>\n",
              "      <td>954.011266</td>\n",
              "      <td>551.845192</td>\n",
              "    </tr>\n",
              "    <tr>\n",
              "      <th>TRAIN_7496</th>\n",
              "      <td>20.0</td>\n",
              "      <td>104.0</td>\n",
              "      <td>21.0</td>\n",
              "      <td>172.72</td>\n",
              "      <td>66.995593</td>\n",
              "      <td>40.722222</td>\n",
              "      <td>22.457478</td>\n",
              "      <td>400.0</td>\n",
              "      <td>2080.0</td>\n",
              "      <td>420.0</td>\n",
              "      <td>...</td>\n",
              "      <td>29832.1984</td>\n",
              "      <td>11571.478831</td>\n",
              "      <td>7033.542222</td>\n",
              "      <td>3878.855549</td>\n",
              "      <td>4488.409488</td>\n",
              "      <td>2728.209428</td>\n",
              "      <td>1504.552037</td>\n",
              "      <td>1658.299383</td>\n",
              "      <td>914.518398</td>\n",
              "      <td>504.338305</td>\n",
              "    </tr>\n",
              "    <tr>\n",
              "      <th>TRAIN_7497</th>\n",
              "      <td>8.0</td>\n",
              "      <td>90.0</td>\n",
              "      <td>57.0</td>\n",
              "      <td>187.96</td>\n",
              "      <td>91.988533</td>\n",
              "      <td>39.500000</td>\n",
              "      <td>26.037712</td>\n",
              "      <td>64.0</td>\n",
              "      <td>720.0</td>\n",
              "      <td>456.0</td>\n",
              "      <td>...</td>\n",
              "      <td>35328.9616</td>\n",
              "      <td>17290.164594</td>\n",
              "      <td>7424.420000</td>\n",
              "      <td>4894.048342</td>\n",
              "      <td>8461.890137</td>\n",
              "      <td>3633.547039</td>\n",
              "      <td>2395.170917</td>\n",
              "      <td>1560.250000</td>\n",
              "      <td>1028.489623</td>\n",
              "      <td>677.962445</td>\n",
              "    </tr>\n",
              "    <tr>\n",
              "      <th>TRAIN_7498</th>\n",
              "      <td>12.0</td>\n",
              "      <td>97.0</td>\n",
              "      <td>35.0</td>\n",
              "      <td>175.26</td>\n",
              "      <td>76.022081</td>\n",
              "      <td>40.222222</td>\n",
              "      <td>24.749939</td>\n",
              "      <td>144.0</td>\n",
              "      <td>1164.0</td>\n",
              "      <td>420.0</td>\n",
              "      <td>...</td>\n",
              "      <td>30716.0676</td>\n",
              "      <td>13323.629953</td>\n",
              "      <td>7049.346667</td>\n",
              "      <td>4337.674382</td>\n",
              "      <td>5779.356832</td>\n",
              "      <td>3057.777044</td>\n",
              "      <td>1881.541904</td>\n",
              "      <td>1617.827160</td>\n",
              "      <td>995.497563</td>\n",
              "      <td>612.559501</td>\n",
              "    </tr>\n",
              "    <tr>\n",
              "      <th>TRAIN_7499</th>\n",
              "      <td>16.0</td>\n",
              "      <td>91.0</td>\n",
              "      <td>26.0</td>\n",
              "      <td>182.88</td>\n",
              "      <td>86.001113</td>\n",
              "      <td>40.500000</td>\n",
              "      <td>25.714119</td>\n",
              "      <td>256.0</td>\n",
              "      <td>1456.0</td>\n",
              "      <td>416.0</td>\n",
              "      <td>...</td>\n",
              "      <td>33445.0944</td>\n",
              "      <td>15727.883610</td>\n",
              "      <td>7406.640000</td>\n",
              "      <td>4702.598062</td>\n",
              "      <td>7396.191498</td>\n",
              "      <td>3483.045091</td>\n",
              "      <td>2211.442853</td>\n",
              "      <td>1640.250000</td>\n",
              "      <td>1041.421815</td>\n",
              "      <td>661.215910</td>\n",
              "    </tr>\n",
              "  </tbody>\n",
              "</table>\n",
              "<p>7500 rows × 35 columns</p>\n",
              "</div>\n",
              "      <button class=\"colab-df-convert\" onclick=\"convertToInteractive('df-2bedc1bd-1b37-47ee-bf96-acc93bdfff85')\"\n",
              "              title=\"Convert this dataframe to an interactive table.\"\n",
              "              style=\"display:none;\">\n",
              "        \n",
              "  <svg xmlns=\"http://www.w3.org/2000/svg\" height=\"24px\"viewBox=\"0 0 24 24\"\n",
              "       width=\"24px\">\n",
              "    <path d=\"M0 0h24v24H0V0z\" fill=\"none\"/>\n",
              "    <path d=\"M18.56 5.44l.94 2.06.94-2.06 2.06-.94-2.06-.94-.94-2.06-.94 2.06-2.06.94zm-11 1L8.5 8.5l.94-2.06 2.06-.94-2.06-.94L8.5 2.5l-.94 2.06-2.06.94zm10 10l.94 2.06.94-2.06 2.06-.94-2.06-.94-.94-2.06-.94 2.06-2.06.94z\"/><path d=\"M17.41 7.96l-1.37-1.37c-.4-.4-.92-.59-1.43-.59-.52 0-1.04.2-1.43.59L10.3 9.45l-7.72 7.72c-.78.78-.78 2.05 0 2.83L4 21.41c.39.39.9.59 1.41.59.51 0 1.02-.2 1.41-.59l7.78-7.78 2.81-2.81c.8-.78.8-2.07 0-2.86zM5.41 20L4 18.59l7.72-7.72 1.47 1.35L5.41 20z\"/>\n",
              "  </svg>\n",
              "      </button>\n",
              "      \n",
              "  <style>\n",
              "    .colab-df-container {\n",
              "      display:flex;\n",
              "      flex-wrap:wrap;\n",
              "      gap: 12px;\n",
              "    }\n",
              "\n",
              "    .colab-df-convert {\n",
              "      background-color: #E8F0FE;\n",
              "      border: none;\n",
              "      border-radius: 50%;\n",
              "      cursor: pointer;\n",
              "      display: none;\n",
              "      fill: #1967D2;\n",
              "      height: 32px;\n",
              "      padding: 0 0 0 0;\n",
              "      width: 32px;\n",
              "    }\n",
              "\n",
              "    .colab-df-convert:hover {\n",
              "      background-color: #E2EBFA;\n",
              "      box-shadow: 0px 1px 2px rgba(60, 64, 67, 0.3), 0px 1px 3px 1px rgba(60, 64, 67, 0.15);\n",
              "      fill: #174EA6;\n",
              "    }\n",
              "\n",
              "    [theme=dark] .colab-df-convert {\n",
              "      background-color: #3B4455;\n",
              "      fill: #D2E3FC;\n",
              "    }\n",
              "\n",
              "    [theme=dark] .colab-df-convert:hover {\n",
              "      background-color: #434B5C;\n",
              "      box-shadow: 0px 1px 3px 1px rgba(0, 0, 0, 0.15);\n",
              "      filter: drop-shadow(0px 1px 2px rgba(0, 0, 0, 0.3));\n",
              "      fill: #FFFFFF;\n",
              "    }\n",
              "  </style>\n",
              "\n",
              "      <script>\n",
              "        const buttonEl =\n",
              "          document.querySelector('#df-2bedc1bd-1b37-47ee-bf96-acc93bdfff85 button.colab-df-convert');\n",
              "        buttonEl.style.display =\n",
              "          google.colab.kernel.accessAllowed ? 'block' : 'none';\n",
              "\n",
              "        async function convertToInteractive(key) {\n",
              "          const element = document.querySelector('#df-2bedc1bd-1b37-47ee-bf96-acc93bdfff85');\n",
              "          const dataTable =\n",
              "            await google.colab.kernel.invokeFunction('convertToInteractive',\n",
              "                                                     [key], {});\n",
              "          if (!dataTable) return;\n",
              "\n",
              "          const docLinkHtml = 'Like what you see? Visit the ' +\n",
              "            '<a target=\"_blank\" href=https://colab.research.google.com/notebooks/data_table.ipynb>data table notebook</a>'\n",
              "            + ' to learn more about interactive tables.';\n",
              "          element.innerHTML = '';\n",
              "          dataTable['output_type'] = 'display_data';\n",
              "          await google.colab.output.renderOutput(dataTable, element);\n",
              "          const docLink = document.createElement('div');\n",
              "          docLink.innerHTML = docLinkHtml;\n",
              "          element.appendChild(docLink);\n",
              "        }\n",
              "      </script>\n",
              "    </div>\n",
              "  </div>\n",
              "  "
            ]
          },
          "metadata": {},
          "execution_count": 52
        }
      ],
      "source": [
        "poly_train"
      ]
    },
    {
      "cell_type": "code",
      "execution_count": 53,
      "id": "d79c45b5",
      "metadata": {
        "id": "d79c45b5"
      },
      "outputs": [],
      "source": [
        "train_agg = train.drop(columns=['Calories_Burned']).merge(poly_train, on='ID')\n",
        "test_agg = test.merge(poly_test, on='ID')"
      ]
    },
    {
      "cell_type": "code",
      "execution_count": 54,
      "id": "1c356548",
      "metadata": {
        "id": "1c356548"
      },
      "outputs": [],
      "source": [
        "from sklearn.preprocessing import StandardScaler\n",
        "\n",
        "scaler = StandardScaler()\n"
      ]
    },
    {
      "cell_type": "code",
      "execution_count": 55,
      "id": "864eacb4",
      "metadata": {
        "id": "864eacb4"
      },
      "outputs": [],
      "source": [
        "train_agg.columns = train_agg.columns.astype(str)\n",
        "test_agg.columns = test_agg.columns.astype(str)"
      ]
    },
    {
      "cell_type": "code",
      "execution_count": 56,
      "id": "c0dd2915",
      "metadata": {
        "id": "c0dd2915"
      },
      "outputs": [],
      "source": [
        "test_agg = pd.DataFrame(scaler.fit_transform(test_agg.iloc[:,1:]), \n",
        "                         index=test.index).merge(test['Gender'], on='ID')"
      ]
    },
    {
      "cell_type": "code",
      "execution_count": 57,
      "id": "82c673ee",
      "metadata": {
        "id": "82c673ee"
      },
      "outputs": [],
      "source": [
        "train_agg = pd.DataFrame(scaler.fit_transform(train_agg.iloc[:,1:]), \n",
        "                         index=train.index).merge(train['Gender'], on='ID')"
      ]
    },
    {
      "cell_type": "code",
      "execution_count": 58,
      "id": "41a69ccb",
      "metadata": {
        "colab": {
          "base_uri": "https://localhost:8080/",
          "height": 237
        },
        "id": "41a69ccb",
        "outputId": "2c9dac9a-3abe-4acd-d1b3-29db3a06392c"
      },
      "outputs": [
        {
          "output_type": "execute_result",
          "data": {
            "text/plain": [
              "                   0         1         2         3         4         5  \\\n",
              "ID                                                                       \n",
              "TRAIN_0000  1.256628  1.199774  0.140030  0.052654 -0.332109  1.108778   \n",
              "TRAIN_0001 -1.017530 -0.782140  0.436203  1.649312  1.787635 -0.519252   \n",
              "\n",
              "                   6         7         8         9  ...        33        34  \\\n",
              "ID                                                  ...                       \n",
              "TRAIN_0000 -0.990606  1.256628  1.199774  0.140030  ... -0.277472  0.309849   \n",
              "TRAIN_0001  1.046098 -1.017530 -0.782140  0.436203  ...  1.862790  1.466044   \n",
              "\n",
              "                  35        36        37        38        39        40  \\\n",
              "ID                                                                       \n",
              "TRAIN_0000 -0.494854 -0.409878 -0.230253 -0.538537  1.121631 -0.643722   \n",
              "TRAIN_0001  1.659491  1.952401  1.709368  1.757312 -0.531438  0.835674   \n",
              "\n",
              "                  41  Gender  \n",
              "ID                            \n",
              "TRAIN_0000 -0.992645       0  \n",
              "TRAIN_0001  1.050664       1  \n",
              "\n",
              "[2 rows x 43 columns]"
            ],
            "text/html": [
              "\n",
              "  <div id=\"df-31273eef-4e8d-4d8c-8b58-ceca84546814\">\n",
              "    <div class=\"colab-df-container\">\n",
              "      <div>\n",
              "<style scoped>\n",
              "    .dataframe tbody tr th:only-of-type {\n",
              "        vertical-align: middle;\n",
              "    }\n",
              "\n",
              "    .dataframe tbody tr th {\n",
              "        vertical-align: top;\n",
              "    }\n",
              "\n",
              "    .dataframe thead th {\n",
              "        text-align: right;\n",
              "    }\n",
              "</style>\n",
              "<table border=\"1\" class=\"dataframe\">\n",
              "  <thead>\n",
              "    <tr style=\"text-align: right;\">\n",
              "      <th></th>\n",
              "      <th>0</th>\n",
              "      <th>1</th>\n",
              "      <th>2</th>\n",
              "      <th>3</th>\n",
              "      <th>4</th>\n",
              "      <th>5</th>\n",
              "      <th>6</th>\n",
              "      <th>7</th>\n",
              "      <th>8</th>\n",
              "      <th>9</th>\n",
              "      <th>...</th>\n",
              "      <th>33</th>\n",
              "      <th>34</th>\n",
              "      <th>35</th>\n",
              "      <th>36</th>\n",
              "      <th>37</th>\n",
              "      <th>38</th>\n",
              "      <th>39</th>\n",
              "      <th>40</th>\n",
              "      <th>41</th>\n",
              "      <th>Gender</th>\n",
              "    </tr>\n",
              "    <tr>\n",
              "      <th>ID</th>\n",
              "      <th></th>\n",
              "      <th></th>\n",
              "      <th></th>\n",
              "      <th></th>\n",
              "      <th></th>\n",
              "      <th></th>\n",
              "      <th></th>\n",
              "      <th></th>\n",
              "      <th></th>\n",
              "      <th></th>\n",
              "      <th></th>\n",
              "      <th></th>\n",
              "      <th></th>\n",
              "      <th></th>\n",
              "      <th></th>\n",
              "      <th></th>\n",
              "      <th></th>\n",
              "      <th></th>\n",
              "      <th></th>\n",
              "      <th></th>\n",
              "      <th></th>\n",
              "    </tr>\n",
              "  </thead>\n",
              "  <tbody>\n",
              "    <tr>\n",
              "      <th>TRAIN_0000</th>\n",
              "      <td>1.256628</td>\n",
              "      <td>1.199774</td>\n",
              "      <td>0.140030</td>\n",
              "      <td>0.052654</td>\n",
              "      <td>-0.332109</td>\n",
              "      <td>1.108778</td>\n",
              "      <td>-0.990606</td>\n",
              "      <td>1.256628</td>\n",
              "      <td>1.199774</td>\n",
              "      <td>0.140030</td>\n",
              "      <td>...</td>\n",
              "      <td>-0.277472</td>\n",
              "      <td>0.309849</td>\n",
              "      <td>-0.494854</td>\n",
              "      <td>-0.409878</td>\n",
              "      <td>-0.230253</td>\n",
              "      <td>-0.538537</td>\n",
              "      <td>1.121631</td>\n",
              "      <td>-0.643722</td>\n",
              "      <td>-0.992645</td>\n",
              "      <td>0</td>\n",
              "    </tr>\n",
              "    <tr>\n",
              "      <th>TRAIN_0001</th>\n",
              "      <td>-1.017530</td>\n",
              "      <td>-0.782140</td>\n",
              "      <td>0.436203</td>\n",
              "      <td>1.649312</td>\n",
              "      <td>1.787635</td>\n",
              "      <td>-0.519252</td>\n",
              "      <td>1.046098</td>\n",
              "      <td>-1.017530</td>\n",
              "      <td>-0.782140</td>\n",
              "      <td>0.436203</td>\n",
              "      <td>...</td>\n",
              "      <td>1.862790</td>\n",
              "      <td>1.466044</td>\n",
              "      <td>1.659491</td>\n",
              "      <td>1.952401</td>\n",
              "      <td>1.709368</td>\n",
              "      <td>1.757312</td>\n",
              "      <td>-0.531438</td>\n",
              "      <td>0.835674</td>\n",
              "      <td>1.050664</td>\n",
              "      <td>1</td>\n",
              "    </tr>\n",
              "  </tbody>\n",
              "</table>\n",
              "<p>2 rows × 43 columns</p>\n",
              "</div>\n",
              "      <button class=\"colab-df-convert\" onclick=\"convertToInteractive('df-31273eef-4e8d-4d8c-8b58-ceca84546814')\"\n",
              "              title=\"Convert this dataframe to an interactive table.\"\n",
              "              style=\"display:none;\">\n",
              "        \n",
              "  <svg xmlns=\"http://www.w3.org/2000/svg\" height=\"24px\"viewBox=\"0 0 24 24\"\n",
              "       width=\"24px\">\n",
              "    <path d=\"M0 0h24v24H0V0z\" fill=\"none\"/>\n",
              "    <path d=\"M18.56 5.44l.94 2.06.94-2.06 2.06-.94-2.06-.94-.94-2.06-.94 2.06-2.06.94zm-11 1L8.5 8.5l.94-2.06 2.06-.94-2.06-.94L8.5 2.5l-.94 2.06-2.06.94zm10 10l.94 2.06.94-2.06 2.06-.94-2.06-.94-.94-2.06-.94 2.06-2.06.94z\"/><path d=\"M17.41 7.96l-1.37-1.37c-.4-.4-.92-.59-1.43-.59-.52 0-1.04.2-1.43.59L10.3 9.45l-7.72 7.72c-.78.78-.78 2.05 0 2.83L4 21.41c.39.39.9.59 1.41.59.51 0 1.02-.2 1.41-.59l7.78-7.78 2.81-2.81c.8-.78.8-2.07 0-2.86zM5.41 20L4 18.59l7.72-7.72 1.47 1.35L5.41 20z\"/>\n",
              "  </svg>\n",
              "      </button>\n",
              "      \n",
              "  <style>\n",
              "    .colab-df-container {\n",
              "      display:flex;\n",
              "      flex-wrap:wrap;\n",
              "      gap: 12px;\n",
              "    }\n",
              "\n",
              "    .colab-df-convert {\n",
              "      background-color: #E8F0FE;\n",
              "      border: none;\n",
              "      border-radius: 50%;\n",
              "      cursor: pointer;\n",
              "      display: none;\n",
              "      fill: #1967D2;\n",
              "      height: 32px;\n",
              "      padding: 0 0 0 0;\n",
              "      width: 32px;\n",
              "    }\n",
              "\n",
              "    .colab-df-convert:hover {\n",
              "      background-color: #E2EBFA;\n",
              "      box-shadow: 0px 1px 2px rgba(60, 64, 67, 0.3), 0px 1px 3px 1px rgba(60, 64, 67, 0.15);\n",
              "      fill: #174EA6;\n",
              "    }\n",
              "\n",
              "    [theme=dark] .colab-df-convert {\n",
              "      background-color: #3B4455;\n",
              "      fill: #D2E3FC;\n",
              "    }\n",
              "\n",
              "    [theme=dark] .colab-df-convert:hover {\n",
              "      background-color: #434B5C;\n",
              "      box-shadow: 0px 1px 3px 1px rgba(0, 0, 0, 0.15);\n",
              "      filter: drop-shadow(0px 1px 2px rgba(0, 0, 0, 0.3));\n",
              "      fill: #FFFFFF;\n",
              "    }\n",
              "  </style>\n",
              "\n",
              "      <script>\n",
              "        const buttonEl =\n",
              "          document.querySelector('#df-31273eef-4e8d-4d8c-8b58-ceca84546814 button.colab-df-convert');\n",
              "        buttonEl.style.display =\n",
              "          google.colab.kernel.accessAllowed ? 'block' : 'none';\n",
              "\n",
              "        async function convertToInteractive(key) {\n",
              "          const element = document.querySelector('#df-31273eef-4e8d-4d8c-8b58-ceca84546814');\n",
              "          const dataTable =\n",
              "            await google.colab.kernel.invokeFunction('convertToInteractive',\n",
              "                                                     [key], {});\n",
              "          if (!dataTable) return;\n",
              "\n",
              "          const docLinkHtml = 'Like what you see? Visit the ' +\n",
              "            '<a target=\"_blank\" href=https://colab.research.google.com/notebooks/data_table.ipynb>data table notebook</a>'\n",
              "            + ' to learn more about interactive tables.';\n",
              "          element.innerHTML = '';\n",
              "          dataTable['output_type'] = 'display_data';\n",
              "          await google.colab.output.renderOutput(dataTable, element);\n",
              "          const docLink = document.createElement('div');\n",
              "          docLink.innerHTML = docLinkHtml;\n",
              "          element.appendChild(docLink);\n",
              "        }\n",
              "      </script>\n",
              "    </div>\n",
              "  </div>\n",
              "  "
            ]
          },
          "metadata": {},
          "execution_count": 58
        }
      ],
      "source": [
        "train_agg.head(2)"
      ]
    },
    {
      "cell_type": "code",
      "execution_count": 59,
      "id": "8b29204b",
      "metadata": {
        "scrolled": true,
        "colab": {
          "base_uri": "https://localhost:8080/",
          "height": 237
        },
        "id": "8b29204b",
        "outputId": "92e78ef7-dc94-4b02-beee-831fa12c9bca"
      },
      "outputs": [
        {
          "output_type": "execute_result",
          "data": {
            "text/plain": [
              "                  0         1         2         3         4         5  \\\n",
              "ID                                                                      \n",
              "TEST_0000  1.260436  1.196443  0.120431 -1.371519 -1.533674  0.748488   \n",
              "TEST_0001  1.622630  1.614011 -1.285101  0.950143  1.006916  0.604797   \n",
              "\n",
              "                  6         7         8         9  ...        33        34  \\\n",
              "ID                                                 ...                       \n",
              "TEST_0000 -1.710219  1.260436  1.196443  0.120431  ... -1.419294 -1.181473   \n",
              "TEST_0001  0.719082  1.622630  1.614011 -1.285101  ...  0.989813  1.074948   \n",
              "\n",
              "                 35        36        37        38        39        40  \\\n",
              "ID                                                                      \n",
              "TEST_0000 -1.697361 -1.359278 -1.476390 -1.568683  0.751580 -1.446855   \n",
              "TEST_0001  0.999909  0.979901  1.072055  0.992748  0.604575  0.869640   \n",
              "\n",
              "                 41  Gender  \n",
              "ID                           \n",
              "TEST_0000 -1.650834       0  \n",
              "TEST_0001  0.704672       1  \n",
              "\n",
              "[2 rows x 43 columns]"
            ],
            "text/html": [
              "\n",
              "  <div id=\"df-f6eeef77-8c82-48d3-90b8-ed1fa1b5fde7\">\n",
              "    <div class=\"colab-df-container\">\n",
              "      <div>\n",
              "<style scoped>\n",
              "    .dataframe tbody tr th:only-of-type {\n",
              "        vertical-align: middle;\n",
              "    }\n",
              "\n",
              "    .dataframe tbody tr th {\n",
              "        vertical-align: top;\n",
              "    }\n",
              "\n",
              "    .dataframe thead th {\n",
              "        text-align: right;\n",
              "    }\n",
              "</style>\n",
              "<table border=\"1\" class=\"dataframe\">\n",
              "  <thead>\n",
              "    <tr style=\"text-align: right;\">\n",
              "      <th></th>\n",
              "      <th>0</th>\n",
              "      <th>1</th>\n",
              "      <th>2</th>\n",
              "      <th>3</th>\n",
              "      <th>4</th>\n",
              "      <th>5</th>\n",
              "      <th>6</th>\n",
              "      <th>7</th>\n",
              "      <th>8</th>\n",
              "      <th>9</th>\n",
              "      <th>...</th>\n",
              "      <th>33</th>\n",
              "      <th>34</th>\n",
              "      <th>35</th>\n",
              "      <th>36</th>\n",
              "      <th>37</th>\n",
              "      <th>38</th>\n",
              "      <th>39</th>\n",
              "      <th>40</th>\n",
              "      <th>41</th>\n",
              "      <th>Gender</th>\n",
              "    </tr>\n",
              "    <tr>\n",
              "      <th>ID</th>\n",
              "      <th></th>\n",
              "      <th></th>\n",
              "      <th></th>\n",
              "      <th></th>\n",
              "      <th></th>\n",
              "      <th></th>\n",
              "      <th></th>\n",
              "      <th></th>\n",
              "      <th></th>\n",
              "      <th></th>\n",
              "      <th></th>\n",
              "      <th></th>\n",
              "      <th></th>\n",
              "      <th></th>\n",
              "      <th></th>\n",
              "      <th></th>\n",
              "      <th></th>\n",
              "      <th></th>\n",
              "      <th></th>\n",
              "      <th></th>\n",
              "      <th></th>\n",
              "    </tr>\n",
              "  </thead>\n",
              "  <tbody>\n",
              "    <tr>\n",
              "      <th>TEST_0000</th>\n",
              "      <td>1.260436</td>\n",
              "      <td>1.196443</td>\n",
              "      <td>0.120431</td>\n",
              "      <td>-1.371519</td>\n",
              "      <td>-1.533674</td>\n",
              "      <td>0.748488</td>\n",
              "      <td>-1.710219</td>\n",
              "      <td>1.260436</td>\n",
              "      <td>1.196443</td>\n",
              "      <td>0.120431</td>\n",
              "      <td>...</td>\n",
              "      <td>-1.419294</td>\n",
              "      <td>-1.181473</td>\n",
              "      <td>-1.697361</td>\n",
              "      <td>-1.359278</td>\n",
              "      <td>-1.476390</td>\n",
              "      <td>-1.568683</td>\n",
              "      <td>0.751580</td>\n",
              "      <td>-1.446855</td>\n",
              "      <td>-1.650834</td>\n",
              "      <td>0</td>\n",
              "    </tr>\n",
              "    <tr>\n",
              "      <th>TEST_0001</th>\n",
              "      <td>1.622630</td>\n",
              "      <td>1.614011</td>\n",
              "      <td>-1.285101</td>\n",
              "      <td>0.950143</td>\n",
              "      <td>1.006916</td>\n",
              "      <td>0.604797</td>\n",
              "      <td>0.719082</td>\n",
              "      <td>1.622630</td>\n",
              "      <td>1.614011</td>\n",
              "      <td>-1.285101</td>\n",
              "      <td>...</td>\n",
              "      <td>0.989813</td>\n",
              "      <td>1.074948</td>\n",
              "      <td>0.999909</td>\n",
              "      <td>0.979901</td>\n",
              "      <td>1.072055</td>\n",
              "      <td>0.992748</td>\n",
              "      <td>0.604575</td>\n",
              "      <td>0.869640</td>\n",
              "      <td>0.704672</td>\n",
              "      <td>1</td>\n",
              "    </tr>\n",
              "  </tbody>\n",
              "</table>\n",
              "<p>2 rows × 43 columns</p>\n",
              "</div>\n",
              "      <button class=\"colab-df-convert\" onclick=\"convertToInteractive('df-f6eeef77-8c82-48d3-90b8-ed1fa1b5fde7')\"\n",
              "              title=\"Convert this dataframe to an interactive table.\"\n",
              "              style=\"display:none;\">\n",
              "        \n",
              "  <svg xmlns=\"http://www.w3.org/2000/svg\" height=\"24px\"viewBox=\"0 0 24 24\"\n",
              "       width=\"24px\">\n",
              "    <path d=\"M0 0h24v24H0V0z\" fill=\"none\"/>\n",
              "    <path d=\"M18.56 5.44l.94 2.06.94-2.06 2.06-.94-2.06-.94-.94-2.06-.94 2.06-2.06.94zm-11 1L8.5 8.5l.94-2.06 2.06-.94-2.06-.94L8.5 2.5l-.94 2.06-2.06.94zm10 10l.94 2.06.94-2.06 2.06-.94-2.06-.94-.94-2.06-.94 2.06-2.06.94z\"/><path d=\"M17.41 7.96l-1.37-1.37c-.4-.4-.92-.59-1.43-.59-.52 0-1.04.2-1.43.59L10.3 9.45l-7.72 7.72c-.78.78-.78 2.05 0 2.83L4 21.41c.39.39.9.59 1.41.59.51 0 1.02-.2 1.41-.59l7.78-7.78 2.81-2.81c.8-.78.8-2.07 0-2.86zM5.41 20L4 18.59l7.72-7.72 1.47 1.35L5.41 20z\"/>\n",
              "  </svg>\n",
              "      </button>\n",
              "      \n",
              "  <style>\n",
              "    .colab-df-container {\n",
              "      display:flex;\n",
              "      flex-wrap:wrap;\n",
              "      gap: 12px;\n",
              "    }\n",
              "\n",
              "    .colab-df-convert {\n",
              "      background-color: #E8F0FE;\n",
              "      border: none;\n",
              "      border-radius: 50%;\n",
              "      cursor: pointer;\n",
              "      display: none;\n",
              "      fill: #1967D2;\n",
              "      height: 32px;\n",
              "      padding: 0 0 0 0;\n",
              "      width: 32px;\n",
              "    }\n",
              "\n",
              "    .colab-df-convert:hover {\n",
              "      background-color: #E2EBFA;\n",
              "      box-shadow: 0px 1px 2px rgba(60, 64, 67, 0.3), 0px 1px 3px 1px rgba(60, 64, 67, 0.15);\n",
              "      fill: #174EA6;\n",
              "    }\n",
              "\n",
              "    [theme=dark] .colab-df-convert {\n",
              "      background-color: #3B4455;\n",
              "      fill: #D2E3FC;\n",
              "    }\n",
              "\n",
              "    [theme=dark] .colab-df-convert:hover {\n",
              "      background-color: #434B5C;\n",
              "      box-shadow: 0px 1px 3px 1px rgba(0, 0, 0, 0.15);\n",
              "      filter: drop-shadow(0px 1px 2px rgba(0, 0, 0, 0.3));\n",
              "      fill: #FFFFFF;\n",
              "    }\n",
              "  </style>\n",
              "\n",
              "      <script>\n",
              "        const buttonEl =\n",
              "          document.querySelector('#df-f6eeef77-8c82-48d3-90b8-ed1fa1b5fde7 button.colab-df-convert');\n",
              "        buttonEl.style.display =\n",
              "          google.colab.kernel.accessAllowed ? 'block' : 'none';\n",
              "\n",
              "        async function convertToInteractive(key) {\n",
              "          const element = document.querySelector('#df-f6eeef77-8c82-48d3-90b8-ed1fa1b5fde7');\n",
              "          const dataTable =\n",
              "            await google.colab.kernel.invokeFunction('convertToInteractive',\n",
              "                                                     [key], {});\n",
              "          if (!dataTable) return;\n",
              "\n",
              "          const docLinkHtml = 'Like what you see? Visit the ' +\n",
              "            '<a target=\"_blank\" href=https://colab.research.google.com/notebooks/data_table.ipynb>data table notebook</a>'\n",
              "            + ' to learn more about interactive tables.';\n",
              "          element.innerHTML = '';\n",
              "          dataTable['output_type'] = 'display_data';\n",
              "          await google.colab.output.renderOutput(dataTable, element);\n",
              "          const docLink = document.createElement('div');\n",
              "          docLink.innerHTML = docLinkHtml;\n",
              "          element.appendChild(docLink);\n",
              "        }\n",
              "      </script>\n",
              "    </div>\n",
              "  </div>\n",
              "  "
            ]
          },
          "metadata": {},
          "execution_count": 59
        }
      ],
      "source": [
        "test_agg.head(2)"
      ]
    },
    {
      "cell_type": "markdown",
      "id": "56fa25df",
      "metadata": {
        "id": "56fa25df"
      },
      "source": [
        "# 딥러닝"
      ]
    },
    {
      "cell_type": "code",
      "execution_count": 60,
      "id": "ad35d4fe",
      "metadata": {
        "id": "ad35d4fe"
      },
      "outputs": [],
      "source": [
        "X = train_agg\n",
        "y = train['Calories_Burned']"
      ]
    },
    {
      "cell_type": "code",
      "execution_count": 61,
      "id": "18b6045b",
      "metadata": {
        "colab": {
          "base_uri": "https://localhost:8080/",
          "height": 35
        },
        "id": "18b6045b",
        "outputId": "6cdb9e72-a1d3-43e3-c0e1-c3e83c913ce1"
      },
      "outputs": [
        {
          "output_type": "execute_result",
          "data": {
            "text/plain": [
              "'2.12.0'"
            ],
            "application/vnd.google.colaboratory.intrinsic+json": {
              "type": "string"
            }
          },
          "metadata": {},
          "execution_count": 61
        }
      ],
      "source": [
        "# tensorflow import \n",
        "import tensorflow as tf\n",
        "\n",
        "tf.__version__"
      ]
    },
    {
      "cell_type": "code",
      "execution_count": 63,
      "id": "48c5e1c7",
      "metadata": {
        "id": "48c5e1c7"
      },
      "outputs": [],
      "source": [
        "model = tf.keras.Sequential([\n",
        "    tf.keras.layers.Dense(units=128, activation='relu', input_shape=[X.shape[1]]),\n",
        "    tf.keras.layers.Dense(units=64, activation='relu'),\n",
        "    tf.keras.layers.Dense(units=32, activation='relu'),\n",
        "    tf.keras.layers.Dense(units=1)\n",
        "])"
      ]
    },
    {
      "cell_type": "code",
      "execution_count": 64,
      "id": "42e91fbd",
      "metadata": {
        "scrolled": true,
        "id": "42e91fbd"
      },
      "outputs": [],
      "source": [
        "optimizer = tf.keras.optimizers.Adam(0.001)\n",
        "\n",
        "model.compile(loss=\"mse\", \n",
        "              optimizer=optimizer, \n",
        "              metrics=[\"mse\", \"mae\", tf.keras.metrics.RootMeanSquaredError()]\n",
        "              )"
      ]
    },
    {
      "cell_type": "code",
      "execution_count": null,
      "id": "fafd8ad4",
      "metadata": {
        "scrolled": true,
        "id": "fafd8ad4"
      },
      "outputs": [],
      "source": [
        "early_stop = tf.keras.callbacks.EarlyStopping(monitor='val_loss', patience=100)\n",
        "\n",
        "history = model.fit(X, y, \n",
        "                    epochs=1000, validation_split=0.2,\n",
        "                    batch_size=64,\n",
        "                    callbacks=[early_stop], verbose=1)\n",
        "\n",
        "df_hist = pd.DataFrame(history.history)\n",
        "\n",
        "\n",
        "fig, axs = plt.subplots(1, 3, figsize=(16,3))\n",
        "\n",
        "df_hist[['loss', 'val_loss']].plot(ax=axs[0], title='loss')\n",
        "df_hist[['mse', 'val_mse']].plot(ax=axs[1], title='mse')\n",
        "df_hist[['root_mean_squared_error', 'val_root_mean_squared_error']].plot(ax=axs[2], title='rmse');\n",
        "\n",
        "df_hist.tail()"
      ]
    },
    {
      "cell_type": "code",
      "execution_count": 67,
      "id": "3bbf8ffe",
      "metadata": {
        "colab": {
          "base_uri": "https://localhost:8080/"
        },
        "id": "3bbf8ffe",
        "outputId": "cc1296de-a46b-407a-8e34-1ec7a5467188"
      },
      "outputs": [
        {
          "output_type": "execute_result",
          "data": {
            "text/plain": [
              "loss                           0.118414\n",
              "mse                            0.118414\n",
              "mae                            0.275286\n",
              "root_mean_squared_error        0.344113\n",
              "val_loss                       0.181609\n",
              "val_mse                        0.181609\n",
              "val_mae                        0.337085\n",
              "val_root_mean_squared_error    0.426156\n",
              "dtype: float64"
            ]
          },
          "metadata": {},
          "execution_count": 67
        }
      ],
      "source": [
        "df_hist.min()\n"
      ]
    },
    {
      "cell_type": "code",
      "execution_count": 70,
      "id": "39ed8e33",
      "metadata": {
        "colab": {
          "base_uri": "https://localhost:8080/"
        },
        "id": "39ed8e33",
        "outputId": "8f1fde7a-1c0f-4db8-f459-19daf30b46e2"
      },
      "outputs": [
        {
          "output_type": "stream",
          "name": "stdout",
          "text": [
            "235/235 [==============================] - 0s 929us/step\n"
          ]
        },
        {
          "output_type": "execute_result",
          "data": {
            "text/plain": [
              "array([172.77934 , 189.93636 ,  52.782894, 161.49158 , 226.61108 ],\n",
              "      dtype=float32)"
            ]
          },
          "metadata": {},
          "execution_count": 70
        }
      ],
      "source": [
        "y_pred = model.predict(test_agg)\n",
        "y_predict = y_pred.flatten()\n",
        "y_predict[:5]"
      ]
    },
    {
      "cell_type": "code",
      "execution_count": 71,
      "id": "6157c21c",
      "metadata": {
        "id": "6157c21c"
      },
      "outputs": [],
      "source": [
        "submission['Calories_Burned'] = y_predict\n",
        "submission.to_csv('the_calories_5차_DL')\n"
      ]
    },
    {
      "cell_type": "code",
      "execution_count": 73,
      "id": "89175db0",
      "metadata": {
        "id": "89175db0"
      },
      "outputs": [],
      "source": [
        "submission.to_csv('the_calorie_5차_Deep_Learning.csv')"
      ]
    }
  ],
  "metadata": {
    "kernelspec": {
      "display_name": "Python 3 (ipykernel)",
      "language": "python",
      "name": "python3"
    },
    "language_info": {
      "codemirror_mode": {
        "name": "ipython",
        "version": 3
      },
      "file_extension": ".py",
      "mimetype": "text/x-python",
      "name": "python",
      "nbconvert_exporter": "python",
      "pygments_lexer": "ipython3",
      "version": "3.9.12"
    },
    "toc": {
      "base_numbering": 1,
      "nav_menu": {},
      "number_sections": true,
      "sideBar": true,
      "skip_h1_title": false,
      "title_cell": "Table of Contents",
      "title_sidebar": "Contents",
      "toc_cell": false,
      "toc_position": {
        "height": "calc(100% - 180px)",
        "left": "10px",
        "top": "150px",
        "width": "388.212px"
      },
      "toc_section_display": true,
      "toc_window_display": false
    },
    "colab": {
      "provenance": []
    }
  },
  "nbformat": 4,
  "nbformat_minor": 5
}